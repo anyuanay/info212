{
  "nbformat": 4,
  "nbformat_minor": 0,
  "metadata": {
    "kernelspec": {
      "display_name": "Python 3",
      "language": "python",
      "name": "python3"
    },
    "language_info": {
      "codemirror_mode": {
        "name": "ipython",
        "version": 3
      },
      "file_extension": ".py",
      "mimetype": "text/x-python",
      "name": "python",
      "nbconvert_exporter": "python",
      "pygments_lexer": "ipython3",
      "version": "3.7.6"
    },
    "colab": {
      "provenance": [],
      "include_colab_link": true
    }
  },
  "cells": [
    {
      "cell_type": "markdown",
      "metadata": {
        "id": "view-in-github",
        "colab_type": "text"
      },
      "source": [
        "<a href=\"https://colab.research.google.com/github/anyuanay/info212/blob/main/INFO212_Week1_Numpy.ipynb\" target=\"_parent\"><img src=\"https://colab.research.google.com/assets/colab-badge.svg\" alt=\"Open In Colab\"/></a>"
      ]
    },
    {
      "cell_type": "markdown",
      "metadata": {
        "id": "5vtOt0m3UXdz"
      },
      "source": [
        "# INFO 212: Data Science Programming 1\n",
        "___\n",
        "\n",
        "## Lecture: Numpy: Arrays and Vectorized Computation\n",
        "___\n",
        "\n",
        "**Agenda:**\n",
        "- Introduction to NumPy\n",
        " * What is NumPy?\n",
        " * Why use NumPy?\n",
        "- Getting Started with NumPy\n",
        " * Installation and Setup\n",
        " * Creating Arrays\n",
        "- Diving Deep: Array Basics\n",
        " * Array Properties\n",
        " * Reshaping and Flattening\n",
        " * Basic Operations\n",
        "- Advanced Array Operations\n",
        " * Broadcasting\n",
        " * Indexing and Slicing\n",
        " * Fancy Indexing\n",
        "- Mathematical Capabilities\n",
        " * Universal Functions (ufuncs)\n",
        " * Aggregation Functions\n",
        " * Aggregation on Axes\n",
        " * Matrix Operations\n",
        " * Linear Algebra with NumPy\n",
        "- Utility and Functionalities\n",
        " * Random Number Generation\n",
        " * File I/O\n",
        " * Advanced Features (Optional)\n",
        "- Practical Applications\n",
        " * Real-world uses of NumPy"
      ]
    },
    {
      "cell_type": "markdown",
      "source": [
        "# Write High Quality Code at Any Point of Your Programming Journey\n",
        "\n",
        "## Code quality is defined by a set of attributes such as\n",
        "- Maintainability\n",
        "- Reusability\n",
        "- Readability\n",
        "- Efficiency\n",
        "- Error proneness\n",
        "- Modularity.\n",
        "\n",
        "## Adopt a Coding Convention\n",
        "- Use camelCase and PascalCase\n",
        "- camelCase:\n",
        "- aVariables\n",
        "- aFunctionName\n",
        "- PascalCase:\n",
        "- ClassName\n",
        "- ConstantName\n",
        "- EnumSet\n",
        "- Meaningful names\n",
        "- Short lines\n",
        "\n",
        "## Write comments\n",
        "- Add comments to explain your functions\n",
        "- Add comments to explain your logic\n",
        "- Add comments to explain your thoughts\n",
        "- Add comments to explain the pre- and post- conditions\n",
        "- Add comments to explain the usage\n",
        "- It is all for your own benefits and others.\n",
        "\n",
        "## Adopt test-driven development\n",
        "- Test and verify the code geneated by AI tools, that is where you separate yourself from a machine.\n",
        "- Think about all the things that could trip your code up and write tests to ensure that your code caters for all scenarios.\n",
        "- Murphy’s Law: Anything can go wrong, will go wrong.\n",
        "- You test should achieve 100% coverage.\n",
        "- Test all extreme cases and boundary conditions."
      ],
      "metadata": {
        "id": "ud2Hhpwb9vYn"
      }
    },
    {
      "cell_type": "markdown",
      "source": [
        "# What is Numpy?\n",
        "- A fundamental library for numerical computing in Python.\n",
        "- Main feature: n-dimensional array object.\n",
        "![](https://i.imgur.com/dKrKVKk.jpg)"
      ],
      "metadata": {
        "id": "RC8hyuQiyH3p"
      }
    },
    {
      "cell_type": "markdown",
      "source": [
        "# Why use Numpy?\n",
        "- Efficient numerical operations\n",
        "- Integral for other Python scientific libraries\n",
        "- Built-in mathematical functions and capabilities"
      ],
      "metadata": {
        "id": "cMWPHQ6Zznav"
      }
    },
    {
      "cell_type": "code",
      "source": [
        "import numpy as np\n",
        "import time\n",
        "import math\n",
        "\n",
        "# Size of our large array\n",
        "N = 10**6\n",
        "\n",
        "# Create two large lists\n",
        "list1 = [i for i in range(N)]\n",
        "list2 = [i for i in range(N)]"
      ],
      "metadata": {
        "id": "RtKx7DFcRBTl"
      },
      "execution_count": null,
      "outputs": []
    },
    {
      "cell_type": "code",
      "source": [
        "len(list1), len(list2)"
      ],
      "metadata": {
        "colab": {
          "base_uri": "https://localhost:8080/"
        },
        "id": "bhWLIwLlGvfs",
        "outputId": "73116adc-ca25-4b25-aba5-50a0508980bc"
      },
      "execution_count": null,
      "outputs": [
        {
          "output_type": "execute_result",
          "data": {
            "text/plain": [
              "(1000000, 1000000)"
            ]
          },
          "metadata": {},
          "execution_count": 2
        }
      ]
    },
    {
      "cell_type": "code",
      "source": [
        "# Create two large NumPy arrays\n",
        "array1 = np.arange(N)\n",
        "array2 = np.arange(N)\n",
        "\n",
        "array1.shape, array2.shape"
      ],
      "metadata": {
        "colab": {
          "base_uri": "https://localhost:8080/"
        },
        "id": "uZMpyjGrGzIZ",
        "outputId": "1e3dde62-1ab8-41f2-b745-a0ec435dc00f"
      },
      "execution_count": null,
      "outputs": [
        {
          "output_type": "execute_result",
          "data": {
            "text/plain": [
              "((1000000,), (1000000,))"
            ]
          },
          "metadata": {},
          "execution_count": 3
        }
      ]
    },
    {
      "cell_type": "code",
      "source": [
        "# Measure the time for adding two lists using Python's built-in operations\n",
        "start_time = time.time()\n",
        "result_list = [list1[i] + list2[i] for i in range(N)]\n",
        "end_time = time.time()\n",
        "list_time = end_time - start_time\n",
        "print(\"Time taken for Python lists: {:.6f} seconds\".format(list_time))"
      ],
      "metadata": {
        "colab": {
          "base_uri": "https://localhost:8080/"
        },
        "id": "vvGGIuElG4C3",
        "outputId": "2fb4a647-0f7d-4710-8694-3335c6d6f789"
      },
      "execution_count": null,
      "outputs": [
        {
          "output_type": "stream",
          "name": "stdout",
          "text": [
            "Time taken for Python lists: 0.169778 seconds\n"
          ]
        }
      ]
    },
    {
      "cell_type": "code",
      "source": [
        "# Calculate the order of magnitude of the time difference\n",
        "order_of_magnitude = math.log10(list_time / numpy_time)\n",
        "print(f\"The time taken using Python lists is approximately {order_of_magnitude:.2f} orders of magnitude longer than using NumPy arrays.\")"
      ],
      "metadata": {
        "colab": {
          "base_uri": "https://localhost:8080/"
        },
        "id": "MRyHnLS8HCm9",
        "outputId": "59ac13cf-510f-4432-d91a-787e22a11f57"
      },
      "execution_count": null,
      "outputs": [
        {
          "output_type": "stream",
          "name": "stdout",
          "text": [
            "The time taken using Python lists is approximately 1.33 orders of magnitude longer than using NumPy arrays.\n"
          ]
        }
      ]
    },
    {
      "cell_type": "markdown",
      "source": [
        "# Creating Arrays\n",
        "NumPy offers multiple functions to create arrays with different sizes and dimensions.\n",
        "\n",
        "```\n",
        "np.array([4, 5, 6])\n",
        "np.zeros((2,2))\n",
        "np.ones(3)\n",
        "np.arange(0, 10, 2)\n",
        "np.linspace(0, 1, 5)\n",
        "```"
      ],
      "metadata": {
        "id": "jiOwhn-6t5d7"
      }
    },
    {
      "cell_type": "markdown",
      "source": [
        "## Exercise:\n",
        "Create a 3x4 numpy array using a list of lists."
      ],
      "metadata": {
        "id": "eVHM-C5KHYrv"
      }
    },
    {
      "cell_type": "code",
      "source": [],
      "metadata": {
        "id": "0flXAhi7HYTh"
      },
      "execution_count": null,
      "outputs": []
    },
    {
      "cell_type": "markdown",
      "source": [
        "# Array Properties\n",
        "Arrays have attributes that provide information about their content and layout.\n",
        "```\n",
        "arr = np.array([[1, 2], [3, 4]])\n",
        "arr.shape  # (2, 2)\n",
        "arr.dtype  # int64\n",
        "arr.size   # 4\n",
        "arr.ndim   # 2\n",
        "```"
      ],
      "metadata": {
        "id": "3N5_gy4L0NWP"
      }
    },
    {
      "cell_type": "markdown",
      "source": [
        "## Exercise:\n",
        "Type the above statements and check the results."
      ],
      "metadata": {
        "id": "5GTu5wpXH6pv"
      }
    },
    {
      "cell_type": "code",
      "source": [],
      "metadata": {
        "id": "dfLuz1Lc0DTo"
      },
      "execution_count": null,
      "outputs": []
    },
    {
      "cell_type": "markdown",
      "source": [
        "# Reshaping Arrays\n",
        "Changing the structure (number of rows, columns, dimensions) of an array without changing its data.\n",
        "```\n",
        "arr = np.arange(6)\n",
        "arr.reshape(2, 3)\n",
        "arr.ravel()  # Flattens the array\n",
        "```"
      ],
      "metadata": {
        "id": "yBxy0-UE0rzC"
      }
    },
    {
      "cell_type": "markdown",
      "source": [
        "## Exercise:\n",
        "Reshape the 3x4 array as 2x6. Can it be reshaped as a 3x5 array?"
      ],
      "metadata": {
        "id": "_9f-H5HCIGMF"
      }
    },
    {
      "cell_type": "code",
      "source": [],
      "metadata": {
        "id": "6YoPrj7gu0mL"
      },
      "execution_count": null,
      "outputs": []
    },
    {
      "cell_type": "markdown",
      "source": [
        "# Basic Operations\n",
        "We can perform element-wise operations on arrays.\n",
        "```\n",
        "a = np.array([1, 2, 3])\n",
        "b = np.array([4, 5, 6])\n",
        "a + b  # array([5, 7, 9])\n",
        "a * b  # array([4, 10, 18])\n",
        "```"
      ],
      "metadata": {
        "id": "bYDFFS2G1Ake"
      }
    },
    {
      "cell_type": "markdown",
      "source": [
        "## Exercise:\n",
        "What is the result of `a/b`?"
      ],
      "metadata": {
        "id": "e9ONd5dmNOex"
      }
    },
    {
      "cell_type": "code",
      "source": [],
      "metadata": {
        "id": "HADVMiv_1J7P"
      },
      "execution_count": null,
      "outputs": []
    },
    {
      "cell_type": "markdown",
      "source": [
        "# Broadcasting\n",
        "Broadcasting defines how NumPy handles operations on arrays of different shapes. It extends smaller arrays to match the shape of larger ones.\n",
        "```\n",
        "a = np.array([1, 2, 3])\n",
        "b = 2\n",
        "a * b  # array([2, 4, 6])\n",
        "```"
      ],
      "metadata": {
        "id": "aKEk2MW21MfX"
      }
    },
    {
      "cell_type": "markdown",
      "source": [
        "## Exercise:\n",
        "Can you add a 3x4 array and a 1x4 array? Can you add a 3x4 array and a 2x4 array? Can you add a 3x1 array and a 2x4 array? Can you add a 2x1 array and a 2x4 array? Can you add a 3x4 array and a 3x1 array? Explain what is broadcasted in each permissiable operation."
      ],
      "metadata": {
        "id": "B4jEZ7XiNbi-"
      }
    },
    {
      "cell_type": "code",
      "source": [],
      "metadata": {
        "id": "L5b0qSSX1yaf"
      },
      "execution_count": null,
      "outputs": []
    },
    {
      "cell_type": "markdown",
      "source": [
        "# Indexing and Slicing\n",
        "Accessing parts of the array based on conditions or positions.\n",
        "```\n",
        "arr = np.array([[1, 2, 3], [4, 5, 6]])\n",
        "arr[0, 1]      # 2\n",
        "arr[:, 1:3]    # array([[2, 3], [5, 6]])\n",
        "```"
      ],
      "metadata": {
        "id": "gM8GHCOl1y0G"
      }
    },
    {
      "cell_type": "markdown",
      "metadata": {
        "id": "X_1eYsGRUXeJ"
      },
      "source": [
        "$m\\times n$ array's index starts from 0, 0 to m, n.\n",
        "![](https://i.imgur.com/2zwzXCw.png)"
      ]
    },
    {
      "cell_type": "code",
      "source": [],
      "metadata": {
        "id": "g5UHJKj81_K_"
      },
      "execution_count": null,
      "outputs": []
    },
    {
      "cell_type": "markdown",
      "source": [
        "# Fancy Indexing\n",
        "We also can use integer arrays or boolean values for array indexing.\n",
        "```\n",
        "arr = np.array([10, 20, 30, 40, 50])\n",
        "idx = np.array([1, 3])\n",
        "arr[idx]  # array([20, 40])\n",
        "```"
      ],
      "metadata": {
        "id": "6iuCB0As2JeF"
      }
    },
    {
      "cell_type": "markdown",
      "source": [
        "## Exercise:\n",
        "Given an array. Extract all the items that have an odd index."
      ],
      "metadata": {
        "id": "grkbglqeO7pu"
      }
    },
    {
      "cell_type": "code",
      "source": [],
      "metadata": {
        "id": "nozlGcbjBns3"
      },
      "execution_count": null,
      "outputs": []
    },
    {
      "cell_type": "markdown",
      "source": [
        "# Random Number Generation\n",
        "Generate arrays of random numbers from various distributions.\n",
        "```\n",
        "np.random.rand(3, 2)     # Uniform distribution between [0, 1)\n",
        "np.random.randn(5)      # Standard normal distribution\n",
        "np.random.randint(1, 10, size=4)  # 4 random integers between 1 (inclusive) a\n",
        "```"
      ],
      "metadata": {
        "id": "Nw5GonqkDnS2"
      }
    },
    {
      "cell_type": "markdown",
      "source": [
        "## Exercise:\n",
        "Test the above statements to generate arraies with random values."
      ],
      "metadata": {
        "id": "Yds76_PeWBhm"
      }
    },
    {
      "cell_type": "code",
      "source": [],
      "metadata": {
        "id": "mKcxcTlVWJge"
      },
      "execution_count": null,
      "outputs": []
    },
    {
      "cell_type": "markdown",
      "source": [
        "# Universal Functions\n",
        "Efficient functions that operate on ndarrays in an element-wise manner.\n",
        "```\n",
        "arr = np.array([0, π/2, π])\n",
        "np.sin(arr)  # array([0., 1., 0.])\n",
        "```"
      ],
      "metadata": {
        "id": "WsMzqtCtBoEA"
      }
    },
    {
      "cell_type": "code",
      "source": [],
      "metadata": {
        "id": "49HaTx0JB9ho"
      },
      "execution_count": null,
      "outputs": []
    },
    {
      "cell_type": "markdown",
      "source": [
        "# Aggregate Functions\n",
        "Functions that summarize values in arrays.\n",
        "```\n",
        "arr = np.array([1, 2, 3, 4, 5])\n",
        "np.sum(arr)   # 15\n",
        "np.mean(arr)  # 3.0\n",
        "```"
      ],
      "metadata": {
        "id": "q2IAHmgLB9xv"
      }
    },
    {
      "cell_type": "markdown",
      "source": [
        "## Exercise:\n",
        "Create an array with 10 random numbers between 10 and 50. Calculate their mean."
      ],
      "metadata": {
        "id": "VPasnjapUDOj"
      }
    },
    {
      "cell_type": "code",
      "source": [],
      "metadata": {
        "id": "NgQEvFBCCLBu"
      },
      "execution_count": null,
      "outputs": []
    },
    {
      "cell_type": "markdown",
      "source": [
        "# Aggregation on Axes\n",
        "Aggregating on an axis means performing a computation along the specified dimension, reducing its size.\n",
        "- For example, when you sum over axis=0, you're summing across rows (resulting in a column vector).\n",
        "- Summing over axis=1 sums across columns (resulting in a row vector).\n",
        "\n",
        "Common Aggregations: sum(), mean(), std(), etc., can all take an axis argument.\n",
        "```\n",
        "arr = np.array([[1, 2, 3], [4, 5, 6]])\n",
        "arr.sum(axis=0)  # Output: array([5, 7, 9])\n",
        "arr.mean(axis=1) # Output: array([2., 5.])\n",
        "```\n",
        "\n",
        "The concept of axes extends beyond 2D arrays. For a 3D array, you'd also have axis=2, and so forth for higher dimensions"
      ],
      "metadata": {
        "id": "WzQOj-WDCoB9"
      }
    },
    {
      "cell_type": "markdown",
      "source": [
        "## Exercise:\n",
        "Create a 4x5 array with random values in [0, 1]. Calculate the mean of each row, mean of each column, and the overall mean."
      ],
      "metadata": {
        "id": "yE4nAeFRUlva"
      }
    },
    {
      "cell_type": "code",
      "source": [],
      "metadata": {
        "id": "SuAfDdA0DPPF"
      },
      "execution_count": null,
      "outputs": []
    },
    {
      "cell_type": "markdown",
      "source": [
        "# Matrix Operations\n",
        "Operations on two-dimensional arrays.\n",
        "```\n",
        "a = np.array([[1, 2], [3, 4]])\n",
        "b = np.array([[2, 0], [0, 2]])\n",
        "np.dot(a, b)    # Matrix product\n",
        "a.T             # Transpose of a matrix\n",
        "```"
      ],
      "metadata": {
        "id": "cspjacWzDP4s"
      }
    },
    {
      "cell_type": "markdown",
      "source": [
        "## Exercise:\n",
        "Manually verify the result of `axb`."
      ],
      "metadata": {
        "id": "Fvlh93hpVLHi"
      }
    },
    {
      "cell_type": "code",
      "source": [],
      "metadata": {
        "id": "I1qGwvQhDaZA"
      },
      "execution_count": null,
      "outputs": []
    },
    {
      "cell_type": "markdown",
      "source": [
        "# Linear Algebra with NumPy\n",
        "NumPy provides a suite of linear algebra operations.\n",
        "```\n",
        "matrix = np.array([[1, 2], [3, 4]])\n",
        "np.linalg.inv(matrix)  # Find the inverse\n",
        "np.linalg.det(matrix)  # Compute the determinant\n",
        "eig_vals, eig_vecs = np.linalg.eig(matrix)  # Eigenvalues & Eigenvectors\n",
        "```"
      ],
      "metadata": {
        "id": "d0Rcjdh_Da9F"
      }
    },
    {
      "cell_type": "markdown",
      "source": [
        "## Exercise:\n",
        "Cosine similarity is a measure used to determine how similar two vectors are in a given vector space. It calculates the cosine of the angle between the two vectors, which measures the orientation and magnitude of their similarity regardless of their size.\n",
        "\n",
        "In mathematical terms, given two vectors a and b in an n-dimensional space, the cosine similarity between a and b is the result of dividing their dot product by the product of their lengths. Given `a=np.array([1, 2, 3]), b=np.array([1, 1, 2]), and c=np.array([2, 1, 3])`. Calculate the cosine similarities between each pair of vectors."
      ],
      "metadata": {
        "id": "StL3vzARYJcf"
      }
    },
    {
      "cell_type": "code",
      "source": [],
      "metadata": {
        "id": "EccY-OB7DyL1"
      },
      "execution_count": null,
      "outputs": []
    },
    {
      "cell_type": "markdown",
      "source": [
        "# File I/O\n",
        "\n",
        "Reading from and writing to files with NumPy functionalities.\n",
        "```\n",
        "arr = np.array([[1, 2], [3, 4]])\n",
        "np.save('my_array.npy', arr)           # Save to a .npy binary file\n",
        "loaded_arr = np.load('my_array.npy')   # Load from a .npy binary file\n",
        "np.savetxt('my_array.txt', arr)        # Save to a text file\n",
        "loaded_txt = np.loadtxt('my_array.txt')# Load from a text file\n",
        "```"
      ],
      "metadata": {
        "id": "qapNMY8_DycV"
      }
    },
    {
      "cell_type": "markdown",
      "source": [
        "## Exercise:\n",
        "Save and load the above array to/from Google Drive."
      ],
      "metadata": {
        "id": "z_4pLib9Zn8g"
      }
    },
    {
      "cell_type": "code",
      "source": [],
      "metadata": {
        "id": "3wOmfus8EGgV"
      },
      "execution_count": null,
      "outputs": []
    },
    {
      "cell_type": "markdown",
      "source": [
        "# Advanced Features\n",
        "More complex functionalities and manipulations provided by NumPy.\n",
        "\n",
        "```\n",
        "# Stacking\n",
        "a = np.array([1, 2])\n",
        "b = np.array([3, 4])\n",
        "np.vstack((a, b))   # Vertical stack\n",
        "np.hstack((a, b))   # Horizontal stack\n",
        "\n",
        "# Splitting\n",
        "arr = np.array([[1, 2, 3], [4, 5, 6]])\n",
        "np.hsplit(arr, 3)   # Split array horizontally at the 3rd index\n",
        "```"
      ],
      "metadata": {
        "id": "vQY5tVtoEG2N"
      }
    },
    {
      "cell_type": "markdown",
      "source": [
        "## Exercise:\n",
        "Type and check the results of the above statements."
      ],
      "metadata": {
        "id": "VLYm6cIXaBTX"
      }
    },
    {
      "cell_type": "code",
      "source": [],
      "metadata": {
        "id": "hFeN-XTGEOZl"
      },
      "execution_count": null,
      "outputs": []
    },
    {
      "cell_type": "markdown",
      "source": [
        "# Practical Applications"
      ],
      "metadata": {
        "id": "g8axKcuMEXGu"
      }
    },
    {
      "cell_type": "markdown",
      "source": [
        "## Motivation Scenario\n",
        "#### Imagine you work in a health services center. The Center recently started to monitor the daily body temperatures of their patients. The temperature data is stored as a spreadsheet/tabular format/matrix/2-D array:\n",
        "- each row records a patient's temperatures\n",
        "- each column corresponds to a day\n",
        "\n",
        "#### You want to quickly answer the following questions using Python:\n",
        "- daily mean\n",
        "- patient mean\n",
        "- daily max/min\n",
        "- patient max/min"
      ],
      "metadata": {
        "id": "aAlK1FMK0CAY"
      }
    },
    {
      "cell_type": "markdown",
      "source": [
        "## Data We will Use\n",
        "Go to the Week 2 module on the course shell, download the zipped file \"inflammation-data.zip\" and unzip it in the \"datasets\" folder under \"info212.\" You should see a directory \"inflammation-data\" containing data files.\n",
        "\n",
        "To use the files,\n",
        "- you can upload the entire folder to your Google drive; mount your drive and access them through their absolute paths.\n",
        "- or use files.upload() to upload the files from your local disk to the notebook.\n"
      ],
      "metadata": {
        "id": "tDHCeSBnLoTk"
      }
    },
    {
      "cell_type": "code",
      "source": [],
      "metadata": {
        "id": "8BQuafgVUB-Q"
      },
      "execution_count": null,
      "outputs": []
    },
    {
      "cell_type": "markdown",
      "metadata": {
        "id": "wT4qohx1UXeI"
      },
      "source": [
        "What is the middle value in the array? value at row 30 and column 20."
      ]
    },
    {
      "cell_type": "code",
      "source": [],
      "metadata": {
        "id": "YLkuAX3qEzIs"
      },
      "execution_count": null,
      "outputs": []
    },
    {
      "cell_type": "markdown",
      "metadata": {
        "id": "pWjb80ktUXeJ"
      },
      "source": [
        "How to select part of the data? For example, the inflammation of first 10 days for patients 3-6?"
      ]
    },
    {
      "cell_type": "code",
      "metadata": {
        "id": "yF0S1gFWUXeO"
      },
      "source": [],
      "execution_count": null,
      "outputs": []
    },
    {
      "cell_type": "markdown",
      "metadata": {
        "id": "Nryg_bhrUXeP"
      },
      "source": [
        "What if we need the maximum inflammation for each patient over all days (as in the next diagram on the left) or the average for each day (as in the diagram on the right)? As the diagram below shows, we want to perform the operation across an axis.\n",
        "![](https://i.imgur.com/T8tMG7M.png)"
      ]
    },
    {
      "cell_type": "markdown",
      "metadata": {
        "id": "WQqiyuAeUXeU"
      },
      "source": [
        "How to calculate the daily average inflammation?"
      ]
    },
    {
      "cell_type": "markdown",
      "metadata": {
        "id": "619KniFMUXeW"
      },
      "source": [
        "How to calculate the average inflammations for all the patients?"
      ]
    },
    {
      "cell_type": "markdown",
      "metadata": {
        "id": "KY7KXtqMUXeZ"
      },
      "source": [
        "How to visualize the inflammation values in a whole picture?"
      ]
    },
    {
      "cell_type": "markdown",
      "metadata": {
        "id": "eJStufrGUXeZ"
      },
      "source": [
        "```\n",
        "plt.imshow(data)\n",
        "```"
      ]
    },
    {
      "cell_type": "markdown",
      "metadata": {
        "id": "2cPH8hhmUXea"
      },
      "source": [
        "How do the average inflammation values look like across days?"
      ]
    },
    {
      "cell_type": "markdown",
      "metadata": {
        "id": "6pe-LlenUXea"
      },
      "source": [
        "```\n",
        "plt.plot(daily_averages)\n",
        "```"
      ]
    },
    {
      "cell_type": "markdown",
      "metadata": {
        "id": "y7TlO73AUXed"
      },
      "source": [
        "How to put all the figures side by side?"
      ]
    },
    {
      "cell_type": "code",
      "source": [
        "fig = plt.figure(figsize = (10, 3))\n",
        "axe1 = fig.add_subplot(1,3,1)\n",
        "axe2 = fig.add_subplot(132)\n",
        "axe3 = fig.add_subplot(133)\n",
        "\n",
        "axe1.plot(arr.mean(axis=0))\n",
        "axe1.plot(arr.max(axis=0))\n",
        "axe1.plot(arr.min(axis=0))"
      ],
      "metadata": {
        "colab": {
          "base_uri": "https://localhost:8080/",
          "height": 314
        },
        "id": "NEUTUEZgPgm7",
        "outputId": "79144171-4019-4e73-f216-08118f79158e"
      },
      "execution_count": null,
      "outputs": [
        {
          "output_type": "execute_result",
          "data": {
            "text/plain": [
              "[<matplotlib.lines.Line2D at 0x7fd85ac16160>]"
            ]
          },
          "metadata": {},
          "execution_count": 47
        },
        {
          "output_type": "display_data",
          "data": {
            "text/plain": [
              "<Figure size 1000x300 with 3 Axes>"
            ],
            "image/png": "[encoded data removed]"
          },
          "metadata": {}
        }
      ]
    },
    {
      "cell_type": "markdown",
      "metadata": {
        "id": "iBfgfVy2UXed"
      },
      "source": [
        "```\n",
        "fig = plt.figure(figsize=(10, 3))\n",
        "axes1 = fig.add_subplot(131)\n",
        "axes2 = fig.add_subplot(132)\n",
        "axes3 = fig.add_subplot(133)\n",
        "\n",
        "axes1.plot(np.mean(data, axis = 0))\n",
        "axes1.set_ylabel(\"Average\")\n",
        "axes2.plot(np.max(data, axis = 0))\n",
        "axes2.set_ylabel(\"Max\")\n",
        "axes3.plot(np.min(data, axis = 0))\n",
        "axes3.set_ylabel(\"Min\")\n",
        "# axes2.set_xlim(-1, 50)\n",
        "\n",
        "plt.tight_layout()\n",
        "```"
      ]
    },
    {
      "cell_type": "code",
      "source": [
        "files = [\"inflammation-01.csv\", \"inflammation-02.csv\"]\n",
        "list_arrs = []\n",
        "list_arrs.append(np.loadtxt(files[0], delimiter = \",\"))\n",
        "list_arrs.append(np.loadtxt(files[1], delimiter = \",\"))\n",
        "for arr in list_arrs:\n",
        "    fig = plt.figure(figsize=(15,6))\n",
        "    ax1 = fig.add_subplot(131)\n",
        "    ax2 = fig.add_subplot(132)\n",
        "    ax3 = fig.add_subplot(133)\n",
        "    ax1.plot(np.mean(arr, axis=1))\n",
        "    ax1.set_ylabel(\"Average\")\n",
        "    ax2.plot(np.max(arr, axis=1))\n",
        "    ax2.set_ylabel(\"Maximum\")\n",
        "    ax3.plot(np.min(arr, axis=1))\n",
        "    ax3.set_ylabel(\"Minimum\")"
      ],
      "metadata": {
        "colab": {
          "base_uri": "https://localhost:8080/",
          "height": 689
        },
        "id": "2goVD3Nk_62r",
        "outputId": "c9d53a1a-77a0-4c6f-a4b6-2df98f4a47e1"
      },
      "execution_count": null,
      "outputs": [
        {
          "output_type": "display_data",
          "data": {
            "text/plain": [
              "<Figure size 1080x432 with 3 Axes>"
            ],
            "image/png": "[encoded data removed]"
          },
          "metadata": {
            "needs_background": "light"
          }
        },
        {
          "output_type": "display_data",
          "data": {
            "text/plain": [
              "<Figure size 1080x432 with 3 Axes>"
            ],
            "image/png": "[encoded data removed]"
          },
          "metadata": {
            "needs_background": "light"
          }
        }
      ]
    },
    {
      "cell_type": "markdown",
      "metadata": {
        "id": "F8bxxRf4UXef"
      },
      "source": [
        "What is the largest change in inflammation for each patient?"
      ]
    },
    {
      "cell_type": "markdown",
      "metadata": {
        "id": "R2a8WWP8UXef"
      },
      "source": [
        "```\n",
        "np.max(np.diff(data, axis = 1), axis = 1)\n",
        "```"
      ]
    },
    {
      "cell_type": "markdown",
      "metadata": {
        "id": "EWsZ-29lUXef"
      },
      "source": [
        "```\n",
        "plt.scatter(np.arange(0, 60), np.max(np.diff(data, axis = 1), axis = 1))\n",
        "plt.grid()\n",
        "```"
      ]
    },
    {
      "cell_type": "markdown",
      "metadata": {
        "id": "iGXeapsiUXeg"
      },
      "source": [
        "```\n",
        "plt.figure(figsize = (12, 9))\n",
        "plt.scatter(np.arange(0, 60), np.max(np.diff(data, axis = 1), axis = 1), color = 'r')\n",
        "plt.title('Max Inflammation Change for Patient')\n",
        "plt.xlabel(\"patient Index\")\n",
        "plt.ylabel(\"Max Inflammatin Change\")\n",
        "plt.xticks(np.arange(0, 60, 2))\n",
        "```"
      ]
    },
    {
      "cell_type": "markdown",
      "metadata": {
        "id": "L2ujyOcfUXem"
      },
      "source": [
        "### Boolean Indexing\n",
        "How to get the patients whose average inflammation is great than 7?"
      ]
    },
    {
      "cell_type": "markdown",
      "metadata": {
        "id": "8053DY_gUXen"
      },
      "source": [
        "```\n",
        "data[patient_averages > 7]\n",
        "```"
      ]
    },
    {
      "cell_type": "markdown",
      "metadata": {
        "id": "yDBUrforUXet"
      },
      "source": [
        "### Methods for Boolean Arrays\n",
        "Boolean values are coerced to 1 (True) and 0 (False) in the preceding methods. Thus,\n",
        "sum is often used as a means of counting True values in a boolean array.\n",
        "\n",
        "How many inflammation values greater than 15 for each patient?"
      ]
    },
    {
      "cell_type": "markdown",
      "metadata": {
        "id": "e55F6EAfUXet"
      },
      "source": [
        "```\n",
        "np.sum(data > 15, axis = 1)\n",
        "```"
      ]
    },
    {
      "cell_type": "markdown",
      "metadata": {
        "id": "XF-BG_ZEUXeu"
      },
      "source": [
        "## File Input and Output with Arrays\n",
        "np.save and np.load are the two workhorse functions for efficiently saving and loading\n",
        "array data on disk. Arrays are saved by default in an uncompressed raw binary\n",
        "format with file extension .npy."
      ]
    },
    {
      "cell_type": "markdown",
      "metadata": {
        "id": "oVAvPAEmUXeu"
      },
      "source": [
        "```\n",
        "np.save('datasets/inflamation.npy', data)\n",
        "```"
      ]
    },
    {
      "cell_type": "markdown",
      "metadata": {
        "id": "oQI5Ng4rUXev"
      },
      "source": [
        "```\n",
        "data_load = np.load('datasets/inflamation.npy')\n",
        "```"
      ]
    },
    {
      "cell_type": "markdown",
      "metadata": {
        "id": "W8EIICinUXev"
      },
      "source": [
        "```\n",
        "data_load == data\n",
        "```"
      ]
    },
    {
      "cell_type": "markdown",
      "source": [
        "**Summary:**\n",
        "- arr = np.loadtxt('inflammation-01.csv', delimiter=\",\"): load data as np array.\n",
        "- data.shape: get the dimensions of an array\n",
        "- data.mean(axis=0): compute means along row, axis=0, which are column means\n",
        "- data.mean(axis=1): compute means along columns, axis=1, which are row means\n",
        "- plt.plot(np.mean(arr, axis=0)): plot column means\n",
        "- subsetting:\n",
        " - data[6]: row at index=6\n",
        " - data[[3, 5, 7]]: rows at index 3, 5, 7\n",
        " - data[:-1]: all rows except the last one\n",
        "---"
      ],
      "metadata": {
        "id": "TFbd-EQhw-oa"
      }
    }
  ]
}