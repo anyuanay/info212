{
  "nbformat": 4,
  "nbformat_minor": 0,
  "metadata": {
    "kernelspec": {
      "display_name": "Python 3",
      "language": "python",
      "name": "python3"
    },
    "language_info": {
      "codemirror_mode": {
        "name": "ipython",
        "version": 3
      },
      "file_extension": ".py",
      "mimetype": "text/x-python",
      "name": "python",
      "nbconvert_exporter": "python",
      "pygments_lexer": "ipython3",
      "version": "3.7.6"
    },
    "colab": {
      "provenance": [],
      "include_colab_link": true
    }
  },
  "cells": [
    {
      "cell_type": "markdown",
      "metadata": {
        "id": "view-in-github",
        "colab_type": "text"
      },
      "source": [
        "<a href=\"https://colab.research.google.com/github/anyuanay/info212/blob/main/INFO212_Assignment1.ipynb\" target=\"_parent\"><img src=\"https://colab.research.google.com/assets/colab-badge.svg\" alt=\"Open In Colab\"/></a>"
      ]
    },
    {
      "cell_type": "markdown",
      "metadata": {
        "id": "85Z_qr_HpWBn"
      },
      "source": [
        "# Drexel University\n",
        "## College of Computing and Informatics\n",
        "## INFO 212: Data Science Programming I\n",
        "## Assignment 1\n",
        "### Due Date: Sunday, Oct., 13, 2024\n",
        "### This assignment counts for 10% of the final grade\n",
        "\n",
        "### A. Assignment Overview\n",
        "This assignment provides the opportunity for you to practice with Python data analysis basics.\n",
        "\n",
        "### B. What to Hand In\n",
        "\n",
        "Sumbit a completed this Jupyter notebook.\n",
        "\n",
        "### C. How to Hand In\n",
        "\n",
        "Submit your Jupyter notebook file through the course website in the Blackboard Learn system.\n",
        "\n",
        "### D. When to Hand In\n",
        "\n",
        "1. Submit your assignment no later than 11:59pm in the due date.\n",
        "2. There will be a 10% (absolute value) deduction for each day of lateness, to a maximum of 3 days; assignments will not be accepted beyond that point. Missing work will earn a zero grade.\n",
        "\n",
        "### E. Written Presentation Requirements (if applicable)\n",
        "Images must be clear and legible. Assignments will be judged on the basis of visual appearance, grammatical correctness, and quality of writing, as well as their contents. Please make sure that the text of your assignments is well-structured, using paragraphs, full sentences, and other features of well-written presentation. Text font size should be either 11 or 12 points.\n",
        "\n",
        "### F. Marking Schemes:\n",
        "Marking assignments will be based on several aspects: presentation, correctness and coding styles.\n",
        "\n",
        "The following is a set of guidelines for the presentation and coding style in this course:\n",
        "- 1. Write good comments. Marks will be dedecuted if there are no comments.\n",
        "- 2. Your comments must mention the purpose of each parameter, and must be grammatically correct.\n",
        "- 3. When breaking up a long line, break it before an operator, not after.\n",
        "- 4. Present your code and answers in well-structured format.\n",
        "\n",
        "### G. Answer the following questions."
      ]
    },
    {
      "cell_type": "markdown",
      "source": [
        "# STUDENT NAME:"
      ],
      "metadata": {
        "id": "kUlKqbHDACWQ"
      }
    },
    {
      "cell_type": "markdown",
      "metadata": {
        "id": "PnXpB8eXpWBy"
      },
      "source": [
        "\n",
        "## Question 1 [60 marks]: Data Gathering and Dive. Do not write any code in your answers to the following questions. You are only allowed to express your thoughts in plain text.\n",
        "Data.gov is the United States government's open data website. It provides access to datasets published by agencies across the federal government. Navigate to data.gov and Explore the various categories and choose a dataset that you find intriguing. Ensure that the dataset you select has a substantial amount of data for analysis (preferably more than 500 records)."
      ]
    },
    {
      "cell_type": "markdown",
      "source": [
        "1. Provide the name of the dataset. Include the direct link to the dataset's page on data.gov."
      ],
      "metadata": {
        "id": "D7OWx-5NcecZ"
      }
    },
    {
      "cell_type": "markdown",
      "source": [
        "2. Familiarize yourself with the dataset. Understand its structure, the types of variables it contains, and its overall context. Describe the following metadata about the dataset:\n",
        "The source agency or organization that provided the dataset. The date the dataset was last updated. The number of records and variables (columns). The purpose or context of collecting this data."
      ],
      "metadata": {
        "id": "LxlHga5rcn8h"
      }
    },
    {
      "cell_type": "markdown",
      "source": [
        "3. List the names of the columns/attributes of the data set. Describe the meaning of each column/attribute including its data type and example value."
      ],
      "metadata": {
        "id": "GV6_63DEdYmj"
      }
    },
    {
      "cell_type": "markdown",
      "source": [
        "4. Download the dataset from data.gov. If the dataset is large, you may choose to work with a subset of it. Open the dataset in a text editor, Excel, or any applications you can use. Show first 3 records from the dataset."
      ],
      "metadata": {
        "id": "sQDJ_SSmd4CY"
      }
    },
    {
      "cell_type": "markdown",
      "source": [
        "5. Given the dataset of your choice, craft three meaningful analytical questions. Each of your questions should necessitate a combination of extraction, aggregation, comparison, and visualization steps. Describe each question and analytical operations in detail. For each question, make sure you describe:\n",
        "\n",
        "    - Extraction: Identify which parts of the data are essential and any preprocessing or wrangling steps required.\n",
        "    - Aggregation: Highlight if any summarization or grouping operations are needed.\n",
        "    - Comparison: Mention if your analysis requires comparing different data segments, times, or groups.\n",
        "    - Visualization: Suggest a suitable visualization technique or chart type that would effectively communicate the results of your analysis.\n",
        "\n",
        " Examples: If your dataset was about global climate data over the last century:\n",
        "    - Your question might be: \"How has the average temperature in major coastal cities changed over the decades, and how does this compare to cities situated inland?\"\n",
        "\n",
        " The analytical operations are:\n",
        "    - Extraction: From columns xxx, xxx, .... select temperature data for major coastal cities and major inland cities.\n",
        "    - Aggregation: Calculate the average temperature for each decade. The calculation applies to columns xxx, xxx, ...\n",
        "    - Comparison: Compare the temperature trends between coastal and inland cities. The comparison is between xxx, xxx, ...\n",
        "    - Visualization: Plot the columns xxx, xxx, ..., to generate a line chart showcasing temperature trends over decades for both city types."
      ],
      "metadata": {
        "id": "I-gBkRl_eRVK"
      }
    },
    {
      "cell_type": "code",
      "metadata": {
        "id": "Yk7oMQL1pWB0"
      },
      "source": [],
      "execution_count": null,
      "outputs": []
    },
    {
      "cell_type": "markdown",
      "metadata": {
        "id": "aKk9lxjFGehU"
      },
      "source": [
        "## Question 2 [20 marks]:\n",
        "Download the zipped file \"inflammation-data.zip\" and unzip it in a folder. You should see a directory \"inflammation-data\" containing data files. Load the data in the file 'inflammation-05.csv' to an Numpy array."
      ]
    },
    {
      "cell_type": "code",
      "source": [],
      "metadata": {
        "id": "DuojG78TEHmr"
      },
      "execution_count": null,
      "outputs": []
    },
    {
      "cell_type": "markdown",
      "source": [
        "1. Suppose the rows represent patients, and columns represent days. How many patients and how many days does the file contain?"
      ],
      "metadata": {
        "id": "-COk7Y2SEIER"
      }
    },
    {
      "cell_type": "code",
      "source": [],
      "metadata": {
        "id": "VV_HoXdOELCC"
      },
      "execution_count": null,
      "outputs": []
    },
    {
      "cell_type": "markdown",
      "source": [
        "2. Extract and display the values of the last 10 patients' inflammation in last 10 days."
      ],
      "metadata": {
        "id": "D7CmxynfEOVL"
      }
    },
    {
      "cell_type": "code",
      "source": [],
      "metadata": {
        "id": "JXBKfvBuES3S"
      },
      "execution_count": null,
      "outputs": []
    },
    {
      "cell_type": "markdown",
      "source": [
        "3. For each patient, compute the average inflammation over all days. You should compute all patients' average inflammation values in single line. The result is an array."
      ],
      "metadata": {
        "id": "DbwrGq-RETIR"
      }
    },
    {
      "cell_type": "code",
      "source": [],
      "metadata": {
        "id": "tBk5V534EVpR"
      },
      "execution_count": null,
      "outputs": []
    },
    {
      "cell_type": "markdown",
      "source": [
        "4. Plot all patients' averages and label the plot with \"Average Inflammation of Patients\"."
      ],
      "metadata": {
        "id": "RPDvaLaCEV_S"
      }
    },
    {
      "cell_type": "code",
      "source": [],
      "metadata": {
        "id": "fbERtA5UEYiZ"
      },
      "execution_count": null,
      "outputs": []
    },
    {
      "cell_type": "markdown",
      "source": [
        "5. For each day, compute the average inflammation over all patients. You should compute all the daily average inflammation values in a single line. The result is an array."
      ],
      "metadata": {
        "id": "JeT5np8CEY1x"
      }
    },
    {
      "cell_type": "code",
      "source": [],
      "metadata": {
        "id": "iIRQvmbTEbfr"
      },
      "execution_count": null,
      "outputs": []
    },
    {
      "cell_type": "markdown",
      "source": [
        "6. Plot all daily averages and label the plot with \"Average Inflammation of Days\""
      ],
      "metadata": {
        "id": "iRmgrAvgEbv5"
      }
    },
    {
      "cell_type": "code",
      "source": [],
      "metadata": {
        "id": "RmbbguVLEcxJ"
      },
      "execution_count": null,
      "outputs": []
    },
    {
      "cell_type": "markdown",
      "metadata": {
        "id": "SeEqOMBkGehV"
      },
      "source": [
        "\n",
        "## Qestion 3 [20 marks]:\n",
        "Continue with the 'inflammation-data' directory. Given the following list of file names:\n",
        "```\n",
        "filenames = ['inflammation-02.csv', 'inflammation-04.csv', 'inflammation-06.csv'],\n",
        "```\n",
        "write a program to plot the daily averages, maximums, and minimums of inflammation for each of the file. Your plot should have three rows each of which shows side-by-side plots of average, max, and min. The following figure illustrates the expected outcome:\n",
        "![](https://i.imgur.com/XXT2Jqw.png)"
      ]
    },
    {
      "cell_type": "code",
      "source": [
        "# Your code here\n"
      ],
      "metadata": {
        "id": "N6-CStI-Ej6G"
      },
      "execution_count": null,
      "outputs": []
    }
  ]
}