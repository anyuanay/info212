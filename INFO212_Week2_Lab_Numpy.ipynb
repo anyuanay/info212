{
  "nbformat": 4,
  "nbformat_minor": 0,
  "metadata": {
    "kernelspec": {
      "display_name": "Python 3",
      "language": "python",
      "name": "python3"
    },
    "language_info": {
      "codemirror_mode": {
        "name": "ipython",
        "version": 3
      },
      "file_extension": ".py",
      "mimetype": "text/x-python",
      "name": "python",
      "nbconvert_exporter": "python",
      "pygments_lexer": "ipython3",
      "version": "3.7.1"
    },
    "colab": {
      "provenance": [],
      "include_colab_link": true
    }
  },
  "cells": [
    {
      "cell_type": "markdown",
      "metadata": {
        "id": "view-in-github",
        "colab_type": "text"
      },
      "source": [
        "<a href=\"https://colab.research.google.com/github/anyuanay/info212/blob/main/INFO212_Week2_Lab_Numpy.ipynb\" target=\"_parent\"><img src=\"https://colab.research.google.com/assets/colab-badge.svg\" alt=\"Open In Colab\"/></a>"
      ]
    },
    {
      "cell_type": "markdown",
      "metadata": {
        "id": "aWL1iSNqF4kn"
      },
      "source": [
        "# INFO 212: Data Science Programming 1\n",
        "## CCI at Drexel University\n",
        "\n",
        "\n",
        "## Week 2: Lab: Numpy\n",
        "\n",
        "## What to do:\n",
        "- Answer each question individually.\n",
        "- Comment on each single statement.\n",
        "- Each missing comment will be penalized by 1 point.\n",
        "- Verify the code by showing meaningful results.\n"
      ]
    },
    {
      "cell_type": "markdown",
      "source": [
        "## Exercise 1:\n",
        "Create a 2D numpy array called 'arr' with 40 rows and 60 columns. Fill up the array with random numbers between 30 and 150 (inclusive as in [30, 150])."
      ],
      "metadata": {
        "id": "2094apf55oZd"
      }
    },
    {
      "cell_type": "code",
      "source": [],
      "metadata": {
        "id": "xp6hSnStU6hN"
      },
      "execution_count": null,
      "outputs": []
    },
    {
      "cell_type": "markdown",
      "source": [
        "## Exercise 2:\n",
        "Save the above array 'arr' as a text file using tabs as the delimiters for separating values. Load the saved txt file back the the numpy array again."
      ],
      "metadata": {
        "id": "-cLRwkj-DeMQ"
      }
    },
    {
      "cell_type": "code",
      "source": [],
      "metadata": {
        "id": "IzvpNKUoRMcN"
      },
      "execution_count": null,
      "outputs": []
    },
    {
      "cell_type": "markdown",
      "source": [
        "## Exercise 3:\n",
        "- Reshape the array 'arr' in Exercise 1 to a possible 3D array.\n",
        "- Flatten the array 'arr' in Exercise 1 to 1D array."
      ],
      "metadata": {
        "id": "OvcpEjeE8pp0"
      }
    },
    {
      "cell_type": "code",
      "source": [],
      "metadata": {
        "id": "Bmsrs28jZ5ei"
      },
      "execution_count": null,
      "outputs": []
    },
    {
      "cell_type": "markdown",
      "source": [
        "## Exercise 4:\n",
        "When you add a (3x5) numpy array to a (1x5) numpy array, array broadcast works.  Explain **in your own words** which array is broadcasted on which dimension."
      ],
      "metadata": {
        "id": "AVmFz_adQbMf"
      }
    },
    {
      "cell_type": "code",
      "source": [],
      "metadata": {
        "id": "Lf0zxTKrRV1r"
      },
      "execution_count": null,
      "outputs": []
    },
    {
      "cell_type": "markdown",
      "source": [
        "## Exercise 5:\n",
        "Create a numpy array with random numbers in 5 rows and 6 columns in (0, 100). Using numpy operation to show:\n",
        "- means of rows\n",
        "- means of columns\n",
        "- the overall mean\n",
        "- A subset of the array. Show the content and shape of the subset."
      ],
      "metadata": {
        "id": "1zR4rESWQbMf"
      }
    },
    {
      "cell_type": "code",
      "source": [],
      "metadata": {
        "id": "ZfjklnhlQbMf"
      },
      "execution_count": null,
      "outputs": []
    },
    {
      "cell_type": "markdown",
      "source": [
        "## Exercise 6:\n",
        "Download inflammation-data.zip from Week 2. Unzip the package in disck. Count the number of files in the folder `inflammation-data`. Use statements to choose a random file from the list files whose names containing \"inflammation\". Use the following statement to load the file as a numpy array:\n",
        "\n",
        "`arr = np.loadtxt(file_path, delimiter=\",\")`.\n",
        "\n",
        "Do the following on the number array `arr`:\n",
        "- Extract the rows such that the mean of each row is greater than the overall mean of the original array. Show the content and shape of the result.\n",
        "- Extract the columns such that the mean of each column is greater than the overall mean of the original array. Show the content and shape of the result.\n",
        "- Assign your birth date number to a variable `bd`. Extract the rows such that the mean of each row is greater than the mean of the rows from `bd` to the end in the original data. Show the content and shape of the result.\n",
        "- Assign your birth date number to a variable `bd`. Extract the columns such that the mean of each column is greater than the mean of the columns from `bd` to the end in the original data. Show the content and shape of the result.\n"
      ],
      "metadata": {
        "id": "4ScQfZN7Qhh8"
      }
    },
    {
      "cell_type": "code",
      "source": [],
      "metadata": {
        "id": "KJkTSfUuRbYO"
      },
      "execution_count": null,
      "outputs": []
    }
  ]
}