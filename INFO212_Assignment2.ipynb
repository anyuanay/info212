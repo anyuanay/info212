{
  "cells": [
    {
      "cell_type": "markdown",
      "metadata": {
        "id": "view-in-github",
        "colab_type": "text"
      },
      "source": [
        "<a href=\"https://colab.research.google.com/github/anyuanay/info212/blob/main/INFO212_Assignment2.ipynb\" target=\"_parent\"><img src=\"https://colab.research.google.com/assets/colab-badge.svg\" alt=\"Open In Colab\"/></a>"
      ]
    },
    {
      "cell_type": "markdown",
      "metadata": {
        "id": "JsNINwjzGehJ"
      },
      "source": [
        "# Drexel University\n",
        "## College of Computing and Informatics\n",
        "## INFO 212: Data Science Programming I\n",
        "## Assignment 2\n",
        "### Due Date: Sunday, Nov. 3rd, 2024\n",
        "### This assignment counts for 15% of the final grade\n",
        "\n",
        "### A. Assignment Overview\n",
        "This assignment provides the opportunity for you to practice with Python data analysis skills.\n",
        "\n",
        "### B. What to Hand In\n",
        "\n",
        "Sumbit a completed this Jupyter notebook.\n",
        "\n",
        "### C. How to Hand In\n",
        "\n",
        "Submit your Jupyter notebook file through the course website in the Blackboard Learn system.\n",
        "\n",
        "### D. When to Hand In\n",
        "\n",
        "1. Submit your assignment no later than 11:59pm in the due date.\n",
        "2. There will be a 10% (absolute value) deduction for each day of lateness, to a maximum of 3 days; assignments will not be accepted beyond that point. Missing work will earn a zero grade.\n",
        "\n",
        "### E. Written Presentation Requirements (if applicable)\n",
        "Images must be clear and legible. Assignments will be judged on the basis of visual appearance, grammatical correctness, and quality of writing, as well as their contents. Please make sure that the text of your assignments is well-structured, using paragraphs, full sentences, and other features of well-written presentation.\n"
      ]
    },
    {
      "cell_type": "markdown",
      "source": [
        "# Your Name:\n",
        "\n",
        "\n"
      ],
      "metadata": {
        "id": "0zl7A8v7BWj-"
      }
    },
    {
      "cell_type": "markdown",
      "metadata": {
        "id": "9Fm0k1cJGehV"
      },
      "source": [
        "# Question [100 points]:\n",
        "\n",
        "## Data Set to Use:\n",
        "Download the data file \"winemag-data-130k-v2.csv\" and load it into a Pandas DataFrame using the column 0 as index. This data set contains 130k reviews for different wine verieties. It has the following columns:\n",
        "\n",
        "1.\tcountry: The country where the wine is from.\n",
        "2.\tdescription: A description or review of the wine.\n",
        "3.\tdesignation: The vineyard within the winery where the grapes that made the wine are from.\n",
        "4.\tpoints: The number of points WineMag rated the wine on a scale of 1-100.\n",
        "5.\tprice: The cost for a bottle of the wine.\n",
        "6.\tprovince: The province or state where the wine is from.\n",
        "7.\tregion_1: The wine-growing area in the province or state.\n",
        "8.\tregion_2: Sometimes there are more specific regions specified within a wine-growing area.\n",
        "9.\ttaster_name: Name of the taster.\n",
        "10.\ttaster_twitter_handle: Twitter handle for the taster.\n",
        "11.\ttitle: The title of the wine review, which often contains the vintage.\n",
        "12.\tvariety: The type of grapes used to make the wine.\n",
        "13.\twinery: The winery that made the wine."
      ]
    },
    {
      "cell_type": "markdown",
      "source": [
        "## Data Analysis Task Description:\n",
        "You are asked to use the dataset to identify the most promising country, region, and wine variety for launching a new winery. You will make a recommendation supported by visualizations and data analysis results."
      ],
      "metadata": {
        "id": "ZqSJ-JiRZ9zI"
      }
    },
    {
      "cell_type": "markdown",
      "source": [
        "## Data Analysis Activities:\n",
        "Complete the following list of activities for the data analysis task. To complete each activity,\n",
        "**You must write code or small programs with the following requirements:**\n",
        "1. **write a description about what you are going to do**\n",
        "2. **write the code with necessary comments**\n",
        "3. **run the code to generate results**\n",
        "4. **explain the results and plots in detail in separate Text cells**"
      ],
      "metadata": {
        "id": "RoQJcqqJa2ib"
      }
    },
    {
      "cell_type": "markdown",
      "source": [
        "1. Analyze the number of wine reviews by country and region. Can you estimate the market sizes of countries and regions? Is there any information about consumer interests that can be extracted from the review descriptions?"
      ],
      "metadata": {
        "id": "r6XoJzq2I0_N"
      }
    },
    {
      "cell_type": "code",
      "source": [],
      "metadata": {
        "id": "s3xG4aiRYQdo"
      },
      "execution_count": null,
      "outputs": []
    },
    {
      "cell_type": "markdown",
      "source": [
        "2. Analyze the average rating by country and region. Based on the insights and other relevant informamtion available in the data set, describe reputation of winery locations."
      ],
      "metadata": {
        "id": "29jJ9ABQJ6XT"
      }
    },
    {
      "cell_type": "code",
      "source": [],
      "metadata": {
        "id": "uEDK1e4XYUMn"
      },
      "execution_count": null,
      "outputs": []
    },
    {
      "cell_type": "markdown",
      "source": [
        "3. Analyze wine varieties that consistently receive higher ratings across different regions. Based on the insights and other relevant information in the data set, describe popularity and consumer preference."
      ],
      "metadata": {
        "id": "ZX8UK99nKeXa"
      }
    },
    {
      "cell_type": "code",
      "source": [],
      "metadata": {
        "id": "PSK_eZy7Yc2L"
      },
      "execution_count": null,
      "outputs": []
    },
    {
      "cell_type": "markdown",
      "source": [
        "4. Analyze the wine prices by country, region, and variety. Based on the insights and other relevant information in the data set, describe the potential profitability and market positioning of the wines based on their countries, regions, and varieties."
      ],
      "metadata": {
        "id": "9rCu5XlyKj6i"
      }
    },
    {
      "cell_type": "code",
      "source": [],
      "metadata": {
        "id": "c_B17lXpY-F3"
      },
      "execution_count": null,
      "outputs": []
    },
    {
      "cell_type": "markdown",
      "source": [
        "## Final Recommendataion:\n",
        "**Finally, you will write recommendations for launching a new winery.** Based on the above data analysis, recommend a country, region, and wine variety that offers the best balance of market size, reputation, profitability, consumer interests, and competitive positioning for launching a new winery. Be sure to support all selections, recommendations, and answers with relevant visualizations or evidence from your data analysis. You may reuse descriptions, code, visualizations, and results from the previous analysis, as well as any additional analyses you perform."
      ],
      "metadata": {
        "id": "7sAV5plccTvu"
      }
    },
    {
      "cell_type": "code",
      "source": [],
      "metadata": {
        "id": "rH3N00XGc-nd"
      },
      "execution_count": null,
      "outputs": []
    },
    {
      "cell_type": "markdown",
      "source": [],
      "metadata": {
        "id": "LGPQMnQicfId"
      }
    }
  ],
  "metadata": {
    "colab": {
      "provenance": [],
      "include_colab_link": true
    },
    "kernelspec": {
      "display_name": "Python 3",
      "language": "python",
      "name": "python3"
    },
    "language_info": {
      "codemirror_mode": {
        "name": "ipython",
        "version": 3
      },
      "file_extension": ".py",
      "mimetype": "text/x-python",
      "name": "python",
      "nbconvert_exporter": "python",
      "pygments_lexer": "ipython3",
      "version": "3.7.6"
    }
  },
  "nbformat": 4,
  "nbformat_minor": 0
}