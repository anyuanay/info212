{
  "cells": [
    {
      "cell_type": "markdown",
      "metadata": {
        "id": "view-in-github",
        "colab_type": "text"
      },
      "source": [
        "<a href=\"https://colab.research.google.com/github/anyuanay/info212/blob/main/INFO212_Final_Project_Report.ipynb\" target=\"_parent\"><img src=\"https://colab.research.google.com/assets/colab-badge.svg\" alt=\"Open In Colab\"/></a>"
      ]
    },
    {
      "cell_type": "markdown",
      "metadata": {
        "id": "JGGCTP1aOPdp"
      },
      "source": [
        "# College of Computing and Informatics, Drexel University\n",
        "# INFO 212: Data Science Programming I\n",
        "# Due: Wednesday, Dec. 11, 2024\n",
        "---\n",
        "\n",
        "## Final Project Report\n",
        "\n",
        "## Project Title:\n",
        "\n",
        "## Student(s):\n",
        "\n",
        "## Date:\n",
        "---"
      ]
    },
    {
      "cell_type": "markdown",
      "source": [
        "# Requirements:\n",
        "1. **Formatting and Structure**:\n",
        "The report must follow a clear, logical structure (use headings, subheadings, markdown cells, and code cells for organization).\n",
        "2. **Analysis Code and Results**:\n",
        "Include all analysis code in code cells. Ensure the code is clean, readable, and uses proper commenting where necessary.\n",
        "3. **Explanations**: Use markdown cells to clearly explain each step of the analysis process. Provide context for the code being executed. Interpret the results (e.g., what do the visualizations show? What insights can be drawn?).\n",
        "4. **Reproducibility**:\n",
        "Provide all code and commands necessary for reproducing your analysis. Ensure all data imports, transformations, and analyses run correctly in sequence.\n",
        "\n",
        "# Marking Scheme:\n",
        "- **Organization and Formatting (10 points)**: Is the notebook well-structured and visually clean?\n",
        "- **Reproducibility (10 points)**: Can the entire analysis be reproduced seamlessly?\n",
        "- **Code Quality (20 points)**: Is the code clear, concise, and well-documented?\n",
        "- **Explanations and Insights (20 points)**: Are steps and results well-explained and insightful?\n",
        "- **Data Visualization and Presentation (20 points)**: Are plots and tables effective and well-labeled?\n",
        "- **Technical Content (20 points)**:\n",
        " * Is the problem well defined and described thoroughly?\n",
        " * Is the size and complexity of the data set used in this project comparable to that of the example data sets used in the lectures and assignments?\n",
        " * Did the analysis use plotting methods for visualization? Does the visualization convey meaningful messages?\n",
        " * Did the analysis use wrangling, cleaning, and preparation methods? Does the work on wrangling, cleaning, and preparation demonstrate the student's knowlegde about these topics covered in this course?\n",
        " * Did the analysis conduct aggretation and create descriptive statistics? Does the work on aggregation and descriptive statistics demonstrate the student's knowlegde about these topics covered in this course?"
      ],
      "metadata": {
        "id": "ot8eSKj1ghkp"
      }
    },
    {
      "cell_type": "markdown",
      "source": [
        "# YOUR REPORT GOES HERE"
      ],
      "metadata": {
        "id": "DxpCcZ16hk5z"
      }
    },
    {
      "cell_type": "markdown",
      "metadata": {
        "id": "xDPpOzQVOPdx"
      },
      "source": [
        "# 1. Introduction\n",
        "---\n",
        "- Introduce the project and describe the objectives.\n",
        "- State the main questions or problems you aim to address with your analysis.\n",
        "- Provide a summary of entire project including the data, analytics methods, and the key findings."
      ]
    },
    {
      "cell_type": "markdown",
      "source": [],
      "metadata": {
        "id": "pFf-uHrKeD2y"
      }
    },
    {
      "cell_type": "markdown",
      "source": [
        "# 2. Data Description\n",
        "---\n",
        "- Data Source: Describe the origin of your dataset. Provide a link if applicable.\n",
        "- Data Loading: Present the code and methods for acquiring the data. Load the data into appropriate format for analysis.\n",
        "- Dataset Analysis: Analyze the key attributes and features of your dataset (e.g., number of rows, columns, types of data).\n",
        "- Data Cleaning: Clean and preprocess the data, including handling missing values or duplicates."
      ],
      "metadata": {
        "id": "JWpT3rjjX8mD"
      }
    },
    {
      "cell_type": "markdown",
      "source": [],
      "metadata": {
        "id": "jZB_UDYDYhoh"
      }
    },
    {
      "cell_type": "code",
      "source": [],
      "metadata": {
        "id": "IEA97JmvYgHR"
      },
      "execution_count": null,
      "outputs": []
    },
    {
      "cell_type": "markdown",
      "source": [],
      "metadata": {
        "id": "6jC_56NabO3k"
      }
    },
    {
      "cell_type": "markdown",
      "metadata": {
        "id": "_nfIkIyaOPdy"
      },
      "source": [
        "# 3. Analysis and Findings\n",
        "---\n",
        "\n",
        "The analysis should be guided by the problem defined earlier. Show your code and explain the process and results.\n",
        "- Exploratory Analysis:\n",
        " - Use visualizations and summary statistics. Use plots (e.g., histograms, scatter plots, box plots) to illustrate findings.\n",
        " - Explain the key trends and results observed in the data.\n",
        "- Aggregation and Comparison:\n",
        " - Conduct group-based statistic analyses (e.g., mean, median, sum) and comparisons between different categories.\n",
        " - Create tables or plots to support your analysis.\n",
        "- Insights: Provide detailed interpretations of the patterns and statistics uncovered.\n"
      ]
    },
    {
      "cell_type": "markdown",
      "source": [],
      "metadata": {
        "id": "7bDez8TycTTy"
      }
    },
    {
      "cell_type": "code",
      "execution_count": null,
      "metadata": {
        "id": "W8fqg8ukOPdy"
      },
      "outputs": [],
      "source": []
    },
    {
      "cell_type": "markdown",
      "metadata": {
        "id": "6G_ssZiKOPd1"
      },
      "source": [
        "# 4. Challenges and Limitations\n",
        "---\n",
        "- Discuss any challenges encountered during the project, such as:\n",
        " - Issues with data quality.\n",
        " - Constraints in analysis tools or time.\n",
        "- Highlight any limitations in your analysis and how they might affect your conclusions."
      ]
    },
    {
      "cell_type": "markdown",
      "source": [],
      "metadata": {
        "id": "jXZb-1nkcUJi"
      }
    },
    {
      "cell_type": "code",
      "execution_count": null,
      "metadata": {
        "id": "H4Z9mg52OPd2"
      },
      "outputs": [],
      "source": []
    },
    {
      "cell_type": "markdown",
      "metadata": {
        "id": "rN7BgXluOPd2"
      },
      "source": [
        "# 5. Conclusion and Future Direction\n",
        "---\n",
        "- Conclusions: Summarize your main findings in relation to your project objectives.\n",
        "- Recommendation and Future Direction:\n",
        " - Propose actions based on your findings.\n",
        " - Suggest next steps for further analysis or research."
      ]
    },
    {
      "cell_type": "code",
      "execution_count": null,
      "metadata": {
        "id": "QIZPOVFHOPd2"
      },
      "outputs": [],
      "source": []
    },
    {
      "cell_type": "markdown",
      "metadata": {
        "id": "mkdAHqj1OPd2"
      },
      "source": [
        "# 6. References\n",
        "---\n",
        "- List all references for datasets, tools, and external sources used in the project."
      ]
    },
    {
      "cell_type": "markdown",
      "source": [],
      "metadata": {
        "id": "t3z7iCWPdioI"
      }
    },
    {
      "cell_type": "code",
      "execution_count": null,
      "metadata": {
        "id": "fB7GTkPAOPd3"
      },
      "outputs": [],
      "source": []
    }
  ],
  "metadata": {
    "colab": {
      "provenance": [],
      "include_colab_link": true
    },
    "kernelspec": {
      "display_name": "Python 3",
      "language": "python",
      "name": "python3"
    },
    "language_info": {
      "codemirror_mode": {
        "name": "ipython",
        "version": 3
      },
      "file_extension": ".py",
      "mimetype": "text/x-python",
      "name": "python",
      "nbconvert_exporter": "python",
      "pygments_lexer": "ipython3",
      "version": "3.7.6"
    }
  },
  "nbformat": 4,
  "nbformat_minor": 0
}