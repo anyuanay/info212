{
  "nbformat": 4,
  "nbformat_minor": 0,
  "metadata": {
    "kernelspec": {
      "display_name": "Python 3",
      "language": "python",
      "name": "python3"
    },
    "language_info": {
      "codemirror_mode": {
        "name": "ipython",
        "version": 3
      },
      "file_extension": ".py",
      "mimetype": "text/x-python",
      "name": "python",
      "nbconvert_exporter": "python",
      "pygments_lexer": "ipython3",
      "version": "3.7.1"
    },
    "colab": {
      "provenance": [],
      "include_colab_link": true
    }
  },
  "cells": [
    {
      "cell_type": "markdown",
      "metadata": {
        "id": "view-in-github",
        "colab_type": "text"
      },
      "source": [
        "<a href=\"https://colab.research.google.com/github/anyuanay/info212/blob/main/INFO212_Week3_Lab_Numpy_Pandas.ipynb\" target=\"_parent\"><img src=\"https://colab.research.google.com/assets/colab-badge.svg\" alt=\"Open In Colab\"/></a>"
      ]
    },
    {
      "cell_type": "markdown",
      "metadata": {
        "id": "aWL1iSNqF4kn"
      },
      "source": [
        "# INFO 212: Data Science Programming 1\n",
        "## CCI at Drexel University\n",
        "\n",
        "\n",
        "## Week 3: Lab: Numpy and Pandas\n"
      ]
    },
    {
      "cell_type": "markdown",
      "source": [
        "## What to do:\n",
        "- Answer each question individually.\n",
        "- Comment on each single statement.\n",
        "- Each missing comment will be penalized by 1 point.\n",
        "- Verify the code by showing meaningful results."
      ],
      "metadata": {
        "id": "Q4M8EcE-SWrv"
      }
    },
    {
      "cell_type": "markdown",
      "source": [
        "import packages"
      ],
      "metadata": {
        "id": "6Rrnb6Re07A4"
      }
    },
    {
      "cell_type": "code",
      "source": [],
      "metadata": {
        "id": "JNFdtMPJ0-ig"
      },
      "execution_count": null,
      "outputs": []
    },
    {
      "cell_type": "markdown",
      "metadata": {
        "id": "u3UpQQG-3pb9"
      },
      "source": [
        "## Exercise 1:\n",
        "\n",
        "Create 3 lists, `ls1`, `ls2`, and `ls3`, with the following values:\n",
        "- `ls1` contains 10 random decimal numbers in the range of (0.00, 150.00), each of which with 2-digit precision.\n",
        "- `ls2` contains 10 random integers in the range of (1, 500).\n",
        "- `ls3` contains 10 random decimal numbers in the range of (0.05, 0.90), each of which with 2-digit precision and the last digit rounded to the nearest 0 or 5.\n",
        "\n",
        "Show the content of the lists."
      ]
    },
    {
      "cell_type": "code",
      "source": [],
      "metadata": {
        "id": "7sAbaijGA_B3"
      },
      "execution_count": null,
      "outputs": []
    },
    {
      "cell_type": "markdown",
      "source": [
        "## Exercise 2:\n",
        "- Use the 3 lists as 3 columns to create a numpy array `arr` which uses `ls1` as the first column, `ls2` as the second column, and `ls3` as the third column.\n",
        "- Show the content and shape of the array."
      ],
      "metadata": {
        "id": "zCpUaM7t2HlZ"
      }
    },
    {
      "cell_type": "code",
      "source": [],
      "metadata": {
        "id": "MZF6aAcjA_XU"
      },
      "execution_count": null,
      "outputs": []
    },
    {
      "cell_type": "markdown",
      "source": [
        "## Exercise 3:\n",
        "- For the third column of `arr`, compute a boolean array indicating whether the value is between [0.20, 0.50].\n",
        "- Use the boolean array to extract the rows of `arr` such as the values of the third column are between [0.20, 0.50]."
      ],
      "metadata": {
        "id": "b36Zl5lUMQr3"
      }
    },
    {
      "cell_type": "code",
      "source": [],
      "metadata": {
        "id": "FcDE4qHlA_zL"
      },
      "execution_count": null,
      "outputs": []
    },
    {
      "cell_type": "markdown",
      "source": [
        "## Exercise 4:\n",
        "\n",
        "Use `ls1`, `ls2`, and `ls3` as the three columns to create a Pandas DataFrame `items`. Assign the column names as `['price', 'quantity', 'discount']`."
      ],
      "metadata": {
        "id": "Oo-zMqF219WX"
      }
    },
    {
      "cell_type": "code",
      "source": [],
      "metadata": {
        "id": "Wk1ULlMcBAQk"
      },
      "execution_count": null,
      "outputs": []
    },
    {
      "cell_type": "markdown",
      "source": [
        "## Exercise 5:\n",
        "\n",
        "Show the shape, columns, and summary statistics of the DataFrame `items`."
      ],
      "metadata": {
        "id": "eeAosOlJYZaY"
      }
    },
    {
      "cell_type": "code",
      "source": [],
      "metadata": {
        "id": "j2esiP6FBAwd"
      },
      "execution_count": null,
      "outputs": []
    },
    {
      "cell_type": "markdown",
      "source": [
        "## Exercise 6:\n",
        "\n",
        "Create a list of 10 strings as item names (meaningful names). Assign the names to the index of the DataFrame `items`. Show the final DataFrame."
      ],
      "metadata": {
        "id": "Zf199akM2Mkm"
      }
    },
    {
      "cell_type": "code",
      "source": [],
      "metadata": {
        "id": "GATYlNb8BBP-"
      },
      "execution_count": null,
      "outputs": []
    }
  ]
}