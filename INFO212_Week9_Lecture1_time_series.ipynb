{
  "cells": [
    {
      "cell_type": "markdown",
      "metadata": {
        "id": "view-in-github",
        "colab_type": "text"
      },
      "source": [
        "<a href=\"https://colab.research.google.com/github/anyuanay/info212/blob/main/INFO212_Week9_Lecture1_time_series.ipynb\" target=\"_parent\"><img src=\"https://colab.research.google.com/assets/colab-badge.svg\" alt=\"Open In Colab\"/></a>"
      ]
    },
    {
      "cell_type": "markdown",
      "source": [
        "# INFO 212: Data Science Programming\n",
        "\n",
        "## Week 9: Lecture 1: Time Series Data Analysis\n",
        "\n",
        "---\n",
        "\n",
        "**Agenda:**\n",
        "- Apply techiques to time series data"
      ],
      "metadata": {
        "id": "1LvrGg80Y0Uu"
      }
    },
    {
      "cell_type": "markdown",
      "metadata": {
        "deletable": true,
        "editable": true,
        "id": "ab-xXjfcTVSb"
      },
      "source": [
        "# Time Series\n",
        "Time series data is an important form of structured data in many different fields, such\n",
        "as finance, economics, ecology, neuroscience, and physics. Anything that is observed\n",
        "or measured at many points in time forms a time series. Many time series are fixed\n",
        "frequency, which is to say that data points occur at regular intervals according to some\n",
        "rule, such as every 15 seconds, every 5 minutes, or once per month. Time series can\n",
        "also be irregular without a fixed unit of time or offset between units. How you mark\n",
        "and refer to time series data depends on the application, and you may have one of the\n",
        "following:\n",
        "\n",
        "- Timestamps, specific instants in time Fixed periods, such as the month January 2007 or the full year 2010\n",
        "- Intervals of time, indicated by a start and end timestamp. Periods can be thought\n",
        "of as special cases of intervals\n",
        "- Experiment or elapsed time; each timestamp is a measure of time relative to a\n",
        "particular start time (e.g., the diameter of a cookie baking each second since\n",
        "being placed in the oven)"
      ]
    },
    {
      "cell_type": "code",
      "execution_count": null,
      "metadata": {
        "deletable": true,
        "editable": true,
        "id": "RuqG1EqZTVSl"
      },
      "outputs": [],
      "source": [
        "# imports\n",
        "import pandas as pd\n",
        "import numpy as np\n",
        "import matplotlib.pyplot as plt"
      ]
    },
    {
      "cell_type": "markdown",
      "metadata": {
        "deletable": true,
        "editable": true,
        "id": "eWZ_7WHcTVSp"
      },
      "source": [
        "## Date and Time Data Types and Tools\n",
        "The Python standard library includes data types for date and time data, as well as\n",
        "calendar-related functionality. The datetime, time, and calendar modules are the\n",
        "main places to start. The datetime.datetime type, or simply datetime, is widely\n",
        "used.\n",
        "```\n",
        "from datetime import datetime\n",
        "now = datetime.now()\n",
        "\n",
        "now.year, now.month, now.day\n",
        "```"
      ]
    },
    {
      "cell_type": "markdown",
      "source": [
        "We can apply arithmatic operations on datetime objects:\n",
        "```\n",
        "datetime.now() - datetime(2024, 4, 20)\n",
        "```"
      ],
      "metadata": {
        "id": "C4ZeCnESx2xY"
      }
    },
    {
      "cell_type": "markdown",
      "source": [
        "The result have time related properties:\n",
        "```\n",
        "delta = datetime(2021, 1, 7) - datetime(2008, 6, 24, 8, 15)\n",
        "\n",
        "delta.days\n",
        "delta.seconds\n",
        "```"
      ],
      "metadata": {
        "id": "qC2N7b34yG1l"
      }
    },
    {
      "cell_type": "markdown",
      "source": [
        "# Add time zone to now()\n",
        "```\n",
        "import pytz\n",
        "local_tz = pytz.timezone('America/New_York')\n",
        "\n",
        "now = datetime.now()\n",
        "\n",
        "now = now.astimezone(local_tz)\n",
        "\n",
        "now.year\n",
        "\n",
        "now.hour\n",
        "\n",
        "now.tzinfo\n",
        "```"
      ],
      "metadata": {
        "id": "LxEJc74IOh1w"
      }
    },
    {
      "cell_type": "markdown",
      "metadata": {
        "deletable": true,
        "editable": true,
        "id": "uB3o26GPTVSv"
      },
      "source": [
        "### Converting Between String and Datetime\n",
        "Format datetime objects and pandas Timestamp objects as strings using str or the strftime method, passing a format specification.\n",
        "```\n",
        "stamp = datetime(2021, 1, 3)\n",
        "str(stamp)\n",
        "stamp.strftime('%Y-%m-%d')\n",
        "\n",
        "s = stamp.strftime('%m/%d/%Y')\n",
        "```"
      ]
    },
    {
      "cell_type": "markdown",
      "source": [
        "Convert from string to datetime:\n",
        "```\n",
        "d = datetime.strptime(s, '%m/%d/%Y')\n",
        "```"
      ],
      "metadata": {
        "id": "qllUyvAqy-kl"
      }
    },
    {
      "cell_type": "markdown",
      "source": [
        "## Exercise:\n",
        "```\n",
        "value = '2021-01-03'\n",
        "datetime.strptime(value, '%Y-%m-%d')\n",
        "datestrs = ['7/6/2021', '8/6/2021']\n",
        "[datetime.strptime(x, '%m/%d/%Y') for x in datestrs]\n",
        "```"
      ],
      "metadata": {
        "id": "86oiHKvTzXnR"
      }
    },
    {
      "cell_type": "markdown",
      "source": [
        "pandas is generally oriented toward working with arrays of dates, whether used as an\n",
        "axis index or a column in a DataFrame. The to_datetime method parses many different\n",
        "kinds of date representations. Standard date formats like ISO 8601 can be\n",
        "parsed very quickly:\n",
        "```\n",
        "datestrs = ['2021-07-06 12:00:00', '2021-08-06 00:00:00']\n",
        "pd.to_datetime(datestrs)\n",
        "```"
      ],
      "metadata": {
        "id": "iNsrW_-Rf1DY"
      }
    },
    {
      "cell_type": "markdown",
      "metadata": {
        "deletable": true,
        "editable": true,
        "id": "G1NKI6NGTVS8"
      },
      "source": [
        "## Time Series Basics\n",
        "A basic kind of time series object in pandas is a Series indexed by timestamps, which\n",
        "is often represented external to pandas as Python strings or datetime objects."
      ]
    },
    {
      "cell_type": "markdown",
      "source": [
        "```\n",
        "from datetime import datetime\n",
        "dates = [datetime(2021, 1, 2), datetime(2021, 1, 5),\n",
        "         datetime(2021, 1, 7), datetime(2021, 1, 8),\n",
        "         datetime(2021, 1, 10), datetime(2021, 1, 12)]\n",
        "ts = pd.Series(np.random.randn(6), index=dates)\n",
        "ts\n",
        "```"
      ],
      "metadata": {
        "id": "FELGf2gTzs11"
      }
    },
    {
      "cell_type": "markdown",
      "source": [
        "```\n",
        "ts.index\n",
        "```"
      ],
      "metadata": {
        "id": "SjT8gn9-zxOP"
      }
    },
    {
      "cell_type": "markdown",
      "source": [
        "Like other Series, arithmetic operations between differently indexed time series automatically\n",
        "align on the dates:\n",
        "```\n",
        "ts + ts[::2]\n",
        "```"
      ],
      "metadata": {
        "id": "oxXVipzzg4J3"
      }
    },
    {
      "cell_type": "markdown",
      "metadata": {
        "deletable": true,
        "editable": true,
        "id": "RPKEI48ITVTB"
      },
      "source": [
        "### Indexing, Selection, Subsetting\n",
        "Time series behaves like any other pandas.Series when you are indexing and selecting\n",
        "data based on label:\n",
        "```\n",
        "stamp = ts.index[2]\n",
        "ts[stamp]\n",
        "```"
      ]
    },
    {
      "cell_type": "markdown",
      "source": [
        "For longer time series, a year or only a year and month can be passed to easily select\n",
        "slices of data:\n",
        "```\n",
        "longer_ts = pd.Series(np.random.randn(1000),\n",
        "                      index=pd.date_range('1/1/2023', periods=1000))\n",
        "longer_ts\n",
        "```"
      ],
      "metadata": {
        "id": "zNNzB8a_hY3a"
      }
    },
    {
      "cell_type": "markdown",
      "source": [
        "```\n",
        "longer_ts['2023-5']\n",
        "```"
      ],
      "metadata": {
        "id": "Jo9Nufku0DAM"
      }
    },
    {
      "cell_type": "markdown",
      "metadata": {
        "deletable": true,
        "editable": true,
        "id": "Yn0gAD3ATVTH"
      },
      "source": [
        "### Time Series with Duplicate Indices\n",
        "In some applications, there may be multiple data observations falling on a particular\n",
        "timestamp. Here is an example:\n",
        "```\n",
        "dates = pd.DatetimeIndex(['1/1/2000', '1/2/2000', '1/2/2000',\n",
        "                          '1/2/2000', '1/3/2000'])\n",
        "dup_ts = pd.Series(np.arange(5), index=dates)\n",
        "dup_ts\n",
        "```"
      ]
    },
    {
      "cell_type": "markdown",
      "source": [
        "Suppose you wanted to aggregate the data having non-unique timestamps. One way\n",
        "to do this is to use groupby and pass level=0:\n",
        "```\n",
        "grouped = dup_ts.groupby(level=0)\n",
        "grouped.mean()\n",
        "grouped.count()\n",
        "```"
      ],
      "metadata": {
        "id": "5Miy8dSjiqid"
      }
    },
    {
      "cell_type": "markdown",
      "metadata": {
        "deletable": true,
        "editable": true,
        "id": "Pwjr_F-ITVTK"
      },
      "source": [
        "## Date Ranges, Frequencies, and Shifting\n",
        "Generic time series in pandas are assumed to be irregular; that is, they have no fixed\n",
        "frequency. For many applications this is sufficient. However, it’s often desirable to\n",
        "work relative to a fixed frequency, such as daily, monthly, or every 15 minutes, even if\n",
        "that means introducing missing values into a time series. Fortunately pandas has a\n",
        "full suite of standard time series frequencies and tools for resampling, inferring frequencies,\n",
        "and generating fixed-frequency date ranges. For example, you can convert\n",
        "the sample time series to be fixed daily frequency by calling resample:"
      ]
    },
    {
      "cell_type": "markdown",
      "source": [
        "```\n",
        "from datetime import datetime\n",
        "dates = [datetime(2021, 1, 2), datetime(2021, 1, 5),\n",
        "         datetime(2021, 1, 7), datetime(2021, 1, 8),\n",
        "         datetime(2021, 1, 10), datetime(2021, 1, 12)]\n",
        "ts = pd.Series(np.random.randn(6), index=dates)\n",
        "ts\n",
        "```"
      ],
      "metadata": {
        "id": "wpELmr__0UiR"
      }
    },
    {
      "cell_type": "markdown",
      "source": [
        "```\n",
        "ts.resample('D')\n",
        "```"
      ],
      "metadata": {
        "id": "7QBWwmi_0gQ8"
      }
    },
    {
      "cell_type": "markdown",
      "source": [
        "```\n",
        "resampler = ts.resample('D')\n",
        "resampler\n",
        "```"
      ],
      "metadata": {
        "id": "7NGVdTrp0iy8"
      }
    },
    {
      "cell_type": "markdown",
      "metadata": {
        "deletable": true,
        "editable": true,
        "id": "JiUEZ-e_TVTL"
      },
      "source": [
        "### Generating Date Ranges\n",
        "pandas.date_range is responsible for\n",
        "generating a DatetimeIndex with an indicated length according to a particular\n",
        "frequency:\n",
        "```\n",
        "index = pd.date_range('2012-04-01', '2012-06-01')\n",
        "index\n",
        "```"
      ]
    },
    {
      "cell_type": "markdown",
      "source": [
        "```\n",
        "pd.date_range(start='2012-04-01', periods=20)\n",
        "pd.date_range(end='2012-06-01', periods=20)\n",
        "```"
      ],
      "metadata": {
        "id": "ALh1kcKX0qep"
      }
    },
    {
      "cell_type": "markdown",
      "source": [
        "```\n",
        "pd.date_range('2000-01-01', '2000-12-01', freq='BM')\n",
        "```"
      ],
      "metadata": {
        "id": "p43tM5SE0wzv"
      }
    },
    {
      "cell_type": "markdown",
      "source": [
        "```\n",
        "pd.date_range('2012-05-02 12:56:31', periods=5)\n",
        "```"
      ],
      "metadata": {
        "id": "AcGB70q700WH"
      }
    },
    {
      "cell_type": "markdown",
      "source": [
        "```\n",
        "pd.date_range('2012-05-02 12:56:31', periods=5, normalize=True)\n",
        "```"
      ],
      "metadata": {
        "id": "B-YPv3Jy03nc"
      }
    },
    {
      "cell_type": "markdown",
      "metadata": {
        "deletable": true,
        "editable": true,
        "id": "tTtMoEugTVTO"
      },
      "source": [
        "### Frequencies and Date Offsets"
      ]
    },
    {
      "cell_type": "markdown",
      "source": [
        "```\n",
        "from pandas.tseries.offsets import Hour, Minute\n",
        "hour = Hour()\n",
        "hour\n",
        "```"
      ],
      "metadata": {
        "id": "DO_IKYGr09OZ"
      }
    },
    {
      "cell_type": "markdown",
      "source": [
        "```\n",
        "four_hours = Hour(4)\n",
        "four_hours\n",
        "```"
      ],
      "metadata": {
        "id": "Xcuz7MNU1AdG"
      }
    },
    {
      "cell_type": "markdown",
      "metadata": {
        "deletable": true,
        "editable": true,
        "id": "9sN67b2MTVTR"
      },
      "source": [
        "#### Week of month dates\n",
        "One useful frequency class is “week of month,” starting with WOM. This enables you to\n",
        "get dates like the third Friday of each month:\n",
        "```\n",
        "rng = pd.date_range('2012-01-01', '2012-09-01', freq='WOM-3FRI')\n",
        "list(rng)\n",
        "```"
      ]
    },
    {
      "cell_type": "markdown",
      "metadata": {
        "deletable": true,
        "editable": true,
        "id": "LGOEwkhLTVTS"
      },
      "source": [
        "### Shifting (Leading and Lagging) Data\n",
        "“Shifting” refers to moving data backward and forward through time. Both Series and\n",
        "DataFrame have a shift method for doing naive shifts forward or backward, leaving\n",
        "the index unmodified:"
      ]
    },
    {
      "cell_type": "markdown",
      "source": [
        "```\n",
        "ts = pd.Series(np.random.randn(4),\n",
        "               index=pd.date_range('1/1/2000', periods=4, freq='M'))\n",
        "ts\n",
        "ts.shift(2)\n",
        "ts.shift(-2)\n",
        "```"
      ],
      "metadata": {
        "id": "1zwj_7f91Ipe"
      }
    },
    {
      "cell_type": "markdown",
      "metadata": {
        "deletable": true,
        "editable": true,
        "id": "H9dkAW3NTVTY"
      },
      "source": [
        "## Time Zone Handling\n",
        "Working with time zones is generally considered one of the most unpleasant parts of\n",
        "time series manipulation. As a result, many time series users choose to work with\n",
        "time series in coordinated universal time or UTC, which is the successor to Greenwich\n",
        "Mean Time and is the current international standard. Time zones are expressed as\n",
        "offsets from UTC; for example, New York is four hours behind UTC during daylight\n",
        "saving time and five hours behind the rest of the year.\n",
        "\n",
        "In Python, time zone information comes from the third-party pytz library (installable\n",
        "with pip or conda), which exposes the Olson database, a compilation of world\n",
        "time zone information. This is especially important for historical data because the\n",
        "daylight saving time (DST) transition dates (and even UTC offsets) have been\n",
        "changed numerous times depending on the whims of local governments. In the United\n",
        "States, the DST transition times have been changed many times since 1900!\n",
        "```\n",
        "for tz in pytz.common_timezones:\n",
        "    if 'America' in tz:\n",
        "        print(tz)\n",
        "```"
      ]
    },
    {
      "cell_type": "markdown",
      "metadata": {
        "deletable": true,
        "editable": true,
        "id": "u_5F4XydTVTa"
      },
      "source": [
        "### Time Zone Localization and Conversion\n",
        "By default, time series in pandas are time zone naive. For example, consider the following\n",
        "time series:\n",
        "```\n",
        "rng = pd.date_range('3/9/2012 9:30', periods=6, freq='D')\n",
        "ts = pd.Series(np.random.randn(len(rng)), index=rng)\n",
        "ts\n",
        "```"
      ]
    },
    {
      "cell_type": "markdown",
      "metadata": {
        "deletable": true,
        "editable": true,
        "id": "QR7BIVIoTVTe"
      },
      "source": [
        "### Operations with Time Zone−Aware Timestamp Objects\n",
        "Similar to time series and date ranges, individual Timestamp objects similarly can be\n",
        "localized from naive to time zone–aware and converted from one time zone to\n",
        "another:\n",
        "```\n",
        "stamp = pd.Timestamp('2011-03-12 04:00')\n",
        "stamp_utc = stamp.tz_localize('utc')\n",
        "stamp_utc.tz_convert('America/New_York')\n",
        "```"
      ]
    },
    {
      "cell_type": "markdown",
      "metadata": {
        "deletable": true,
        "editable": true,
        "id": "8yUNSC2hTVTh"
      },
      "source": [
        "### Operations Between Different Time Zones\n",
        "If two time series with different time zones are combined, the result will be UTC.\n",
        "Since the timestamps are stored under the hood in UTC, this is a straightforward\n",
        "operation and requires no conversion to happen:\n",
        "```\n",
        "rng = pd.date_range('3/7/2012 9:30', periods=10, freq='B')\n",
        "ts = pd.Series(np.random.randn(len(rng)), index=rng)\n",
        "ts\n",
        "ts1 = ts[:7].tz_localize('Europe/London')\n",
        "ts2 = ts1[2:].tz_convert('Europe/Moscow')\n",
        "result = ts1 + ts2\n",
        "result.index\n",
        "```"
      ]
    },
    {
      "cell_type": "markdown",
      "metadata": {
        "deletable": true,
        "editable": true,
        "id": "ljteUt2QTVTi"
      },
      "source": [
        "## Periods and Period Arithmetic\n",
        "Periods represent timespans, like days, months, quarters, or years. The Period class\n",
        "represents this data type, requiring a string or integer and a frequency.\n",
        "```\n",
        "p = pd.Period(2007, freq='A-DEC')\n",
        "p\n",
        "```"
      ]
    },
    {
      "cell_type": "markdown",
      "metadata": {
        "deletable": true,
        "editable": true,
        "id": "fnb5mlk4TVTm"
      },
      "source": [
        "### Period Frequency Conversion\n",
        "```\n",
        "p = pd.Period('2007', freq='A-DEC')\n",
        "p\n",
        "p.asfreq('M', how='start')\n",
        "p.asfreq('M', how='end')\n",
        "```"
      ]
    },
    {
      "cell_type": "markdown",
      "metadata": {
        "deletable": true,
        "editable": true,
        "id": "fgVxowUYTVTp"
      },
      "source": [
        "### Quarterly Period Frequencies\n",
        "```\n",
        "p = pd.Period('2012Q4', freq='Q-JAN')\n",
        "p\n",
        "```"
      ]
    },
    {
      "cell_type": "markdown",
      "metadata": {
        "deletable": true,
        "editable": true,
        "id": "FdecKD3fTVTs"
      },
      "source": [
        "### Converting Timestamps to Periods (and Back)\n",
        "```\n",
        "rng = pd.date_range('2000-01-01', periods=3, freq='M')\n",
        "ts = pd.Series(np.random.randn(3), index=rng)\n",
        "ts\n",
        "pts = ts.to_period()\n",
        "pts\n",
        "```"
      ]
    },
    {
      "cell_type": "markdown",
      "metadata": {
        "deletable": true,
        "editable": true,
        "id": "FiBhXXhgTVTv"
      },
      "source": [
        "## Resampling and Frequency Conversion\n",
        "```\n",
        "rng = pd.date_range('2000-01-01', periods=100, freq='D')\n",
        "ts = pd.Series(np.random.randn(len(rng)), index=rng)\n",
        "ts\n",
        "ts.resample('M').mean()\n",
        "ts.resample('M', kind='period').mean()\n",
        "```"
      ]
    },
    {
      "cell_type": "markdown",
      "metadata": {
        "deletable": true,
        "editable": true,
        "id": "eTou_3njTVTw"
      },
      "source": [
        "### Downsampling\n",
        "```\n",
        "rng = pd.date_range('2000-01-01', periods=12, freq='T')\n",
        "ts = pd.Series(np.arange(12), index=rng)\n",
        "ts\n",
        "```"
      ]
    },
    {
      "cell_type": "markdown",
      "source": [
        "```\n",
        "ts.resample('5min', closed='right').sum()\n",
        "```"
      ],
      "metadata": {
        "id": "PWNOAcUo2UtU"
      }
    },
    {
      "cell_type": "markdown",
      "source": [
        "```\n",
        "ts.resample('5min', closed='right',\n",
        "            label='right', loffset='-1s').sum()\n",
        "```"
      ],
      "metadata": {
        "id": "L5N7lYvq2X0T"
      }
    },
    {
      "cell_type": "markdown",
      "metadata": {
        "deletable": true,
        "editable": true,
        "id": "8BC2rA_sTVTz"
      },
      "source": [
        "#### Open-High-Low-Close (OHLC) resampling\n",
        "```\n",
        "ts.resample('5min').ohlc()\n",
        "```"
      ]
    },
    {
      "cell_type": "markdown",
      "metadata": {
        "deletable": true,
        "editable": true,
        "id": "m9pSmvpSTVT0"
      },
      "source": [
        "### Upsampling and Interpolation\n",
        "```\n",
        "frame = pd.DataFrame(np.random.randn(2, 4),\n",
        "                     index=pd.date_range('1/1/2000', periods=2,\n",
        "                                         freq='W-WED'),\n",
        "                     columns=['Colorado', 'Texas', 'New York', 'Ohio'])\n",
        "frame\n",
        "```"
      ]
    },
    {
      "cell_type": "markdown",
      "source": [
        "```\n",
        "frame.resample('W-THU').ffill()\n",
        "```"
      ],
      "metadata": {
        "id": "kGzuQreC2lQJ"
      }
    },
    {
      "cell_type": "markdown",
      "metadata": {
        "deletable": true,
        "editable": true,
        "id": "plsY0wqqTVT3"
      },
      "source": [
        "### Resampling with Periods\n",
        "```\n",
        "frame = pd.DataFrame(np.random.randn(24, 4),\n",
        "                     index=pd.period_range('1-2000', '12-2001',\n",
        "                                           freq='M'),\n",
        "                     columns=['Colorado', 'Texas', 'New York', 'Ohio'])\n",
        "frame[:5]\n",
        "annual_frame = frame.resample('A-DEC').mean()\n",
        "annual_frame\n",
        "```"
      ]
    },
    {
      "cell_type": "markdown",
      "source": [
        "```\n",
        "# Q-DEC: Quarterly, year ending in December\n",
        "annual_frame.resample('Q-DEC').ffill()\n",
        "annual_frame.resample('Q-DEC', convention='end').ffill()\n",
        "```"
      ],
      "metadata": {
        "id": "2zkNupA12s-d"
      }
    },
    {
      "cell_type": "markdown",
      "source": [
        "```\n",
        "annual_frame.resample('Q-MAR').ffill()\n",
        "```"
      ],
      "metadata": {
        "id": "LL4ghJPB2wMY"
      }
    }
  ],
  "metadata": {
    "kernelspec": {
      "display_name": "Python 3",
      "language": "python",
      "name": "python3"
    },
    "language_info": {
      "codemirror_mode": {
        "name": "ipython",
        "version": 3
      },
      "file_extension": ".py",
      "mimetype": "text/x-python",
      "name": "python",
      "nbconvert_exporter": "python",
      "pygments_lexer": "ipython3",
      "version": "3.6.0"
    },
    "colab": {
      "provenance": [],
      "include_colab_link": true
    }
  },
  "nbformat": 4,
  "nbformat_minor": 0
}