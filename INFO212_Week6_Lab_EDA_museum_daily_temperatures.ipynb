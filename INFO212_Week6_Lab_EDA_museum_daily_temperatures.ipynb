{
  "nbformat": 4,
  "nbformat_minor": 0,
  "metadata": {
    "kernelspec": {
      "display_name": "Python 3",
      "language": "python",
      "name": "python3"
    },
    "language_info": {
      "codemirror_mode": {
        "name": "ipython",
        "version": 3
      },
      "file_extension": ".py",
      "mimetype": "text/x-python",
      "name": "python",
      "nbconvert_exporter": "python",
      "pygments_lexer": "ipython3",
      "version": "3.7.1"
    },
    "colab": {
      "provenance": [],
      "include_colab_link": true
    }
  },
  "cells": [
    {
      "cell_type": "markdown",
      "metadata": {
        "id": "view-in-github",
        "colab_type": "text"
      },
      "source": [
        "<a href=\"https://colab.research.google.com/github/anyuanay/info212/blob/main/INFO212_Week6_Lab_EDA_museum_daily_temperatures.ipynb\" target=\"_parent\"><img src=\"https://colab.research.google.com/assets/colab-badge.svg\" alt=\"Open In Colab\"/></a>"
      ]
    },
    {
      "cell_type": "markdown",
      "metadata": {
        "id": "aWL1iSNqF4kn"
      },
      "source": [
        "# INFO 212: Data Science Programming 1\n",
        "## CCI at Drexel University\n",
        "\n",
        "\n",
        "## Lab: Exploratory Data Analysis by Visualization\n"
      ]
    },
    {
      "cell_type": "markdown",
      "source": [
        "## What to do:\n",
        "- Answer each question individually.\n",
        "- Comment on each single statement.\n",
        "- Each missing comment will be penalized by 1 point.\n",
        "- Verify the code by showing meaningful results."
      ],
      "metadata": {
        "id": "Y4HfhRHRCfYR"
      }
    },
    {
      "cell_type": "code",
      "source": [
        "import pandas as pd\n",
        "import matplotlib.pyplot as plt\n",
        "import seaborn as sns"
      ],
      "metadata": {
        "id": "39af2avbTovU"
      },
      "execution_count": null,
      "outputs": []
    },
    {
      "cell_type": "markdown",
      "source": [
        "## Exercise 1"
      ],
      "metadata": {
        "id": "RO6sJAasc19H"
      }
    },
    {
      "cell_type": "markdown",
      "metadata": {
        "id": "u3UpQQG-3pb9"
      },
      "source": [
        "1: Load the LA Museum Visitors data file into a DataFrame. Create a line chart that shows how the number of visitors to each museum evolved over time. Your figure should have multiple lines (one for each museum). Discuss insights you can draw from the visualization."
      ]
    },
    {
      "cell_type": "code",
      "source": [],
      "metadata": {
        "id": "NFceRg_JU-3_"
      },
      "execution_count": null,
      "outputs": []
    },
    {
      "cell_type": "markdown",
      "source": [
        "2: Create a line chart that shows how the number of visitors to Avila Adobe has evolved over time. Discuss insights you can draw from the visualization."
      ],
      "metadata": {
        "id": "zCpUaM7t2HlZ"
      }
    },
    {
      "cell_type": "code",
      "source": [],
      "metadata": {
        "id": "mnGjXZFtU_bV"
      },
      "execution_count": null,
      "outputs": []
    },
    {
      "cell_type": "markdown",
      "source": [
        "3: Using visualization to answer the following question: Does Avila Adobe get more visitors:\n",
        "- in September-February (in LA, the fall and winter months), or\n",
        "- in March-August (in LA, the spring and summer)?  \n",
        "\n",
        "Based on the insights, discuss when the museum should add additional seasonal employees."
      ],
      "metadata": {
        "id": "CEk6Fg-9asgP"
      }
    },
    {
      "cell_type": "code",
      "source": [],
      "metadata": {
        "id": "E-LnWcz5a7Er"
      },
      "execution_count": null,
      "outputs": []
    },
    {
      "cell_type": "markdown",
      "source": [
        "## Exercise 2"
      ],
      "metadata": {
        "id": "yU4n4kG4a811"
      }
    },
    {
      "cell_type": "markdown",
      "source": [
        "1: Load the `daily-minimum-temperatures-in-me.csv` as a DataFrame. Create a line plot showing the changes of the temperatures over the time. Label the xticks with quarterly months such as `1981-01`, `1981-04`, `1981-07`, `1981-10`, `1982-01`,...`1990-01`, `1990-04`,..."
      ],
      "metadata": {
        "id": "YnMpuMjLa-9V"
      }
    },
    {
      "cell_type": "code",
      "source": [],
      "metadata": {
        "id": "mEpFXLnDVCP2"
      },
      "execution_count": null,
      "outputs": []
    },
    {
      "cell_type": "markdown",
      "source": [
        "2: Based on insights drawn from visualization, discuss the temperature patterns during a period of year. Which geographical location could have these temperature measurements?"
      ],
      "metadata": {
        "id": "2hvK1v8lS2JY"
      }
    },
    {
      "cell_type": "code",
      "source": [],
      "metadata": {
        "id": "n0X0aWnikYWw"
      },
      "execution_count": null,
      "outputs": []
    }
  ]
}