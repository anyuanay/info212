{
  "nbformat": 4,
  "nbformat_minor": 0,
  "metadata": {
    "kernelspec": {
      "display_name": "Python 3",
      "language": "python",
      "name": "python3"
    },
    "language_info": {
      "codemirror_mode": {
        "name": "ipython",
        "version": 3
      },
      "file_extension": ".py",
      "mimetype": "text/x-python",
      "name": "python",
      "nbconvert_exporter": "python",
      "pygments_lexer": "ipython3",
      "version": "3.7.1"
    },
    "colab": {
      "provenance": [],
      "include_colab_link": true
    }
  },
  "cells": [
    {
      "cell_type": "markdown",
      "metadata": {
        "id": "view-in-github",
        "colab_type": "text"
      },
      "source": [
        "<a href=\"https://colab.research.google.com/github/anyuanay/info212/blob/main/INFO212_Week4_Lab_Plot_iris.ipynb\" target=\"_parent\"><img src=\"https://colab.research.google.com/assets/colab-badge.svg\" alt=\"Open In Colab\"/></a>"
      ]
    },
    {
      "cell_type": "markdown",
      "metadata": {
        "id": "aWL1iSNqF4kn"
      },
      "source": [
        "# INFO 212: Data Science Programming 1\n",
        "## CCI at Drexel University\n",
        "\n",
        "\n",
        "## Lab: Visualization\n"
      ]
    },
    {
      "cell_type": "code",
      "source": [
        "import pandas as pd\n",
        "import matplotlib.pyplot as plt\n",
        "import seaborn as sns"
      ],
      "metadata": {
        "id": "39af2avbTovU"
      },
      "execution_count": null,
      "outputs": []
    },
    {
      "cell_type": "markdown",
      "source": [
        "## Exercise\n",
        "The Iris flower data set consists of 50 samples from each of three species of Iris Flowers — Iris Setosa, Iris Virginica and Iris Versicolor:\n",
        "\n",
        "![](https://i.imgur.com/jb6jvPy.png)\n",
        "\n",
        "Each flower is described by 4 features: sepal length, sepal width, petal length and petal width, in centimeters.\n"
      ],
      "metadata": {
        "id": "UkMJJvnteX-9"
      }
    },
    {
      "cell_type": "markdown",
      "source": [
        "1. Load the iris.csv data into a DataFrame. Show the shape of the dataset. List the columns and their datatypes. Compute summary statistics. Show the first 5 rows of the data.\n",
        "\n"
      ],
      "metadata": {
        "id": "TX4OUqyKvwMJ"
      }
    },
    {
      "cell_type": "code",
      "source": [],
      "metadata": {
        "id": "Q8vNBHbb5i-2"
      },
      "execution_count": null,
      "outputs": []
    },
    {
      "cell_type": "markdown",
      "source": [
        "2. List the unique names of the species. Show the distribution of species."
      ],
      "metadata": {
        "id": "GddQr2jzelqM"
      }
    },
    {
      "cell_type": "code",
      "source": [],
      "metadata": {
        "id": "vH-xbHjO5mp9"
      },
      "execution_count": null,
      "outputs": []
    },
    {
      "cell_type": "markdown",
      "source": [
        "3.  Use seaborn.histplot() to plot histograms for each of the feature columns, colored by the species. You should have 4 histogram plots. What do you see from the plots? Explain the distributions against the species."
      ],
      "metadata": {
        "id": "vK88BZsrwKLC"
      }
    },
    {
      "cell_type": "code",
      "source": [],
      "metadata": {
        "id": "EdffqliN5m-V"
      },
      "execution_count": null,
      "outputs": []
    },
    {
      "cell_type": "markdown",
      "source": [
        "4. Scatter plot all pairs of different features and color the points with the species. You should have 6 scatter plots."
      ],
      "metadata": {
        "id": "Dl0Rc3oLWHLK"
      }
    },
    {
      "cell_type": "code",
      "source": [],
      "metadata": {
        "id": "4IB4yJvQ5nWr"
      },
      "execution_count": null,
      "outputs": []
    },
    {
      "cell_type": "markdown",
      "source": [
        "5. Based on the plots in above question (4), write a brief discussion of your findings about the features and species. For example, which features are indicative to separate the species, etc."
      ],
      "metadata": {
        "id": "PF7AC9SgWRwq"
      }
    },
    {
      "cell_type": "markdown",
      "source": [],
      "metadata": {
        "id": "EnbKt-FD0qTg"
      }
    }
  ]
}