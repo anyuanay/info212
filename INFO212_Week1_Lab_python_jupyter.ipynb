{
  "nbformat": 4,
  "nbformat_minor": 0,
  "metadata": {
    "kernelspec": {
      "display_name": "Python 3",
      "language": "python",
      "name": "python3"
    },
    "language_info": {
      "codemirror_mode": {
        "name": "ipython",
        "version": 3
      },
      "file_extension": ".py",
      "mimetype": "text/x-python",
      "name": "python",
      "nbconvert_exporter": "python",
      "pygments_lexer": "ipython3",
      "version": "3.7.1"
    },
    "colab": {
      "provenance": [],
      "include_colab_link": true
    }
  },
  "cells": [
    {
      "cell_type": "markdown",
      "metadata": {
        "id": "view-in-github",
        "colab_type": "text"
      },
      "source": [
        "<a href=\"https://colab.research.google.com/github/anyuanay/info212/blob/main/INFO212_Week1_Lab_python_jupyter.ipynb\" target=\"_parent\"><img src=\"https://colab.research.google.com/assets/colab-badge.svg\" alt=\"Open In Colab\"/></a>"
      ]
    },
    {
      "cell_type": "markdown",
      "metadata": {
        "id": "aWL1iSNqF4kn"
      },
      "source": [
        "# INFO 212: Data Science Programming 1\n",
        "## Week 1 Lab"
      ]
    },
    {
      "cell_type": "markdown",
      "source": [
        "## Exercise 1:\n",
        "Create a CSV file containing a dataset with 3 attributes. Ensure the dataset has at least 10 records. Save the file as \"mydata.csv\".\n",
        "- In a local environment, it would be good to store the data in the same folder where the notebook resides.\n",
        "- Upload the file to your Google Drive folder \"info212\"\n",
        "- Print out the absolute path of the file in the file system.\n",
        "- Write a program to open the file \"mydata.csv\" and print out the lines of the file."
      ],
      "metadata": {
        "id": "7tFDbPhJSPD4"
      }
    },
    {
      "cell_type": "code",
      "source": [],
      "metadata": {
        "id": "6KnQ-JxO6NHx"
      },
      "execution_count": null,
      "outputs": []
    },
    {
      "cell_type": "markdown",
      "source": [
        "## Exercise 2:\n",
        "Create a tuple of several students each of which is a list of name, phone, and email. Print out the information of each student one at a line."
      ],
      "metadata": {
        "id": "iOEukixChQZP"
      }
    },
    {
      "cell_type": "code",
      "source": [],
      "metadata": {
        "id": "LEt8YkH5ha2y"
      },
      "execution_count": null,
      "outputs": []
    },
    {
      "cell_type": "markdown",
      "source": [
        "## Exercise 3:\n",
        "Given two tuples t1 = (3, 'a', ['b', 2], 5) and t2 = (4, 5, ['b', 2]). Write a function to check how many elements in the first tuple appears in the second tuple. The function should return a number or zero."
      ],
      "metadata": {
        "id": "zCpUaM7t2HlZ"
      }
    },
    {
      "cell_type": "code",
      "source": [],
      "metadata": {
        "id": "X_dR1RmJhjzS"
      },
      "execution_count": null,
      "outputs": []
    },
    {
      "cell_type": "markdown",
      "metadata": {
        "id": "qjwQXmicmMXJ"
      },
      "source": [
        "## Exercise 4:\n",
        "Given a list s = [3, 5, 4, 2, 1, 9, 8, 0]. (1) Using positive indices to extract the last 4 elements. (2) Using negative indices to extract the last 4 elements."
      ]
    },
    {
      "cell_type": "code",
      "source": [],
      "metadata": {
        "id": "55YZ4jK2hoWE"
      },
      "execution_count": null,
      "outputs": []
    },
    {
      "cell_type": "markdown",
      "metadata": {
        "id": "yxlo2dx6rBrc"
      },
      "source": [
        "## Exercise 5:\n",
        "Given a list s = [3, 5, 4, 2, 1, 9, 8, 0]. Extract the sub-sequence excluding the first and last elements"
      ]
    },
    {
      "cell_type": "code",
      "source": [],
      "metadata": {
        "id": "4Tb0hUQohrus"
      },
      "execution_count": null,
      "outputs": []
    },
    {
      "cell_type": "markdown",
      "source": [
        "## Exercise 6:\n",
        "Write a Python function `build_map(list1, list2)` which takes two lists as input and creates a map which uses the first list as the keys and second list as the values. Iterate the two lists sequentially and map the corresponding keys to values. Think about all kinds of input, including list1 with duplicate values, longer list1, empty list1, etc:\n",
        "- if list1 is empty, return a empty map.\n",
        "- if list1 is longer than list2, map extra keys in list1 to None.\n",
        "- if list1 has duplicate keys, map the first occurence of the duplicated key to the corresponding value in list2, ignoring the rest of duplicated keys and corresponding values.\n",
        "- if list1 contains mutable values, ignore them and use the next available immutable one and its corresponding value.\n",
        "- if list2 has more values, ignore them.\n",
        "\n",
        "## Test your function on the following test cases, ensuring your function returns the expected result:\n",
        "\n",
        "### Test case 1:\n",
        "\n",
        "`ls1 = [2,5,8,5]`\n",
        "\n",
        "`ls2 = ['we', 'me', 'he', 'they']`\n",
        "\n",
        "The function returns a map:\n",
        "\n",
        "`m = {2:'we', 5:me, 8:'he'}`\n",
        "\n",
        "### Test case 2:\n",
        "\n",
        "`ls1 = ['a', 'b', [1, 2], 'c', 'b', {'e':3}, 'd']`\n",
        "\n",
        "`ls2 = [1, 2, 3, 4, 5, 6, 7]`\n",
        "\n",
        "The function returns a map:\n",
        "\n",
        "`m = {'a':1, 'b':2, 'c':4, 'd':7}`\n",
        "\n",
        "### Test case 3:\n",
        "\n",
        "`ls1 = []`\n",
        "\n",
        "`ls2 = ['we', 'me', 'he', 'they']`\n",
        "\n",
        "The function returns a map:\n",
        "\n",
        "`m = {}`\n",
        "\n",
        "### Test case 4:\n",
        "\n",
        "`ls1 = [2,5,8,5]`\n",
        "\n",
        "`ls2 = ['we', 'me']`\n",
        "\n",
        "The function returns a map:\n",
        "\n",
        "`m = {2:'we', 5:me, 8:None}`\n",
        "\n",
        "### Test case 5:\n",
        "\n",
        "`ls1 = [2,5,5,8]`\n",
        "\n",
        "`ls2 = ['we', 'me', 'he', 'they', 'she']`\n",
        "\n",
        "The function returns a map:\n",
        "\n",
        "`m = {2:'we', 5:me, 8:'they'}`\n",
        "\n",
        "### Test case 6:\n",
        "\n",
        "`ls1 = [2,5,5,8]`\n",
        "\n",
        "`ls2 = []`\n",
        "\n",
        "The function returns a map:\n",
        "\n",
        "`m = {2:None, 5:None, 8:None}`"
      ],
      "metadata": {
        "id": "gcifqiXfdpdZ"
      }
    },
    {
      "cell_type": "code",
      "source": [],
      "metadata": {
        "id": "m8VMtkS9dp3g"
      },
      "execution_count": null,
      "outputs": []
    }
  ]
}