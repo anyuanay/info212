{
  "nbformat": 4,
  "nbformat_minor": 0,
  "metadata": {
    "kernelspec": {
      "display_name": "Python 3",
      "language": "python",
      "name": "python3"
    },
    "language_info": {
      "codemirror_mode": {
        "name": "ipython",
        "version": 3
      },
      "file_extension": ".py",
      "mimetype": "text/x-python",
      "name": "python",
      "nbconvert_exporter": "python",
      "pygments_lexer": "ipython3",
      "version": "3.7.6"
    },
    "colab": {
      "provenance": [],
      "include_colab_link": true
    }
  },
  "cells": [
    {
      "cell_type": "markdown",
      "metadata": {
        "id": "view-in-github",
        "colab_type": "text"
      },
      "source": [
        "<a href=\"https://colab.research.google.com/github/anyuanay/info212/blob/main/INFO212_Week1_Lecture_python_review.ipynb\" target=\"_parent\"><img src=\"https://colab.research.google.com/assets/colab-badge.svg\" alt=\"Open In Colab\"/></a>"
      ]
    },
    {
      "cell_type": "markdown",
      "metadata": {
        "id": "JSWMcwyN3pbq"
      },
      "source": [
        "# INFO 212: Data Science Programming 1\n",
        "\n",
        "## Python Review: Python Basics and Built-in Data Structures\n",
        "---\n",
        "\n",
        "## **What you should know about Python**\n",
        "* Python basics\n",
        "* tuples are immutable\n",
        "* list.append() to add elements at the end of a list\n",
        "* enumearte(list) generates sequences of tuples (index, element)\n",
        "* dictionary keys must be immutable\n",
        "* zip combines two sequences to a sequence of tuples\n",
        "* zip(*sequence of tuples) unzip to separate sequences\n",
        "* [x for x in a sequence if filter] list comprehension is more compact\n",
        "* set is dictionary with only keys\n",
        "---"
      ]
    },
    {
      "cell_type": "markdown",
      "source": [
        "# Write High Quality Code at Any Point of Your Programming Journey\n",
        "\n",
        "## Code quality is defined by a set of attributes such as\n",
        "- Maintainability\n",
        "- Reusability\n",
        "- Readability\n",
        "- Efficiency\n",
        "- Error proneness\n",
        "- Modularity.\n",
        "\n",
        "## Adopt a Coding Convention\n",
        "- Use camelCase and PascalCase\n",
        "- camelCase:\n",
        "- aVariables\n",
        "- aFunctionName\n",
        "- PascalCase:\n",
        "- ClassName\n",
        "- ConstantName\n",
        "- EnumSet\n",
        "- Meaningful names\n",
        "- Short lines\n",
        "\n",
        "## Write comments\n",
        "- Add comments to explain your functions\n",
        "- Add comments to explain your logic\n",
        "- Add comments to explain your thoughts\n",
        "- Add comments to explain the pre- and post- conditions\n",
        "- Add comments to explain the usage\n",
        "- It is all for your own benefits and others.\n",
        "\n",
        "## Adopt test-driven development\n",
        "- Test and verify the code geneated by AI tools, that is where you separate yourself from a machine.\n",
        "- Think about all the things that could trip your code up and write tests to ensure that your code caters for all scenarios.\n",
        "- Murphy’s Law: Anything can go wrong, will go wrong.\n",
        "- You test should achieve 100% coverage.\n",
        "- Test all extreme cases and boundary conditions."
      ],
      "metadata": {
        "id": "Kis_2fs94P-T"
      }
    },
    {
      "cell_type": "markdown",
      "metadata": {
        "id": "yeCvs-3GF4kz"
      },
      "source": [
        "# Python Basics"
      ]
    },
    {
      "cell_type": "markdown",
      "metadata": {
        "id": "Xn7EHoDSF4k2"
      },
      "source": [
        "#### Comments\n",
        "Any text preceded by the hash mark (pound sign) # is ignored by the Python interpreter.\n",
        "This is often used to add comments to code. At times you may also want to\n",
        "exclude certain blocks of code without deleting them. An easy solution is to comment\n",
        "out the code"
      ]
    },
    {
      "cell_type": "markdown",
      "source": [
        "#### Functions\n",
        "A function is a block of code which only runs when it is called. You can pass data, known as parameters, into a function. A function can return data as a result.\n",
        "\n",
        "In Python a function is defined using the def keyword. To call a function, use the function name followed by parenthesis. Information can be passed into functions as arguments."
      ],
      "metadata": {
        "id": "v2jSxRwusl_u"
      }
    },
    {
      "cell_type": "markdown",
      "source": [
        "```\n",
        "# Example\n",
        "def my_function(name):\n",
        "  print(\"Hello \" + name + \" from a function\")\n",
        "\n",
        "my_function(\"John\")\n",
        "```"
      ],
      "metadata": {
        "id": "UVS2HhpF88Wy"
      }
    },
    {
      "cell_type": "markdown",
      "metadata": {
        "id": "maGOhS3tF4k3"
      },
      "source": [
        "#### Variables and argument passing"
      ]
    },
    {
      "cell_type": "markdown",
      "metadata": {
        "id": "jBeYihPmF4k3"
      },
      "source": [
        "When assigning a variable (or name) in Python, you are creating a reference to the\n",
        "object on the righthand side of the equals sign. In practical terms, consider a list of\n",
        "integers"
      ]
    },
    {
      "cell_type": "markdown",
      "metadata": {
        "id": "TvctW7seF4k5"
      },
      "source": [
        "```\n",
        "data = [1, 2, 3]\n",
        "\n",
        "append_element(data, 4)\n",
        "\n",
        "data\n",
        "```"
      ]
    },
    {
      "cell_type": "markdown",
      "metadata": {
        "id": "ezu8qYJoF4k5"
      },
      "source": [
        "When you pass objects as arguments to a function, new local variables are created referencing\n",
        "the original objects without any copying. If you bind a new object to a variable\n",
        "inside a function, that change will not be reflected in the parent scope. It is\n",
        "therefore possible to alter the internals of a mutable argument. Suppose we had the\n",
        "following function:\n",
        "```python\n",
        "def append_element(some_list, element):\n",
        "    some_list.append(element)\n",
        "```"
      ]
    },
    {
      "cell_type": "markdown",
      "metadata": {
        "id": "cdpNMb7tF4k7"
      },
      "source": [
        "#### Imports\n",
        "In Python a module is simply a file with the .py extension containing Python code.\n",
        "Suppose that we had the following module:"
      ]
    },
    {
      "cell_type": "markdown",
      "metadata": {
        "id": "Yux-xn9yF4k7"
      },
      "source": [
        "```python\n",
        "# some_module.py\n",
        "PI = 3.14159\n",
        "\n",
        "def f(x):\n",
        "    return x + 2\n",
        "\n",
        "def g(a, b):\n",
        "    return a + b\n",
        "```"
      ]
    },
    {
      "cell_type": "markdown",
      "metadata": {
        "id": "lP4fsQA7F4k8"
      },
      "source": [
        "If we wanted to access the variables and functions defined in some_module.py, from\n",
        "another file in the same directory we could do:\n",
        "```\n",
        "import some_module\n",
        "result = some_module.f(5)\n",
        "pi = some_module.PI\n",
        "```"
      ]
    },
    {
      "cell_type": "markdown",
      "metadata": {
        "id": "Y7b1QSiYF4k8"
      },
      "source": [
        "```\n",
        "from some_module import f, g, PI\n",
        "result = g(5, PI)\n",
        "```"
      ]
    },
    {
      "cell_type": "markdown",
      "metadata": {
        "id": "NyEjMP3jF4k8"
      },
      "source": [
        "```\n",
        "import some_module as sm\n",
        "from some_module import PI as pi, g as gf\n",
        "\n",
        "r1 = sm.f(pi)\n",
        "r2 = gf(6, pi)\n",
        "```"
      ]
    },
    {
      "cell_type": "markdown",
      "metadata": {
        "id": "FOA8fdSWF4k-"
      },
      "source": [
        "#### Mutable and immutable objects\n",
        "Most objects in Python, such as lists, dicts, NumPy arrays, and most user-defined\n",
        "types (classes), are mutable. This means that the object or values that they contain can\n",
        "be modified:"
      ]
    },
    {
      "cell_type": "markdown",
      "metadata": {
        "id": "C-MUPQZ0F4k-"
      },
      "source": [
        "strings and tuples, are immutable:"
      ]
    },
    {
      "cell_type": "markdown",
      "metadata": {
        "id": "JqMd-vsAu7ZL"
      },
      "source": [
        "In Python, keys of dictionay must be immutable. tuples can be keys of dictionary.\n",
        "\n",
        "---\n",
        "\n"
      ]
    },
    {
      "cell_type": "markdown",
      "source": [
        "# Python Data Types"
      ],
      "metadata": {
        "id": "lBsXTo9YFsyV"
      }
    },
    {
      "cell_type": "markdown",
      "metadata": {
        "id": "OgzA73DpF4lC"
      },
      "source": [
        "### Scalar Types\n",
        "Python along with its standard library has a small set of built-in types for handling\n",
        "numerical data, strings, boolean (True or False) values, and dates and time. These\n",
        "“single value” types are sometimes called scalar types and we refer to them in this\n",
        "book as scalars."
      ]
    },
    {
      "cell_type": "markdown",
      "metadata": {
        "id": "5BvSTZhhF4lC"
      },
      "source": [
        "#### Numeric types"
      ]
    },
    {
      "cell_type": "markdown",
      "metadata": {
        "id": "mPFFzbgJF4lD"
      },
      "source": [
        "#### Strings\n",
        "Many people use Python for its powerful and flexible built-in string processing capabilities.\n",
        "You can write string literals using either single quotes ' or double quotes \":"
      ]
    },
    {
      "cell_type": "markdown",
      "metadata": {
        "id": "wz5k6Pv8F4lD"
      },
      "source": [
        "```\n",
        "a = 'one way of writing a string'\n",
        "b = \"another way\"\n",
        "```"
      ]
    },
    {
      "cell_type": "markdown",
      "metadata": {
        "id": "Ki3nkMdOF4lF"
      },
      "source": [
        "The syntax s[:3] is called slicing and is implemented for many kinds of Python\n",
        "sequences."
      ]
    },
    {
      "cell_type": "markdown",
      "metadata": {
        "id": "eqHrXoqeF4lF"
      },
      "source": [
        "The backslash character \\ is an escape character, meaning that it is used to specify\n",
        "special characters like newline \\n or Unicode characters."
      ]
    },
    {
      "cell_type": "markdown",
      "metadata": {
        "id": "FeRD3EdAF4lI"
      },
      "source": [
        "#### Booleans\n",
        "The two boolean values in Python are written as True and False. Comparisons and\n",
        "other conditional expressions evaluate to either True or False. Boolean values are\n",
        "combined with the and and or keywords:"
      ]
    },
    {
      "cell_type": "markdown",
      "metadata": {
        "id": "OHHEovYqF4lJ"
      },
      "source": [
        "#### Type casting\n",
        "The str, bool, int, and float types are also functions that can be used to cast values\n",
        "to those types:"
      ]
    },
    {
      "cell_type": "markdown",
      "metadata": {
        "id": "zpYlrvTUF4lJ"
      },
      "source": [
        "#### None\n",
        "None is the Python null value type. If a function does not explicitly return a value, it\n",
        "implicitly returns None:"
      ]
    },
    {
      "cell_type": "markdown",
      "metadata": {
        "id": "Ft6vI364F4lK"
      },
      "source": [
        "```\n",
        "def add_and_maybe_multiply(a, b, c=None):\n",
        "    result = a + b\n",
        "\n",
        "    if c is not None:\n",
        "        result = result * c\n",
        "\n",
        "    return result\n",
        "```"
      ]
    },
    {
      "cell_type": "markdown",
      "metadata": {
        "id": "48goS_GpF4lK"
      },
      "source": [
        "#### Dates and times\n",
        "The built-in Python datetime module provides datetime, date, and time types. The\n",
        "datetime type, as you may imagine, combines the information stored in date and\n",
        "time and is the most commonly used:"
      ]
    },
    {
      "cell_type": "code",
      "metadata": {
        "collapsed": true,
        "jupyter": {
          "outputs_hidden": true
        },
        "id": "07AhjhkUF4lK",
        "colab": {
          "base_uri": "https://localhost:8080/"
        },
        "outputId": "77c21aea-7529-428b-c6bb-cfbb8c84a7e7"
      },
      "source": [
        "from datetime import datetime, date, time\n",
        "dt = datetime(2011, 10, 29, 20, 30, 21)\n",
        "dt.day\n",
        "dt.minute"
      ],
      "execution_count": null,
      "outputs": [
        {
          "output_type": "execute_result",
          "data": {
            "text/plain": [
              "30"
            ]
          },
          "metadata": {},
          "execution_count": 35
        }
      ]
    },
    {
      "cell_type": "markdown",
      "metadata": {
        "id": "34Zl9qZSF4lK"
      },
      "source": [
        "Given a datetime instance, you can extract the equivalent date and time objects by\n",
        "calling methods on the datetime of the same name:"
      ]
    },
    {
      "cell_type": "code",
      "metadata": {
        "jupyter": {
          "outputs_hidden": true
        },
        "id": "Wb6gV9-yF4lL",
        "colab": {
          "base_uri": "https://localhost:8080/"
        },
        "outputId": "183d3070-d303-4b3c-f8ec-eb235a0efeb4"
      },
      "source": [
        "dt.date()"
      ],
      "execution_count": null,
      "outputs": [
        {
          "output_type": "execute_result",
          "data": {
            "text/plain": [
              "datetime.date(2011, 10, 29)"
            ]
          },
          "metadata": {},
          "execution_count": 36
        }
      ]
    },
    {
      "cell_type": "code",
      "metadata": {
        "colab": {
          "base_uri": "https://localhost:8080/"
        },
        "id": "EwMnZACg1Zi8",
        "outputId": "8217ce47-0de0-48dd-f2bd-c987048e70c6"
      },
      "source": [
        "dt.time()"
      ],
      "execution_count": null,
      "outputs": [
        {
          "output_type": "execute_result",
          "data": {
            "text/plain": [
              "datetime.time(20, 30, 21)"
            ]
          },
          "metadata": {
            "tags": []
          },
          "execution_count": 45
        }
      ]
    },
    {
      "cell_type": "markdown",
      "metadata": {
        "id": "5g8MmQZpF4lL"
      },
      "source": [
        "The strftime method formats a datetime as a string:"
      ]
    },
    {
      "cell_type": "code",
      "metadata": {
        "collapsed": true,
        "jupyter": {
          "outputs_hidden": true
        },
        "id": "-Ie1VAbdF4lL"
      },
      "source": [
        "dt.strftime('%m/%d/%Y %H:%M')"
      ],
      "execution_count": null,
      "outputs": []
    },
    {
      "cell_type": "markdown",
      "metadata": {
        "id": "s_XEBwA2F4lL"
      },
      "source": [
        "Strings can be converted (parsed) into datetime objects with the strptime function:"
      ]
    },
    {
      "cell_type": "code",
      "metadata": {
        "id": "UrLOe0_pF4lL"
      },
      "source": [
        "datetime.strptime('20091031', '%Y%m%d')"
      ],
      "execution_count": null,
      "outputs": []
    },
    {
      "cell_type": "markdown",
      "metadata": {
        "id": "ToFUPpIxF4lL"
      },
      "source": [
        "When you are aggregating or otherwise grouping time series data, it will occasionally\n",
        "be useful to replace time fields of a series of datetimes—for example, replacing the\n",
        "minute and second fields with zero:"
      ]
    },
    {
      "cell_type": "code",
      "metadata": {
        "collapsed": true,
        "jupyter": {
          "outputs_hidden": true
        },
        "id": "5Hf_EzQnF4lM"
      },
      "source": [
        "dt.replace(minute=0, second=0)"
      ],
      "execution_count": null,
      "outputs": []
    },
    {
      "cell_type": "markdown",
      "metadata": {
        "id": "UYw4_5RfF4lM"
      },
      "source": [
        "The difference of two datetime objects produces a datetime.timedelta type:"
      ]
    },
    {
      "cell_type": "code",
      "metadata": {
        "collapsed": true,
        "jupyter": {
          "outputs_hidden": true
        },
        "id": "Q0qSWJDYF4lM"
      },
      "source": [
        "dt2 = datetime(2011, 11, 15, 22, 30)\n",
        "delta = dt2 - dt\n",
        "delta\n",
        "type(delta)"
      ],
      "execution_count": null,
      "outputs": []
    },
    {
      "cell_type": "markdown",
      "metadata": {
        "id": "x0zmK-doF4lM"
      },
      "source": [
        "Adding a timedelta to a datetime produces a new shifted datetime:"
      ]
    },
    {
      "cell_type": "code",
      "metadata": {
        "collapsed": true,
        "jupyter": {
          "outputs_hidden": true
        },
        "id": "-51s1GVGF4lM"
      },
      "source": [
        "dt\n",
        "dt + delta"
      ],
      "execution_count": null,
      "outputs": []
    },
    {
      "cell_type": "markdown",
      "source": [
        "### Exercise:\n",
        "- Print out the weekday of today.\n",
        "- Print out the numerical order of today's date in this year."
      ],
      "metadata": {
        "id": "NJQ3Wkc6wq0b"
      }
    },
    {
      "cell_type": "code",
      "source": [],
      "metadata": {
        "id": "ey6Gk0SXxnWR"
      },
      "execution_count": null,
      "outputs": []
    },
    {
      "cell_type": "markdown",
      "metadata": {
        "id": "InfISMEaF4lM"
      },
      "source": [
        "### Control Flow\n",
        "Python has several built-in keywords for conditional logic, loops, and other standard\n",
        "control flow concepts found in other programming languages."
      ]
    },
    {
      "cell_type": "markdown",
      "metadata": {
        "id": "nhT17jh3F4lN"
      },
      "source": [
        "#### if, elif, and else"
      ]
    },
    {
      "cell_type": "markdown",
      "metadata": {
        "id": "iak0dmL4F4lN"
      },
      "source": [
        "```\n",
        "if x < 0:\n",
        "    print('It's negative')\n",
        "```"
      ]
    },
    {
      "cell_type": "code",
      "metadata": {
        "id": "iKko9YRE1-MH"
      },
      "source": [
        "x = -2"
      ],
      "execution_count": null,
      "outputs": []
    },
    {
      "cell_type": "code",
      "metadata": {
        "colab": {
          "base_uri": "https://localhost:8080/"
        },
        "id": "Pq646Wqe13Od",
        "outputId": "0fa7241d-e679-4d70-98dc-98e08da969c4"
      },
      "source": [
        "if x <0:\n",
        "    print(\"it's negative\")"
      ],
      "execution_count": null,
      "outputs": [
        {
          "output_type": "stream",
          "text": [
            "it's negative\n"
          ],
          "name": "stdout"
        }
      ]
    },
    {
      "cell_type": "markdown",
      "metadata": {
        "id": "hpJDfzl1F4lN"
      },
      "source": [
        "```\n",
        "if x < 0:\n",
        "    print('It's negative')\n",
        "elif x == 0:\n",
        "    print('Equal to zero')\n",
        "elif 0 < x < 5:\n",
        "    print('Positive but smaller than 5')\n",
        "else:\n",
        "    print('Positive and larger than or equal to 5')\n",
        "```"
      ]
    },
    {
      "cell_type": "markdown",
      "metadata": {
        "id": "NfA2dsyBF4lN"
      },
      "source": [
        "If any of the conditions is True, no further elif or else blocks will be reached. With\n",
        "a compound condition using and or or, conditions are evaluated left to right and will\n",
        "short-circuit:"
      ]
    },
    {
      "cell_type": "markdown",
      "metadata": {
        "id": "uAI5CZedF4lN"
      },
      "source": [
        "It is also possible to chain comparisons:"
      ]
    },
    {
      "cell_type": "code",
      "metadata": {
        "collapsed": true,
        "jupyter": {
          "outputs_hidden": true
        },
        "id": "N7kGk39tF4lN"
      },
      "source": [
        "4 > 3 > 2 > 1"
      ],
      "execution_count": null,
      "outputs": []
    },
    {
      "cell_type": "markdown",
      "metadata": {
        "id": "NgteapShF4lO"
      },
      "source": [
        "#### for loops\n",
        "for loops are for iterating over a collection (like a list or tuple) or an iterater. The\n",
        "standard syntax for a for loop is:"
      ]
    },
    {
      "cell_type": "markdown",
      "metadata": {
        "id": "ppbD5jNOF4lO"
      },
      "source": [
        "```\n",
        "for value in collection:\n",
        "    # do something with value\n",
        "````"
      ]
    },
    {
      "cell_type": "markdown",
      "metadata": {
        "id": "WzU9qfDjF4lO"
      },
      "source": [
        "You can advance a for loop to the next iteration, skipping the remainder of the block,\n",
        "using the continue keyword. Consider this code, which sums up integers in a list and\n",
        "skips None values:\n",
        "```\n",
        "sequence = [1, 2, None, 4, None, 5]\n",
        "total = 0\n",
        "for value in sequence:\n",
        "    if value is None:\n",
        "        continue\n",
        "    total += value\n",
        "```"
      ]
    },
    {
      "cell_type": "markdown",
      "metadata": {
        "id": "E0BMBCiTF4lO"
      },
      "source": [
        "A for loop can be exited altogether with the break keyword. This code sums elements\n",
        "of the list until a 5 is reached:\n",
        "```\n",
        "sequence = [1, 2, 0, 4, 6, 5, 2, 1]\n",
        "total_until_5 = 0\n",
        "for value in sequence:\n",
        "    if value == 5:\n",
        "        break\n",
        "    total_until_5 += value\n",
        "```"
      ]
    },
    {
      "cell_type": "markdown",
      "metadata": {
        "id": "WJzGUs26F4lP"
      },
      "source": [
        "As we will see in more detail, if the elements in the collection or iterator are sequences\n",
        "(tuples or lists, say), they can be conveniently unpacked into variables in the for\n",
        "loop statement:\n",
        "```\n",
        "for a, b, c in iterator:\n",
        "    # do something\n",
        "```"
      ]
    },
    {
      "cell_type": "markdown",
      "metadata": {
        "id": "J-HnWKeYF4lP"
      },
      "source": [
        "#### while loops\n",
        "A while loop specifies a condition and a block of code that is to be executed until the\n",
        "condition evaluates to False or the loop is explicitly ended with break:"
      ]
    },
    {
      "cell_type": "markdown",
      "metadata": {
        "id": "TqBunSFRF4lP"
      },
      "source": [
        "```\n",
        "x = 256\n",
        "total = 0\n",
        "while x > 0:\n",
        "    if total > 500:\n",
        "        break\n",
        "    total += x\n",
        "    x = x // 2\n",
        "```"
      ]
    },
    {
      "cell_type": "code",
      "source": [],
      "metadata": {
        "id": "f4IYz6EIxkwk"
      },
      "execution_count": null,
      "outputs": []
    },
    {
      "cell_type": "markdown",
      "metadata": {
        "id": "-1DR6_OVF4lP"
      },
      "source": [
        "#### pass\n",
        "pass is the “no-op” statement in Python. It can be used in blocks where no action is to\n",
        "be taken (or as a placeholder for code not yet implemented); it is only required\n",
        "because Python uses whitespace to delimit blocks:"
      ]
    },
    {
      "cell_type": "markdown",
      "metadata": {
        "id": "ZADoq3RcF4lQ"
      },
      "source": [
        "```\n",
        "if x < 0:\n",
        "    print('negative!')\n",
        "elif x == 0:\n",
        "    # TODO: put something smart here\n",
        "    pass\n",
        "else:\n",
        "    print('positive!')\n",
        "```"
      ]
    },
    {
      "cell_type": "markdown",
      "metadata": {
        "id": "LGfNv6_DF4lQ"
      },
      "source": [
        "#### range\n",
        "The range function returns an iterator that yields a sequence of evenly spaced\n",
        "integers:"
      ]
    },
    {
      "cell_type": "code",
      "metadata": {
        "collapsed": true,
        "jupyter": {
          "outputs_hidden": true
        },
        "id": "fTn4reChF4lQ"
      },
      "source": [
        "range(10)\n",
        "list(range(10))"
      ],
      "execution_count": null,
      "outputs": []
    },
    {
      "cell_type": "code",
      "metadata": {
        "collapsed": true,
        "jupyter": {
          "outputs_hidden": true
        },
        "id": "57LSK1uVF4lQ"
      },
      "source": [
        "list(range(0, 20, 2))\n",
        "list(range(5, 0, -1))"
      ],
      "execution_count": null,
      "outputs": []
    },
    {
      "cell_type": "markdown",
      "metadata": {
        "id": "tKAwNx2nF4lQ"
      },
      "source": [
        "seq = [1, 2, 3, 4]\n",
        "for i in range(len(seq)):\n",
        "    val = seq[i]"
      ]
    },
    {
      "cell_type": "markdown",
      "metadata": {
        "id": "m4w76P0RF4lR"
      },
      "source": [
        "sum = 0\n",
        "for i in range(100000):\n",
        "    # % is the modulo operator\n",
        "    if i % 3 == 0 or i % 5 == 0:\n",
        "        sum += i"
      ]
    },
    {
      "cell_type": "markdown",
      "source": [
        "### Exercise:\n",
        "- Write a for loop to print out the numbers between 0-20 indicating whether the number is even or odd."
      ],
      "metadata": {
        "id": "pXK0ieXfxpwf"
      }
    },
    {
      "cell_type": "code",
      "source": [],
      "metadata": {
        "id": "_EE2cIO4yPny"
      },
      "execution_count": null,
      "outputs": []
    },
    {
      "cell_type": "markdown",
      "metadata": {
        "id": "RQJwODijJjSe"
      },
      "source": [
        "## Exception in Python"
      ]
    },
    {
      "cell_type": "code",
      "metadata": {
        "colab": {
          "base_uri": "https://localhost:8080/"
        },
        "id": "a4U87W__JnQM",
        "outputId": "42be75a6-5552-4b95-9cdc-6d50dceba2fd"
      },
      "source": [
        "fileName = 'empty_lines.txt'\n",
        "try:\n",
        "    with open(fileName, 'r') as f:\n",
        "        line = f.readlines()\n",
        "        print(lines)\n",
        "except FileNotFoundError:\n",
        "    print(\"{} desn't exist\".format(fileName))"
      ],
      "execution_count": null,
      "outputs": [
        {
          "output_type": "stream",
          "text": [
            "['this is a Line\\n', '\\n', 'this is a Line\\n', '\\n', '\\n', '\\n', 'this is a Line\\n']\n"
          ],
          "name": "stdout"
        }
      ]
    },
    {
      "cell_type": "code",
      "metadata": {
        "id": "wLNpkIiVSUXf"
      },
      "source": [
        "filename = 'empty_lines'"
      ],
      "execution_count": null,
      "outputs": []
    },
    {
      "cell_type": "code",
      "metadata": {
        "colab": {
          "base_uri": "https://localhost:8080/"
        },
        "id": "sL0xZLUMR1mL",
        "outputId": "1fc4fa23-45a5-4122-e63d-8912f657bcc1"
      },
      "source": [
        "try:\n",
        "    with open(filename, 'r') as f:\n",
        "        line = f.readlines()\n",
        "        print(lines)\n",
        "except OSError:\n",
        "    print(\"{} doesn't exist\".format(filename))"
      ],
      "execution_count": null,
      "outputs": [
        {
          "output_type": "stream",
          "text": [
            "empty_lines doesn't exist\n"
          ],
          "name": "stdout"
        }
      ]
    },
    {
      "cell_type": "markdown",
      "metadata": {
        "id": "NeYYWM5V3pbz"
      },
      "source": [
        "## Tuple\n",
        "A tuple is a fixed-length, immutable sequence of Python objects. The easiest way to\n",
        "create one is with a comma-separated sequence of values. Tuple is defined using ()."
      ]
    },
    {
      "cell_type": "markdown",
      "source": [
        "## Exercise:\n",
        "Create a tuple with 3 items. Show that the tuple is immutable"
      ],
      "metadata": {
        "id": "Uj-ZTykg9qCu"
      }
    },
    {
      "cell_type": "code",
      "source": [],
      "metadata": {
        "id": "Y_v0jreXU5y9"
      },
      "execution_count": null,
      "outputs": []
    },
    {
      "cell_type": "markdown",
      "metadata": {
        "id": "BpAii_F53pb-"
      },
      "source": [
        "## List\n",
        "lists are variable-length and their contents can be modified\n",
        "in-place. You can define them using square brackets [] or using the list type function:"
      ]
    },
    {
      "cell_type": "code",
      "source": [
        "ls = [3, 4, 5, 6]\n",
        "ls[3] = 0\n",
        "ls"
      ],
      "metadata": {
        "id": "IPEu3BfzVL7d",
        "colab": {
          "base_uri": "https://localhost:8080/"
        },
        "outputId": "44f4eab0-0fac-4f02-d5ae-b1675422a7ac"
      },
      "execution_count": null,
      "outputs": [
        {
          "output_type": "execute_result",
          "data": {
            "text/plain": [
              "[3, 4, 5, 0]"
            ]
          },
          "metadata": {},
          "execution_count": 2
        }
      ]
    },
    {
      "cell_type": "markdown",
      "source": [
        "### List Slicing\n",
        "List items can be iterated through positive or negative indices."
      ],
      "metadata": {
        "id": "mh7YJYz_VMRF"
      }
    },
    {
      "cell_type": "markdown",
      "metadata": {
        "id": "BEqtSN1f3pcK"
      },
      "source": [
        "The following figure shows a helpful illustration of slicing with positive and negative\n",
        "integers. In the figure, the indices are shown at the “bin edges” to help show\n",
        "where the slice selections start and stop using positive or negative indices.\n",
        "![](https://i.imgur.com/zJA7O16.png)"
      ]
    },
    {
      "cell_type": "markdown",
      "source": [
        "## Exercise:\n",
        "Given a list of 9 items. What is the positive index of 6th item? What is the negative index of the 6th item? What is the range of positive indices of the third, fourth, and fifth items? What is the range of negative indices of the third, fourth, and fifth items? What is the range of mixed positive and negative indices for the third, fourth, and fifth items?"
      ],
      "metadata": {
        "id": "yIiWUGw0_nk1"
      }
    },
    {
      "cell_type": "markdown",
      "metadata": {
        "id": "LVKPlUME3pcM"
      },
      "source": [
        "### Built-in Sequence Functions\n",
        "Python has a handful of useful sequence functions that you should familiarize yourself\n",
        "with and use at any opportunity."
      ]
    },
    {
      "cell_type": "markdown",
      "metadata": {
        "id": "ismNlvdh3pcN"
      },
      "source": [
        "#### enumerate"
      ]
    },
    {
      "cell_type": "code",
      "source": [],
      "metadata": {
        "id": "Ezg4NJw8VahE"
      },
      "execution_count": null,
      "outputs": []
    },
    {
      "cell_type": "markdown",
      "metadata": {
        "id": "VSxHXNky3pcP"
      },
      "source": [
        "#### zip"
      ]
    },
    {
      "cell_type": "markdown",
      "metadata": {
        "id": "Gx3Nt_dN3pcQ"
      },
      "source": [
        "zip “pairs” up the elements of a number of lists, tuples, or other sequences to create a\n",
        "list of tuples:\n",
        "```\n",
        "seq1 = ['foo', 'bar', 'baz']\n",
        "seq2 = ['one', 'two', 'three']\n",
        "zipped = zip(seq1, seq2)\n",
        "list(zipped)\n",
        "```"
      ]
    },
    {
      "cell_type": "markdown",
      "metadata": {
        "id": "hAmucoY13pcT"
      },
      "source": [
        "## Dictionary\n",
        "Dictionary is likely the most important built-in Python data structure. A more common\n",
        "name for it is hash map or associative array. It is a flexibly sized collection of key-value\n",
        "pairs, where key and value are Python objects. One approach for creating one is to use\n",
        "curly braces {} and colons to separate keys and values:"
      ]
    },
    {
      "cell_type": "code",
      "source": [],
      "metadata": {
        "id": "ZOQfsjaHVtUs"
      },
      "execution_count": null,
      "outputs": []
    },
    {
      "cell_type": "markdown",
      "metadata": {
        "id": "XdOyXg9j3pcW"
      },
      "source": [
        "#### Creating dicts from sequences\n",
        "It’s common to occasionally end up with two sequences that you want to pair up\n",
        "element-wise in a dict. As a first cut, you might write code like this:"
      ]
    },
    {
      "cell_type": "markdown",
      "metadata": {
        "id": "T_Y1Ifqj3pcW"
      },
      "source": [
        "```\n",
        "mapping = {}\n",
        "for key, value in zip(key_list, value_list):\n",
        "    mapping[key] = value\n",
        "```"
      ]
    },
    {
      "cell_type": "markdown",
      "metadata": {
        "id": "v6Nm3xrB3pcZ"
      },
      "source": [
        "#### Valid dict key types"
      ]
    },
    {
      "cell_type": "markdown",
      "metadata": {
        "id": "9Vj5SASJ3pcZ"
      },
      "source": [
        "Keys of dicitonaries must be hashable or immutable.\n",
        "```\n",
        "hash('string')\n",
        "hash((1, 2, (2, 3)))\n",
        "hash((1, 2, [2, 3])) # fails because lists are mutable\n",
        "```"
      ]
    },
    {
      "cell_type": "markdown",
      "source": [
        "## Exercise:\n",
        "Is `(1, 2, '23')` immutable or mutable? Use code to show it."
      ],
      "metadata": {
        "id": "ilV4uHecBXdu"
      }
    },
    {
      "cell_type": "code",
      "source": [],
      "metadata": {
        "id": "y1wyfeiVCenx"
      },
      "execution_count": null,
      "outputs": []
    },
    {
      "cell_type": "markdown",
      "metadata": {
        "id": "EhGZViUt3pcb"
      },
      "source": [
        "## Set"
      ]
    },
    {
      "cell_type": "markdown",
      "metadata": {
        "id": "5jnLk1ne3pcb"
      },
      "source": [
        "A set is an unordered collection of unique elements.\n",
        "```\n",
        "set([2, 2, 2, 1, 3, 3])\n",
        "{2, 2, 2, 1, 3, 3}\n",
        "```"
      ]
    },
    {
      "cell_type": "markdown",
      "metadata": {
        "id": "0LTI57u43pcc"
      },
      "source": [
        "Set union, intersection, difference, and symmetric difference"
      ]
    },
    {
      "cell_type": "markdown",
      "metadata": {
        "id": "cVD22JOF3pcc"
      },
      "source": [
        "```\n",
        "a.union(b)\n",
        "a | b\n",
        "```"
      ]
    },
    {
      "cell_type": "markdown",
      "metadata": {
        "id": "hd79LGQd3pcd"
      },
      "source": [
        "```\n",
        "a.intersection(b)\n",
        "a & b\n",
        "```"
      ]
    },
    {
      "cell_type": "markdown",
      "source": [
        "## Exercise:\n",
        "List the unique values in the list `[2, 2, 2, 1, 3, 9, 0, 0]`."
      ],
      "metadata": {
        "id": "sHLqP1k1CFSf"
      }
    },
    {
      "cell_type": "code",
      "source": [],
      "metadata": {
        "id": "AlDlFtLaCYz-"
      },
      "execution_count": null,
      "outputs": []
    },
    {
      "cell_type": "markdown",
      "metadata": {
        "id": "fgWaZm-z3pce"
      },
      "source": [
        "## List, Set, and Dict Comprehensions"
      ]
    },
    {
      "cell_type": "markdown",
      "metadata": {
        "id": "sIXKSXRE3pce"
      },
      "source": [
        "List comprehensions are one of the most-loved Python language features. They allow\n",
        "you to concisely form a new list by filtering the elements of a collection, transforming\n",
        "the elements passing the filter in one concise expression. They take the basic form:\n",
        "```\n",
        "[expr for val in collection if condition]\n",
        "```\n",
        "\n",
        "This is equivalent to the following for loop:\n",
        "```\n",
        "result = []\n",
        "for val in collection:\n",
        "    if condition:\n",
        "        result.append(expr)\n",
        "```\n",
        "The filter condition can be omitted, leaving only the expression. For example, given a\n",
        "list of strings, we could filter out strings with length 2 or less and also convert them to uppercase like this:"
      ]
    },
    {
      "cell_type": "markdown",
      "metadata": {
        "id": "qnF3DH643pcf"
      },
      "source": [
        "```\n",
        "strings = ['a', 'as', 'bat', 'car', 'dove', 'python']\n",
        "[x.upper() for x in strings if len(x) > 2]\n",
        "```"
      ]
    },
    {
      "cell_type": "code",
      "metadata": {
        "id": "3x85ue-j5ozm"
      },
      "source": [],
      "execution_count": null,
      "outputs": []
    },
    {
      "cell_type": "markdown",
      "metadata": {
        "id": "mdcTHjGF3pcf"
      },
      "source": [
        "Set and dict comprehensions are a natural extension, producing sets and dicts in an\n",
        "idiomatically similar way instead of lists. A dict comprehension looks like this:\n",
        "```\n",
        "dict_comp = {key-expr : value-expr for value in collection if condition}\n",
        "```"
      ]
    },
    {
      "cell_type": "markdown",
      "metadata": {
        "id": "X9efFMxs3pcf"
      },
      "source": [
        "A set comprehension looks like the equivalent list comprehension except with curly\n",
        "braces instead of square brackets:\n",
        "```\n",
        "set_comp = {expr for value in collection if condition}\n",
        "```"
      ]
    },
    {
      "cell_type": "markdown",
      "metadata": {
        "id": "nJ7VCm-a3pcg"
      },
      "source": [
        "```\n",
        "unique_lengths = {len(x) for x in strings}\n",
        "unique_lengths\n",
        "```"
      ]
    },
    {
      "cell_type": "markdown",
      "metadata": {
        "id": "pVutnpT13pcg"
      },
      "source": [
        "```\n",
        "set(map(len, strings))\n",
        "```"
      ]
    },
    {
      "cell_type": "markdown",
      "metadata": {
        "id": "OpG_63d03pch"
      },
      "source": [
        "```\n",
        "loc_mapping = {val : index for index, val in enumerate(strings)}\n",
        "loc_mapping\n",
        "```"
      ]
    },
    {
      "cell_type": "markdown",
      "source": [
        "## Exercise:\n",
        "Given a list of names `names = [\"Alice\", \"Bob\", \"Charlie\", \"David\", \"Emma\", \"Frank\", \"Grace\"]`. Use dictionary comprehension to create a dictionary that maps each unique length to the list of names that have the same length."
      ],
      "metadata": {
        "id": "5QbGNvGgD0ZN"
      }
    },
    {
      "cell_type": "code",
      "source": [],
      "metadata": {
        "id": "ZPVdl0TfD5tF"
      },
      "execution_count": null,
      "outputs": []
    }
  ]
}