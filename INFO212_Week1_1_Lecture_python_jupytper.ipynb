{
  "nbformat": 4,
  "nbformat_minor": 0,
  "metadata": {
    "kernelspec": {
      "display_name": "Python 3",
      "language": "python",
      "name": "python3"
    },
    "language_info": {
      "codemirror_mode": {
        "name": "ipython",
        "version": 3
      },
      "file_extension": ".py",
      "mimetype": "text/x-python",
      "name": "python",
      "nbconvert_exporter": "python",
      "pygments_lexer": "ipython3",
      "version": "3.7.1"
    },
    "colab": {
      "provenance": [],
      "include_colab_link": true
    }
  },
  "cells": [
    {
      "cell_type": "markdown",
      "metadata": {
        "id": "view-in-github",
        "colab_type": "text"
      },
      "source": [
        "<a href=\"https://colab.research.google.com/github/anyuanay/info212/blob/main/INFO212_Week1_1_Lecture_python_jupytper.ipynb\" target=\"_parent\"><img src=\"https://colab.research.google.com/assets/colab-badge.svg\" alt=\"Open In Colab\"/></a>"
      ]
    },
    {
      "cell_type": "markdown",
      "metadata": {
        "id": "aWL1iSNqF4kn"
      },
      "source": [
        "# INFO 212: Data Science Programming 1\n",
        "## CCI at Drexel University\n",
        "### Yuan An, PhD\n",
        "### Associate Professor\n",
        "\n",
        "## Week 1-Lecture 1: Setup and Review: Python and Jupyter Notebooks\n",
        "---\n",
        "## **What should you learn from today's lecture?**\n",
        "- Use Colab notebook\n",
        "- Use Colab AI\n",
        "- import conventions\n",
        "- Markdown instructions\n",
        "- Define a function: def fun()\n",
        "- Variables, data types\n",
        "- Strings\n",
        "- if..elif..else\n",
        "- for loop\n",
        "- None type\n",
        "- Open and save files from Google drive\n",
        "- try...except\n",
        "---\n"
      ]
    },
    {
      "cell_type": "markdown",
      "source": [
        "## Retrieval practice"
      ],
      "metadata": {
        "id": "8aAkdeOL7rPf"
      }
    },
    {
      "cell_type": "markdown",
      "metadata": {
        "id": "_9alPk73F4ku"
      },
      "source": [
        "## Set up Directories\n",
        "I recommend you to put all your notebooks and datasets in a directory called \"info212\" in your Google Drive.\n",
        "- Mount your drive to your notebook.\n",
        "- Navigate the directory from your notebook.\n",
        "\n",
        "## Access Files in Google Drive\n",
        "### Mount Google Drive to Colab Notebook:\n",
        "To access a saved file from a Google colab notebook, first you need to mount your google drive to the notebook.\n",
        "- Click the folder icon on the left margin to open the file navigation panel.\n",
        "- Click the 'Mount Drive' icon to mount your google drive\n",
        "- Follow the instructions to authorize your notebook to access your drive.\n",
        "\n",
        "![](https://i.imgur.com/WlqBFdz.png)\n"
      ]
    },
    {
      "cell_type": "markdown",
      "source": [
        "### Copy the path of a File\n",
        "- Point to the vertical three dots next to a file.\n",
        "- Right-click the mouse the bring up the context menu.\n",
        "- Click \"Copy path\" to copy the path of the input file.\n",
        "![](https://i.imgur.com/lNzsAmy.png)"
      ],
      "metadata": {
        "id": "l_jUuh3RsXso"
      }
    },
    {
      "cell_type": "markdown",
      "source": [
        "### Exercise:\n",
        "- Download this notebook to \"info212\". Move this notebook to the folder \"info212\" in your drive.\n",
        "- Download the datasets from the course shell. Print out the path of the file 'iris.csv'."
      ],
      "metadata": {
        "id": "XBbGOk8bofHB"
      }
    },
    {
      "cell_type": "code",
      "source": [],
      "metadata": {
        "id": "qs4QvSPgoj9q"
      },
      "execution_count": null,
      "outputs": []
    },
    {
      "cell_type": "markdown",
      "source": [
        "## Open Colab Notebook\n",
        "- There two types of cells: code and text"
      ],
      "metadata": {
        "id": "5J_qFoopowS7"
      }
    },
    {
      "cell_type": "markdown",
      "source": [
        "### Excercise\n",
        "- In a code cell, write a function to compute the square root of a number. Test the function on -2, 3, 4 and print out the results."
      ],
      "metadata": {
        "id": "1Bp3oiTMTCj3"
      }
    },
    {
      "cell_type": "code",
      "source": [],
      "metadata": {
        "id": "tHUCUDDT7W-h"
      },
      "execution_count": null,
      "outputs": []
    },
    {
      "cell_type": "markdown",
      "metadata": {
        "id": "P1oH9Xm7JYzO"
      },
      "source": [
        "### Text Cell\n",
        "- In a text cell, you can add description for your work. It is essential to add sufficient description about your data analysis activities. Just like code comments are essentials during coding.\n",
        "- Markdown is a simple language to define the styles if you use a notebook environment that doesn't have the styling menus."
      ]
    },
    {
      "cell_type": "markdown",
      "source": [
        "### Excercise\n",
        "- Create a text cell and add a public picture linked here: https://i.imgur.com/oGHBQwb.png"
      ],
      "metadata": {
        "id": "LZt_e77zVON0"
      }
    },
    {
      "cell_type": "code",
      "source": [],
      "metadata": {
        "id": "X488Ta_xVFR7"
      },
      "execution_count": null,
      "outputs": []
    },
    {
      "cell_type": "markdown",
      "source": [
        "## What Does Data Science Programming Do?\n",
        "- Write programs to scrape data from sources.\n",
        "- Write programs to manipuate data.\n",
        "- Store data in desired structures and formats.\n",
        "- Write programs to answer meaningful questions involving complicated operations such as comparison, distillation, aggregation, and visualization."
      ],
      "metadata": {
        "id": "WAIWfCKobnjI"
      }
    },
    {
      "cell_type": "markdown",
      "metadata": {
        "id": "GE1YFyRUF4kt"
      },
      "source": [
        "## The primary focus of analysis is on structured data, such as\n",
        "* Multidimensional arrays (matrices)\n",
        "* Tabular or spreadsheet-like data in which each column may be a different type (string, numeric, date, or otherwise). This includes most kinds of data commonly stored in relational databases or tab- or comma-delimited text files\n",
        "* Multiple tables of data interrelated by key columns\n",
        "* Evenly or unevenly spaced time series\n",
        "\n",
        "## Essential Python Libraries\n",
        "\n",
        "The following is a list of essential python libraries in the scientific Python ecosystem:\n",
        "\n",
        "### NumPy\n",
        "NumPy, short for Numerical Python, is the foundational package for scientific computing\n",
        "in Python.It provides, among other things:\n",
        "* A fast and efficient multidimensional array object ndarray\n",
        "* Functions for performing element-wise computations with arrays or mathematical operations between arrays\n",
        "* Tools for reading and writing array-based data sets to disk\n",
        "* Linear algebra operations, Fourier transform, and random number generation\n",
        "* Tools for integrating connecting C, C++, and Fortran code to Python\n",
        "\n",
        "### Pandas\n",
        "pandas provides rich data structures and functions designed to make working with\n",
        "structured data fast, easy, and expressive. It is, as you will see, one of the critical ingredients enabling Python to be a powerful and productive data analysis environment.\n",
        "The primary object in pandas that will be used in this book is the DataFrame, a two-dimensional tabular, column-oriented data structure with both row and column labels.\n",
        "\n",
        "### matplotlib\n",
        "matplotlib is the most popular Python library for producing plots and other 2D data\n",
        "visualizations.\n",
        "\n",
        "### Seaborn\n",
        "Seaborn is a Python data visualization library based on matplotlib. It provides a high-level interface for drawing attractive and informative statistical graphics.\n",
        "\n",
        "### SciPy\n",
        "SciPy is a collection of packages addressing a number of different standard problem\n",
        "domains in scientific computing.\n",
        "\n",
        "### Scikit-Learn\n",
        "Scikit-learn is a machine learning library for the Python programming language. It features various classification, regression and clustering algorithms including support vector machines, random forests, gradient boosting, k-means, etc."
      ]
    },
    {
      "cell_type": "markdown",
      "metadata": {
        "id": "NtROmfKhF4ku"
      },
      "source": [
        "## Import Conventions\n",
        "The Python community has adopted a number of naming conventions for commonly used\n",
        "modules:"
      ]
    },
    {
      "cell_type": "markdown",
      "source": [
        "## Import libraries"
      ],
      "metadata": {
        "id": "rSoOzmBD1IvJ"
      }
    },
    {
      "cell_type": "markdown",
      "source": [
        "```\n",
        "import pandas as pd\n",
        "import numpy as np\n",
        "import matplotlib\n",
        "import matplotlib.pyplot as plt\n",
        "```"
      ],
      "metadata": {
        "id": "7y9IHR9w8rTS"
      }
    },
    {
      "cell_type": "markdown",
      "source": [
        "```\n",
        "# Print the version of the packages\n",
        "print(matplotlib.__version__)\n",
        "```"
      ],
      "metadata": {
        "id": "C_x6yigP8wx4"
      }
    },
    {
      "cell_type": "code",
      "source": [],
      "metadata": {
        "id": "OKeYqNHUduQI"
      },
      "execution_count": null,
      "outputs": []
    },
    {
      "cell_type": "markdown",
      "source": [
        "## Uploading an External Data Set to Notebook\n",
        "- Your data should be stored in the Google Drive\n",
        "- For small data set, you can upload the data set to the notebook (in a virtual machine)\n",
        "\n",
        "`from google.colab import files`\n",
        "\n",
        "`files.upload()`\n",
        "\n",
        "- For large data sets, mount the drive and use the paths"
      ],
      "metadata": {
        "id": "KzGZLRAmpWRs"
      }
    },
    {
      "cell_type": "markdown",
      "source": [
        "### Exercise:\n",
        "- Open the file \"iris.csv\" in Google Drive and print out its content."
      ],
      "metadata": {
        "id": "cgrLYHw4qD4e"
      }
    },
    {
      "cell_type": "code",
      "source": [],
      "metadata": {
        "id": "uu34qv037ekr"
      },
      "execution_count": null,
      "outputs": []
    },
    {
      "cell_type": "markdown",
      "metadata": {
        "id": "Cu5Pv7pDF4kv"
      },
      "source": [
        "# Introdcution to Data Analysis Tasks\n",
        "\n",
        "In this course we will learn the Python tools to work productively with data. The tasks required generally fall into a number of different broad groups:\n",
        "* **_Interacting with the outside world_**\n",
        "    - Reading and writing with a variety of file formats and databases.\n",
        "    \n",
        "* **_Preparation_**\n",
        "    - Cleaning, munging, combining, normalizing, reshaping, slicing and dicing, and transforming data for analysis.\n",
        "    \n",
        "* **_Transformation_**\n",
        "    - Applying mathematical and statistical operations to groups of data sets to derive new data sets. For example, aggregating a large table by group variables.\n",
        "    \n",
        "* **_Modeling and computation_**\n",
        "    - Connecting your data to statistical models, machine learning algorithms, or other computational tools.\n",
        "    \n",
        "* **_Presentation_**\n",
        "    - Creating interactive or static graphical visualizations or textual summaries.\n"
      ]
    },
    {
      "cell_type": "markdown",
      "source": [
        "# **Although today's AI tools are powerful enough that can automatically carry out the tasks, high-level human intelligence and intervention are essential in data analysis.**"
      ],
      "metadata": {
        "id": "B3CVOeoBqVPu"
      }
    },
    {
      "cell_type": "markdown",
      "source": [
        "# What should a data scientist be able to do?\n",
        "- Master the programming fundamentals\n",
        "- Understand the business needs and ask meaingful questions\n"
      ],
      "metadata": {
        "id": "jJ4jJO48riEV"
      }
    },
    {
      "cell_type": "markdown",
      "source": [
        "### An Example for Describing Data and Asking Meaningful Questions"
      ],
      "metadata": {
        "id": "EDuX5rtCtSg8"
      }
    },
    {
      "cell_type": "markdown",
      "source": [
        "- Kaggle dataset: https://www.kaggle.com/datasets/imakash3011/customer-personality-analysis\n",
        "- Problem Statement\n",
        " - Customer Personality Analysis is a detailed analysis of a company’s ideal customers. It helps a business to better understand its customers and makes it easier for them to modify products according to the specific needs, behaviors and concerns of different types of customers.\n",
        "\n"
      ],
      "metadata": {
        "id": "9ERFFHDftZMA"
      }
    },
    {
      "cell_type": "markdown",
      "source": [
        "Attributes about Customers\n",
        "- ID: Customer's unique identifier\n",
        "- Year_Birth: Customer's birth year\n",
        "- Education: Customer's education level\n",
        "- Marital_Status: Customer's marital status\n",
        "- Income: Customer's yearly household income\n",
        "- Kidhome: Number of children in customer's household\n",
        "- Teenhome: Number of teenagers in customer's household\n",
        "- Dt_Customer: Date of customer's enrollment with the company\n",
        "- Recency: Number of days since customer's last purchase\n",
        "- Complain: 1 if the customer complained in the last 2 years, 0 otherwise\n",
        "\n",
        "Attributes about Products\n",
        "- MntWines: Amount spent on wine in last 2 years\n",
        "- MntFruits: Amount spent on fruits in last 2 years\n",
        "- MntMeatProducts: Amount spent on meat in last 2 years\n",
        "- MntFishProducts: Amount spent on fish in last 2 years\n",
        "- MntSweetProducts: Amount spent on sweets in last 2 years\n",
        "- MntGoldProds: Amount spent on gold in last 2 years\n",
        "\n",
        "\n",
        "Attributes about Promotion:\n",
        "- NumDealsPurchases: Number of purchases made with a discount\n",
        "- AcceptedCmp1: 1 if customer accepted the offer in the 1st campaign, 0 otherwise\n",
        "- AcceptedCmp2: 1 if customer accepted the offer in the 2nd campaign, 0 otherwise\n",
        "- AcceptedCmp3: 1 if customer accepted the offer in the 3rd campaign, 0 otherwise\n",
        "- AcceptedCmp4: 1 if customer accepted the offer in the 4th campaign, 0 otherwise\n",
        "- AcceptedCmp5: 1 if customer accepted the offer in the 5th campaign, 0 otherwise\n",
        "- Response: 1 if customer accepted the offer in the last campaign, 0 otherwise\n",
        "\n",
        "Attributes about Place:\n",
        "- NumWebPurchases: Number of purchases made through the company’s website\n",
        "- NumCatalogPurchases: Number of purchases made using a catalogue\n",
        "- NumStorePurchases: Number of purchases made directly in stores\n",
        "- NumWebVisitsMonth: Number of visits to company’s website in the last month"
      ],
      "metadata": {
        "id": "OFW_xSGUu9cK"
      }
    },
    {
      "cell_type": "markdown",
      "source": [
        "### Questions\n",
        "- Retrieve the top-3 youngest married and single customers who accepted the offers in fewer than 3 times of promotions.\n",
        "- What are average numbers of Web purchases for customers who accepted the promotions at different times?\n",
        "- Discover the relationship between the customers who spent on more wines and more fruits; categorize customers in terms of different attributes"
      ],
      "metadata": {
        "id": "q3aeTkNxvWzj"
      }
    },
    {
      "cell_type": "markdown",
      "metadata": {
        "id": "yeCvs-3GF4kz"
      },
      "source": [
        "# Python Reviews - Retrieval Practice"
      ]
    },
    {
      "cell_type": "markdown",
      "metadata": {
        "id": "Xn7EHoDSF4k2"
      },
      "source": [
        "### Retrieve the following Python concepts:\n",
        "1. comments\n",
        "2. function\n",
        "3. variables and argument passing\n",
        "4. mutable and immutable objects\n",
        "5. Python data types\n",
        "6. Python datetime\n",
        "7. control flow\n",
        "8. for and while loops\n",
        "9. Python range function\n",
        "10. Python exceptions"
      ]
    }
  ]
}