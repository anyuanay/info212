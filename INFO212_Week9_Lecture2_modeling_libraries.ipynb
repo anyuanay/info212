{
  "nbformat": 4,
  "nbformat_minor": 0,
  "metadata": {
    "kernelspec": {
      "display_name": "Python 3",
      "language": "python",
      "name": "python3"
    },
    "language_info": {
      "codemirror_mode": {
        "name": "ipython",
        "version": 3
      },
      "file_extension": ".py",
      "mimetype": "text/x-python",
      "name": "python",
      "nbconvert_exporter": "python",
      "pygments_lexer": "ipython3",
      "version": "3.6.0"
    },
    "colab": {
      "provenance": [],
      "include_colab_link": true
    }
  },
  "cells": [
    {
      "cell_type": "markdown",
      "metadata": {
        "id": "view-in-github",
        "colab_type": "text"
      },
      "source": [
        "<a href=\"https://colab.research.google.com/github/anyuanay/info212/blob/main/INFO212_Week9_Lecture2_modeling_libraries.ipynb\" target=\"_parent\"><img src=\"https://colab.research.google.com/assets/colab-badge.svg\" alt=\"Open In Colab\"/></a>"
      ]
    },
    {
      "cell_type": "markdown",
      "source": [
        "# INFO 212: Data Science Programming 1\n",
        "___\n",
        "\n",
        "### Week 9: Modeling Libraries"
      ],
      "metadata": {
        "id": "nvOdJoRyy2or"
      }
    },
    {
      "cell_type": "code",
      "source": [
        "import pandas as pd\n",
        "import numpy as np\n",
        "import matplotlib.pyplot as plt"
      ],
      "metadata": {
        "id": "eYeo-JG52hMs"
      },
      "execution_count": null,
      "outputs": []
    },
    {
      "cell_type": "markdown",
      "metadata": {
        "deletable": true,
        "editable": true,
        "id": "aYPA7i-TaNfW"
      },
      "source": [
        "# Introduction to statsmodels\n",
        "statsmodels is a Python library for fitting many kinds of statistical models, performing\n",
        "statistical tests, and data exploration and visualization. Statsmodels contains more\n",
        "“classical” frequentist statistical methods, while Bayesian methods and machine learning\n",
        "models are found in other libraries.\n",
        "Some kinds of models found in statsmodels include:\n",
        "- Linear models, generalized linear models, and robust linear models\n",
        "- Linear mixed effects models\n",
        "- Analysis of variance (ANOVA) methods\n",
        "- Time series processes and state space models\n",
        "- Generalized method of moments"
      ]
    },
    {
      "cell_type": "markdown",
      "metadata": {
        "deletable": true,
        "editable": true,
        "id": "AtfNw3ycaNfi"
      },
      "source": [
        "### Estimating Linear Models\n",
        "There are several kinds of linear regression models in statsmodels, from the more\n",
        "basic (e.g., ordinary least squares) to more complex (e.g., iteratively reweighted least\n",
        "squares).\n",
        "\n",
        "Linear models in statsmodels have two different main interfaces: array-based and\n",
        "formula-based. These are accessed through these API module imports:"
      ]
    },
    {
      "cell_type": "code",
      "metadata": {
        "deletable": true,
        "editable": true,
        "id": "GgCXB56JaNfj",
        "colab": {
          "base_uri": "https://localhost:8080/"
        },
        "outputId": "772f7922-a001-41f2-8c16-1e5ca1f810d2"
      },
      "source": [
        "import statsmodels.api as sm\n",
        "import statsmodels.formula.api as smf"
      ],
      "execution_count": null,
      "outputs": [
        {
          "output_type": "stream",
          "name": "stderr",
          "text": [
            "/usr/local/lib/python3.7/dist-packages/statsmodels/tools/_testing.py:19: FutureWarning: pandas.util.testing is deprecated. Use the functions in the public API at pandas.testing instead.\n",
            "  import pandas.util.testing as tm\n"
          ]
        }
      ]
    },
    {
      "cell_type": "markdown",
      "source": [
        "To show how to use these, we generate a linear model from some random data:"
      ],
      "metadata": {
        "id": "U-62fTWd7Uzp"
      }
    },
    {
      "cell_type": "code",
      "metadata": {
        "deletable": true,
        "editable": true,
        "id": "qQ7pd20laNfj"
      },
      "source": [
        "def dnorm(mean, variance, size=1):\n",
        "    if isinstance(size, int):\n",
        "        size = size,\n",
        "    return mean + np.sqrt(variance) * np.random.randn(*size)\n",
        "\n",
        "# For reproducibility\n",
        "np.random.seed(12345)\n",
        "\n",
        "N = 100\n",
        "X = np.c_[dnorm(0, 0.4, size=N),\n",
        "          dnorm(0, 0.6, size=N),\n",
        "          dnorm(0, 0.2, size=N)]\n",
        "eps = dnorm(0, 0.1, size=N)\n",
        "beta = [0.1, 0.3, 0.5]\n",
        "\n",
        "y = np.dot(X, beta) + eps"
      ],
      "execution_count": null,
      "outputs": []
    },
    {
      "cell_type": "markdown",
      "source": [
        "Here, I wrote down the “true” model with known parameters beta. In this case, dnorm\n",
        "is a helper function for generating normally distributed data with a particular mean\n",
        "and variance. So now we have:"
      ],
      "metadata": {
        "id": "EtwO4BoS7bG8"
      }
    },
    {
      "cell_type": "code",
      "metadata": {
        "deletable": true,
        "editable": true,
        "id": "kVUuLZMPaNfk",
        "colab": {
          "base_uri": "https://localhost:8080/"
        },
        "outputId": "5f543a38-0321-4e8f-e357-b704fb54d598"
      },
      "source": [
        "X[:5]\n",
        "y[:5]"
      ],
      "execution_count": null,
      "outputs": [
        {
          "output_type": "execute_result",
          "data": {
            "text/plain": [
              "array([ 0.42786349, -0.67348041, -0.09087764, -0.48949442, -0.12894109])"
            ]
          },
          "metadata": {},
          "execution_count": 4
        }
      ]
    },
    {
      "cell_type": "markdown",
      "source": [
        "A linear model is generally fitted with an intercept term as we saw before with Patsy.\n",
        "The sm.add_constant function can add an intercept column to an existing matrix:"
      ],
      "metadata": {
        "id": "405u128D7gUn"
      }
    },
    {
      "cell_type": "code",
      "metadata": {
        "deletable": true,
        "editable": true,
        "id": "RSZiDWdCaNfk",
        "colab": {
          "base_uri": "https://localhost:8080/"
        },
        "outputId": "9a8c07be-7088-4607-f5b1-163ece321c95"
      },
      "source": [
        "X_model = sm.add_constant(X)\n",
        "X_model[:5]"
      ],
      "execution_count": null,
      "outputs": [
        {
          "output_type": "execute_result",
          "data": {
            "text/plain": [
              "array([[ 1.        , -0.12946849, -1.21275292,  0.50422488],\n",
              "       [ 1.        ,  0.30291036, -0.43574176, -0.25417986],\n",
              "       [ 1.        , -0.32852189, -0.02530153,  0.13835097],\n",
              "       [ 1.        , -0.35147471, -0.71960511, -0.25821463],\n",
              "       [ 1.        ,  1.2432688 , -0.37379916, -0.52262905]])"
            ]
          },
          "metadata": {},
          "execution_count": 5
        }
      ]
    },
    {
      "cell_type": "markdown",
      "source": [
        "The sm.OLS class can fit an ordinary least squares linear regression:"
      ],
      "metadata": {
        "id": "75qc_u3N7Oap"
      }
    },
    {
      "cell_type": "code",
      "metadata": {
        "deletable": true,
        "editable": true,
        "id": "6mbcOSf1aNfk"
      },
      "source": [
        "model = sm.OLS(y, X)"
      ],
      "execution_count": null,
      "outputs": []
    },
    {
      "cell_type": "markdown",
      "source": [
        "The model’s fit method returns a regression results object containing estimated\n",
        "model parameters and other diagnostics:"
      ],
      "metadata": {
        "id": "niJhfRAA70Hf"
      }
    },
    {
      "cell_type": "code",
      "metadata": {
        "deletable": true,
        "editable": true,
        "id": "Z65mCs2GaNfl",
        "colab": {
          "base_uri": "https://localhost:8080/"
        },
        "outputId": "db885072-ea9e-4452-c9bb-75858367118d"
      },
      "source": [
        "results = model.fit()\n",
        "results.params"
      ],
      "execution_count": null,
      "outputs": [
        {
          "output_type": "execute_result",
          "data": {
            "text/plain": [
              "array([0.17826108, 0.22303962, 0.50095093])"
            ]
          },
          "metadata": {},
          "execution_count": 7
        }
      ]
    },
    {
      "cell_type": "code",
      "metadata": {
        "deletable": true,
        "editable": true,
        "id": "eyG9rhwXaNfl",
        "colab": {
          "base_uri": "https://localhost:8080/"
        },
        "outputId": "157e5903-375c-498d-b112-ddedaafed627"
      },
      "source": [
        "print(results.summary())"
      ],
      "execution_count": null,
      "outputs": [
        {
          "output_type": "stream",
          "name": "stdout",
          "text": [
            "                                 OLS Regression Results                                \n",
            "=======================================================================================\n",
            "Dep. Variable:                      y   R-squared (uncentered):                   0.430\n",
            "Model:                            OLS   Adj. R-squared (uncentered):              0.413\n",
            "Method:                 Least Squares   F-statistic:                              24.42\n",
            "Date:                Sat, 16 Apr 2022   Prob (F-statistic):                    7.44e-12\n",
            "Time:                        01:17:49   Log-Likelihood:                         -34.305\n",
            "No. Observations:                 100   AIC:                                      74.61\n",
            "Df Residuals:                      97   BIC:                                      82.42\n",
            "Df Model:                           3                                                  \n",
            "Covariance Type:            nonrobust                                                  \n",
            "==============================================================================\n",
            "                 coef    std err          t      P>|t|      [0.025      0.975]\n",
            "------------------------------------------------------------------------------\n",
            "x1             0.1783      0.053      3.364      0.001       0.073       0.283\n",
            "x2             0.2230      0.046      4.818      0.000       0.131       0.315\n",
            "x3             0.5010      0.080      6.237      0.000       0.342       0.660\n",
            "==============================================================================\n",
            "Omnibus:                        4.662   Durbin-Watson:                   2.201\n",
            "Prob(Omnibus):                  0.097   Jarque-Bera (JB):                4.098\n",
            "Skew:                           0.481   Prob(JB):                        0.129\n",
            "Kurtosis:                       3.243   Cond. No.                         1.74\n",
            "==============================================================================\n",
            "\n",
            "Warnings:\n",
            "[1] Standard Errors assume that the covariance matrix of the errors is correctly specified.\n"
          ]
        }
      ]
    },
    {
      "cell_type": "markdown",
      "source": [
        "The model’s fit method returns a regression results object containing estimated\n",
        "model parameters and other diagnostics:"
      ],
      "metadata": {
        "id": "auiLFR7G8w2A"
      }
    },
    {
      "cell_type": "code",
      "metadata": {
        "deletable": true,
        "editable": true,
        "id": "iSmA-qy6aNfl"
      },
      "source": [
        "data = pd.DataFrame(X, columns=['col0', 'col1', 'col2'])\n",
        "data['y'] = y\n",
        "data[:5]"
      ],
      "execution_count": null,
      "outputs": []
    },
    {
      "cell_type": "code",
      "metadata": {
        "deletable": true,
        "editable": true,
        "id": "6gxvPyAAaNfl"
      },
      "source": [
        "results = smf.ols('y ~ col0 + col1 + col2', data=data).fit()\n",
        "results.params\n",
        "results.tvalues"
      ],
      "execution_count": null,
      "outputs": []
    },
    {
      "cell_type": "code",
      "metadata": {
        "deletable": true,
        "editable": true,
        "id": "XDykmc7UaNfm"
      },
      "source": [
        "results.predict(data[:5])"
      ],
      "execution_count": null,
      "outputs": []
    },
    {
      "cell_type": "markdown",
      "metadata": {
        "deletable": true,
        "editable": true,
        "id": "ydaGKTBcaNfm"
      },
      "source": [
        "### Estimating Time Series Processes\n",
        "Another class of models in statsmodels are for time series analysis. Among these are\n",
        "autoregressive processes, Kalman filtering and other state space models, and multivariate\n",
        "autoregressive models."
      ]
    },
    {
      "cell_type": "code",
      "metadata": {
        "deletable": true,
        "editable": true,
        "id": "41KJ8OZkaNfm"
      },
      "source": [
        "init_x = 4\n",
        "\n",
        "import random\n",
        "values = [init_x, init_x]\n",
        "N = 1000\n",
        "\n",
        "b0 = 0.8\n",
        "b1 = -0.4\n",
        "noise = dnorm(0, 0.1, N)\n",
        "for i in range(N):\n",
        "    new_x = values[-1] * b0 + values[-2] * b1 + noise[i]\n",
        "    values.append(new_x)"
      ],
      "execution_count": null,
      "outputs": []
    },
    {
      "cell_type": "code",
      "metadata": {
        "deletable": true,
        "editable": true,
        "id": "c7i5wsuYaNfn"
      },
      "source": [
        "MAXLAGS = 5\n",
        "model = sm.tsa.AR(values)\n",
        "results = model.fit(MAXLAGS)"
      ],
      "execution_count": null,
      "outputs": []
    },
    {
      "cell_type": "code",
      "metadata": {
        "deletable": true,
        "editable": true,
        "id": "phOkb74maNfn",
        "colab": {
          "base_uri": "https://localhost:8080/"
        },
        "outputId": "dd470c70-3ec7-4d05-b0ef-ded38b61e006"
      },
      "source": [
        "results.params"
      ],
      "execution_count": null,
      "outputs": [
        {
          "output_type": "execute_result",
          "data": {
            "text/plain": [
              "array([-0.00616093,  0.78446347, -0.40847891, -0.01364148,  0.01496872,\n",
              "        0.01429462])"
            ]
          },
          "metadata": {},
          "execution_count": 11
        }
      ]
    },
    {
      "cell_type": "markdown",
      "metadata": {
        "deletable": true,
        "editable": true,
        "id": "aRura0JqaNfn"
      },
      "source": [
        "## Introduction to scikit-learn\n",
        "\n",
        "scikit-learn is one of the most widely used and trusted general-purpose Python\n",
        "machine learning toolkits. It contains a broad selection of standard supervised and\n",
        "unsupervised machine learning methods with tools for model selection and evaluation,\n",
        "data transformation, data loading, and model persistence.\n",
        "\n",
        "These models can be\n",
        "used for classification, clustering, prediction, and other common tasks.\n",
        "There are excellent online and printed resources for learning about machine learning\n",
        "and how to apply libraries like scikit-learn and TensorFlow to solve real-world problems."
      ]
    },
    {
      "cell_type": "code",
      "metadata": {
        "deletable": true,
        "editable": true,
        "id": "x0CJjGY-aNfn"
      },
      "source": [
        "train = pd.read_csv('datasets/titanic/train.csv')\n",
        "test = pd.read_csv('datasets/titanic/test.csv')\n",
        "train[:4]"
      ],
      "execution_count": null,
      "outputs": []
    },
    {
      "cell_type": "code",
      "metadata": {
        "deletable": true,
        "editable": true,
        "id": "sYifq0H4aNfo"
      },
      "source": [
        "train.isnull().sum()\n",
        "test.isnull().sum()"
      ],
      "execution_count": null,
      "outputs": []
    },
    {
      "cell_type": "code",
      "metadata": {
        "deletable": true,
        "editable": true,
        "id": "839XiHcAaNfo"
      },
      "source": [
        "impute_value = train['Age'].median()\n",
        "train['Age'] = train['Age'].fillna(impute_value)\n",
        "test['Age'] = test['Age'].fillna(impute_value)"
      ],
      "execution_count": null,
      "outputs": []
    },
    {
      "cell_type": "code",
      "metadata": {
        "deletable": true,
        "editable": true,
        "id": "MqXpCD-jaNfo"
      },
      "source": [
        "train['IsFemale'] = (train['Sex'] == 'female').astype(int)\n",
        "test['IsFemale'] = (test['Sex'] == 'female').astype(int)"
      ],
      "execution_count": null,
      "outputs": []
    },
    {
      "cell_type": "code",
      "metadata": {
        "deletable": true,
        "editable": true,
        "id": "i8GcEgghaNfp"
      },
      "source": [
        "predictors = ['Pclass', 'IsFemale', 'Age']\n",
        "X_train = train[predictors].values\n",
        "X_test = test[predictors].values\n",
        "y_train = train['Survived'].values\n",
        "X_train[:5]\n",
        "y_train[:5]"
      ],
      "execution_count": null,
      "outputs": []
    },
    {
      "cell_type": "code",
      "metadata": {
        "deletable": true,
        "editable": true,
        "id": "eInrnKf3aNfp"
      },
      "source": [
        "from sklearn.linear_model import LogisticRegression\n",
        "model = LogisticRegression()"
      ],
      "execution_count": null,
      "outputs": []
    },
    {
      "cell_type": "code",
      "metadata": {
        "deletable": true,
        "editable": true,
        "id": "EEhfktAEaNfp"
      },
      "source": [
        "model.fit(X_train, y_train)"
      ],
      "execution_count": null,
      "outputs": []
    },
    {
      "cell_type": "code",
      "metadata": {
        "deletable": true,
        "editable": true,
        "id": "TSePYErZaNfp"
      },
      "source": [
        "y_predict = model.predict(X_test)\n",
        "y_predict[:10]"
      ],
      "execution_count": null,
      "outputs": []
    },
    {
      "cell_type": "markdown",
      "metadata": {
        "deletable": true,
        "editable": true,
        "id": "R9h89GmHaNfq"
      },
      "source": [
        "(y_true == y_predict).mean()"
      ]
    },
    {
      "cell_type": "code",
      "metadata": {
        "deletable": true,
        "editable": true,
        "id": "0E-KrDRaaNfq"
      },
      "source": [
        "from sklearn.linear_model import LogisticRegressionCV\n",
        "model_cv = LogisticRegressionCV(10)\n",
        "model_cv.fit(X_train, y_train)"
      ],
      "execution_count": null,
      "outputs": []
    },
    {
      "cell_type": "code",
      "metadata": {
        "deletable": true,
        "editable": true,
        "id": "l6c-6NXNaNfr"
      },
      "source": [
        "from sklearn.model_selection import cross_val_score\n",
        "model = LogisticRegression(C=10)\n",
        "scores = cross_val_score(model, X_train, y_train, cv=4)\n",
        "scores"
      ],
      "execution_count": null,
      "outputs": []
    },
    {
      "cell_type": "markdown",
      "metadata": {
        "deletable": true,
        "editable": true,
        "id": "cIOSk9O0aNfr"
      },
      "source": [
        "## Continuing Your Education\n",
        "- INFO 213: Data Science Programing II\n",
        "- INFO 323: Cloud Computing and Big Data\n",
        "- DSCI: 371: Recommender Systems\n",
        "- DSCI 471: Applied Deep Learning"
      ]
    },
    {
      "cell_type": "code",
      "metadata": {
        "deletable": true,
        "editable": true,
        "id": "dNCmVQH6aNfr"
      },
      "source": [],
      "execution_count": null,
      "outputs": []
    }
  ]
}