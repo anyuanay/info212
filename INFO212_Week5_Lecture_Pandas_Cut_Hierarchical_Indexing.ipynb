{
  "cells": [
    {
      "cell_type": "markdown",
      "metadata": {
        "id": "view-in-github",
        "colab_type": "text"
      },
      "source": [
        "<a href=\"https://colab.research.google.com/github/anyuanay/info212/blob/main/INFO212_Week5_Lecture_Pandas_Cut_Hierarchical_Indexing.ipynb\" target=\"_parent\"><img src=\"https://colab.research.google.com/assets/colab-badge.svg\" alt=\"Open In Colab\"/></a>"
      ]
    },
    {
      "cell_type": "markdown",
      "metadata": {
        "id": "eUGrgPILIuJI"
      },
      "source": [
        "# INFO 212: Data Science Programming 1\n",
        "___\n",
        "\n",
        "## Week 5: Lecture:\n",
        "### 1. Pandas Cut\n",
        "### 2. Hierarchical Indexing\n",
        "---\n",
        "\n",
        "## Agenda\n",
        "\n",
        "### Cut and Hierarchical Indexing:\n",
        "- pd.cut() for categorization\n",
        "- data.stack()\n",
        "- data.unstack()\n",
        "- frame.swaplevel('key1', 'key2')\n",
        "- frame.sum(level='key2')\n",
        "- frame.sum(level='color', axis=1)\n",
        "- frame.set_index(['c', 'd'])\n",
        "- frame.reset_index()\n",
        "- frame.reindex(['a', 'b'])"
      ]
    },
    {
      "cell_type": "code",
      "execution_count": null,
      "metadata": {
        "id": "iQEew_lmIuJO"
      },
      "outputs": [],
      "source": [
        "# import libraries\n",
        "import pandas as pd\n",
        "import numpy as np\n",
        "import matplotlib.pyplot as plt\n",
        "import seaborn as sns"
      ]
    },
    {
      "cell_type": "markdown",
      "source": [
        "# Pandas cut() function\n",
        "\n",
        "The cut() function in pandas is used to transform continuous data into categorical ones, often referred to as \"binning.\"\n",
        "\n",
        "The key parameters of the cut() function are:\n",
        "- x: Array-like input data.\n",
        "- bins: Defines the bin edges for the segmentation. Can be an int (defining the number of equal-width bins in the range of x) or a sequence of scalars.\n",
        "- right: Bool, default True. Indicates whether the bins include the rightmost edge or not.\n",
        "- labels: Specifies the labels for the returned bins. If set to False, only integer indicators of the bins are returned.\n",
        "- retbins: Bool, default False. Whether to return the bins or not."
      ],
      "metadata": {
        "id": "DN9qDG-vosf5"
      }
    },
    {
      "cell_type": "markdown",
      "source": [
        "```\n",
        "data = {'Name': ['Anna', 'Ben', 'Charlie', 'David', 'Ella', 'Frank', 'Grace', 'Hannah', 'Ivy', 'Jack'],\n",
        "        'Age': [15, 22, 34, 45, 29, 67, 54, 89, 20, 32]}\n",
        "\n",
        "df = pd.DataFrame(data)\n",
        "\n",
        "bins = [0, 18, 35, 50, 70, 100]\n",
        "labels = ['<18', '18-34', '35-49', '50-69', '70+']\n",
        "df['Age Group'] = pd.cut(df['Age'], bins=bins, labels=labels\n",
        "```"
      ],
      "metadata": {
        "id": "1iHZZ1jOp7JR"
      }
    },
    {
      "cell_type": "markdown",
      "source": [
        "We can assign custom labels to the bins:\n",
        "\n",
        "```\n",
        "bins = [0, 20, 40, 60, 80, 100]\n",
        "labels = ['Very Young', 'Young', 'Middle Aged', 'Senior', 'Elderly']\n",
        "df['Age Group'] = pd.cut(df['Age'], bins=bins, labels=labels)\n",
        "```\n"
      ],
      "metadata": {
        "id": "nBb6JuegqVAJ"
      }
    },
    {
      "cell_type": "markdown",
      "source": [
        "We can exclude the rightmost edge of the bin:\n",
        "\n",
        "```\n",
        "bins = [0, 20, 40, 60, 80, 100]\n",
        "df['Age Group'] = pd.cut(df['Age'], bins=bins, right=False)\n",
        "```\n"
      ],
      "metadata": {
        "id": "ft4psga5qmYI"
      }
    },
    {
      "cell_type": "markdown",
      "source": [
        "If we specify an integer for bins, it'll create that many equal-width bins:\n",
        "\n",
        "```\n",
        "df['Age Group'] = pd.cut(df['Age'], bins=5)\n",
        "```\n"
      ],
      "metadata": {
        "id": "0JO9M5BYqwNp"
      }
    },
    {
      "cell_type": "markdown",
      "source": [
        "## Exercise:\n",
        "Load the housing.csv as a DataFrame. Plot the median house price. Categorize the median prices into cheap, regular, and expensive. Plot the distribution of the categories."
      ],
      "metadata": {
        "id": "ra52bHaI34CT"
      }
    },
    {
      "cell_type": "code",
      "source": [],
      "metadata": {
        "id": "lVcGH1WU4-U6"
      },
      "execution_count": null,
      "outputs": []
    },
    {
      "cell_type": "markdown",
      "metadata": {
        "id": "uJJkVl6KIuJf"
      },
      "source": [
        "# Indexing with a DataFrame's columns\n",
        "It’s not unusual to want to use one or more columns from a DataFrame as the row\n",
        "index; alternatively, you may wish to move the row index into the DataFrame’s columns.\n",
        "Here’s an example DataFrame:"
      ]
    },
    {
      "cell_type": "markdown",
      "metadata": {
        "jupyter": {
          "outputs_hidden": true
        },
        "id": "AXwK_wnIIuJf"
      },
      "source": [
        "\n",
        "```\n",
        "frame = pd.DataFrame({'a': range(7), 'b': range(7, 0, -1),\n",
        "                      'c': ['one', 'one', 'one', 'two', 'two',\n",
        "                            'two', 'two'],\n",
        "                      'd': [0, 1, 2, 0, 1, 2, 3]})\n",
        "frame\n",
        "````"
      ]
    },
    {
      "cell_type": "markdown",
      "metadata": {
        "id": "D_TVM8y0IuJg"
      },
      "source": [
        "## set_index() and reset_index()\n",
        "DataFrame’s set_index function will create a new DataFrame using one or more of\n",
        "its columns as the index:\n",
        "\n",
        "```\n",
        "frame.set_index('c')\n",
        "```"
      ]
    },
    {
      "cell_type": "markdown",
      "metadata": {
        "jupyter": {
          "outputs_hidden": true
        },
        "id": "XI5kPWD1IuJg"
      },
      "source": [
        "we can also set multiple columns as index. The result has an **hierarchical index!**\n",
        "```\n",
        "frame2 = frame.set_index(['c', 'd'])\n",
        "frame2\n",
        "```"
      ]
    },
    {
      "cell_type": "markdown",
      "metadata": {
        "id": "xbsD_6MfIuJg"
      },
      "source": [
        "By default the columns are removed from the DataFrame, though you can leave them\n",
        "in:"
      ]
    },
    {
      "cell_type": "markdown",
      "metadata": {
        "jupyter": {
          "outputs_hidden": true
        },
        "id": "KqGBkWxFIuJh"
      },
      "source": [
        "```\n",
        "frame.set_index(['c', 'd'], drop=False)\n",
        "```"
      ]
    },
    {
      "cell_type": "markdown",
      "metadata": {
        "id": "AuXIXmUOIuJh"
      },
      "source": [
        "reset_index, on the other hand, does the opposite of set_index; the hierarchical\n",
        "index levels are moved into the columns:"
      ]
    },
    {
      "cell_type": "markdown",
      "metadata": {
        "id": "_B0R1cxwIuJh"
      },
      "source": [
        "```\n",
        "frame2.reset_index()\n",
        "```"
      ]
    },
    {
      "cell_type": "markdown",
      "source": [
        "## Exercise:\n",
        "For the housing DataFrame, create the column `value_cat` using the categories cheap, regular, and expensive based on the value range in previous exercise. Set the columns `ocean_proximity` and `value_cat` as the index for the DataFrame. To group the houses in `ocean_proximity`, ensure the DataFrame is first sorted on `ocean_proximity`. Store the result in df1."
      ],
      "metadata": {
        "id": "IrVZw_-REgJz"
      }
    },
    {
      "cell_type": "code",
      "source": [],
      "metadata": {
        "id": "h0iRVxCdMGVS"
      },
      "execution_count": null,
      "outputs": []
    },
    {
      "cell_type": "markdown",
      "metadata": {
        "id": "B6UG8PFMIuJV"
      },
      "source": [
        "# Hierarchical Indexing"
      ]
    },
    {
      "cell_type": "markdown",
      "metadata": {
        "id": "cc2Rspl2IuJW"
      },
      "source": [
        "Hierarchical indexing is an important feature of pandas that enables you to have multiple\n",
        "(two or more) index levels on an axis. Somewhat abstractly, it provides a way for\n",
        "you to work with higher dimensional data in a lower dimensional form."
      ]
    },
    {
      "cell_type": "markdown",
      "metadata": {
        "jupyter": {
          "outputs_hidden": true
        },
        "id": "d1RJkb5MIuJW"
      },
      "source": [
        "```\n",
        "frame2\n",
        "```"
      ]
    },
    {
      "cell_type": "markdown",
      "metadata": {
        "id": "uJMRRSHEIuJX"
      },
      "source": [
        "What you’re seeing is a prettified view of a DataFrame with a MultiIndex as its index. The\n",
        "“gaps” in the index display mean “use the label directly above”:"
      ]
    },
    {
      "cell_type": "markdown",
      "metadata": {
        "jupyter": {
          "outputs_hidden": true
        },
        "id": "Hs2Cruq6IuJY"
      },
      "source": [
        "```\n",
        "frame2.index\n",
        "```"
      ]
    },
    {
      "cell_type": "markdown",
      "source": [
        "Hierarchical index has levels. The level numbers start from 0 at outmost and increment inward."
      ],
      "metadata": {
        "id": "90cCrkCFCQbZ"
      }
    },
    {
      "cell_type": "markdown",
      "metadata": {
        "id": "9ckoe9I0IuJY"
      },
      "source": [
        "With a hierarchically indexed object, so-called partial indexing is possible, enabling\n",
        "you to concisely select subsets of the data:"
      ]
    },
    {
      "cell_type": "markdown",
      "metadata": {
        "jupyter": {
          "outputs_hidden": true
        },
        "id": "WhoGkzZoIuJZ"
      },
      "source": [
        "```\n",
        "frame2.loc['one']\n",
        "frame2.loc['one'].iloc[1]\n",
        "```"
      ]
    },
    {
      "cell_type": "code",
      "source": [],
      "metadata": {
        "id": "UWIswrzZGf5I"
      },
      "execution_count": null,
      "outputs": []
    },
    {
      "cell_type": "markdown",
      "source": [
        "## Exercise:\n",
        "Show df1'index and its levels. Select all hourses 'INLAND' and plot the distribution of value_cat for those hourses. Similarly, Select all hourses 'ISLAND' and plot the distribution of value_cat for those hourses."
      ],
      "metadata": {
        "id": "cMqHnCZ6GPMQ"
      }
    },
    {
      "cell_type": "code",
      "source": [],
      "metadata": {
        "id": "4JzWn3jRMYbK"
      },
      "execution_count": null,
      "outputs": []
    },
    {
      "cell_type": "markdown",
      "metadata": {
        "id": "ymDsjWkOIuJa"
      },
      "source": [
        "Hierarchical indexing plays an important role in reshaping data group-based\n",
        "operations like forming a pivot table (next in aggregation). It also provides a convenient way to work with higher dimensional data in a lower dimensional form. For example, we can convert the DataFrame to a 1-D Series.\n",
        "```\n",
        "frame3 = frame2.stack()\n",
        "```"
      ]
    },
    {
      "cell_type": "markdown",
      "metadata": {
        "id": "-Bbbm_KAIuJa"
      },
      "source": [
        "The inverse operation of unstack is stack:"
      ]
    },
    {
      "cell_type": "markdown",
      "metadata": {
        "jupyter": {
          "outputs_hidden": true
        },
        "id": "j1Ig7a5lIuJb"
      },
      "source": [
        "```\n",
        "frame2.stack().unstack()\n",
        "```"
      ]
    },
    {
      "cell_type": "markdown",
      "source": [
        "The DataFrame xs() function takes a key argument to select data at a particular level of a MultiIndex.\n",
        "```\n",
        "frame2.xs(1, level=1)\n",
        "```"
      ],
      "metadata": {
        "id": "YBYHRDAsau-4"
      }
    },
    {
      "cell_type": "markdown",
      "source": [
        "## Exercise:\n",
        "Select all 'expensive' hourses and plot distribution by `ocean_proximity`."
      ],
      "metadata": {
        "id": "4AhO0lzQI9DO"
      }
    },
    {
      "cell_type": "code",
      "source": [],
      "metadata": {
        "id": "blZE_I7eMa3C"
      },
      "execution_count": null,
      "outputs": []
    },
    {
      "cell_type": "markdown",
      "metadata": {
        "id": "889cSGBnIuJe"
      },
      "source": [
        "### Reordering and Sorting Levels\n",
        "At times you will need to rearrange the order of the levels on an axis or sort the data\n",
        "by the values in one specific level. The swaplevel takes two level numbers or names\n",
        "and returns a new object with the levels interchanged (but the data is otherwise\n",
        "unaltered):"
      ]
    },
    {
      "cell_type": "markdown",
      "metadata": {
        "jupyter": {
          "outputs_hidden": true
        },
        "id": "Ttkg1sAQIuJe"
      },
      "source": [
        "```\n",
        "frame2.swaplevel('c', 'd')\n",
        "```"
      ]
    },
    {
      "cell_type": "markdown",
      "metadata": {
        "id": "fpT_3qvzIuJe"
      },
      "source": [
        "sort_index, on the other hand, sorts the data using only the values in a single level.\n",
        "When swapping levels, it’s not uncommon to also use sort_index so that the result is\n",
        "lexicographically sorted by the indicated level:"
      ]
    },
    {
      "cell_type": "markdown",
      "metadata": {
        "jupyter": {
          "outputs_hidden": true
        },
        "id": "UvQ_vu3nIuJf"
      },
      "source": [
        "```\n",
        "frame2.sort_index(level=1)\n",
        "frame2.swaplevel(0, 1).sort_index(level=0)\n",
        "```"
      ]
    },
    {
      "cell_type": "markdown",
      "source": [
        "## Exercise:\n",
        "Swap the index of df1 so that `value_cat` is at the level 0. Ensure the houses are grouped by the value_cat. Select all expensive houses located in INLAND."
      ],
      "metadata": {
        "id": "JWENZBb8JqqX"
      }
    },
    {
      "cell_type": "code",
      "source": [],
      "metadata": {
        "id": "spUylFzAJ5gH"
      },
      "execution_count": null,
      "outputs": []
    }
  ],
  "metadata": {
    "kernelspec": {
      "display_name": "Python 3",
      "language": "python",
      "name": "python3"
    },
    "language_info": {
      "codemirror_mode": {
        "name": "ipython",
        "version": 3
      },
      "file_extension": ".py",
      "mimetype": "text/x-python",
      "name": "python",
      "nbconvert_exporter": "python",
      "pygments_lexer": "ipython3",
      "version": "3.7.6"
    },
    "colab": {
      "provenance": [],
      "include_colab_link": true
    }
  },
  "nbformat": 4,
  "nbformat_minor": 0
}