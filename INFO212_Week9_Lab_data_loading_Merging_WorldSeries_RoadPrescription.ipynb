{
  "nbformat": 4,
  "nbformat_minor": 0,
  "metadata": {
    "kernelspec": {
      "display_name": "Python 3",
      "language": "python",
      "name": "python3"
    },
    "language_info": {
      "codemirror_mode": {
        "name": "ipython",
        "version": 3
      },
      "file_extension": ".py",
      "mimetype": "text/x-python",
      "name": "python",
      "nbconvert_exporter": "python",
      "pygments_lexer": "ipython3",
      "version": "3.7.1"
    },
    "colab": {
      "provenance": [],
      "include_colab_link": true
    }
  },
  "cells": [
    {
      "cell_type": "markdown",
      "metadata": {
        "id": "view-in-github",
        "colab_type": "text"
      },
      "source": [
        "<a href=\"https://colab.research.google.com/github/anyuanay/info212/blob/main/INFO212_Week9_Lab_data_loading_Merging_WorldSeries_RoadPrescription.ipynb\" target=\"_parent\"><img src=\"https://colab.research.google.com/assets/colab-badge.svg\" alt=\"Open In Colab\"/></a>"
      ]
    },
    {
      "cell_type": "markdown",
      "metadata": {
        "id": "aWL1iSNqF4kn"
      },
      "source": [
        "# INFO 212: Data Science Programming 1\n",
        "## CCI at Drexel University\n",
        "\n",
        "\n",
        "## Week 9: Lab: Data Loading and Merging\n"
      ]
    },
    {
      "cell_type": "code",
      "source": [
        "import pandas as pd\n",
        "import numpy as np\n",
        "import matplotlib.pyplot as plt\n",
        "import seaborn as sns"
      ],
      "metadata": {
        "id": "dkxk2ySSIlv7"
      },
      "execution_count": null,
      "outputs": []
    },
    {
      "cell_type": "markdown",
      "metadata": {
        "id": "_9alPk73F4ku"
      },
      "source": [
        "## Exercise 1"
      ]
    },
    {
      "cell_type": "markdown",
      "metadata": {
        "id": "bjeAepSIRxRI"
      },
      "source": [
        "1: Read in the tables from the Wikipedia page about World Series champions: https://en.wikipedia.org/wiki/List_of_World_Series_champions"
      ]
    },
    {
      "cell_type": "code",
      "source": [],
      "metadata": {
        "id": "CMAW5YHzr5NY"
      },
      "execution_count": null,
      "outputs": []
    },
    {
      "cell_type": "markdown",
      "source": [
        "2: How many tables have you read in? List the columns of the table containing the world series results."
      ],
      "metadata": {
        "id": "RPAiydb8RxRL"
      }
    },
    {
      "cell_type": "code",
      "source": [],
      "metadata": {
        "id": "TvJPQQ3xr6Jf"
      },
      "execution_count": null,
      "outputs": []
    },
    {
      "cell_type": "markdown",
      "source": [
        "3: List all the world series records that a team from Philadelphia played.  "
      ],
      "metadata": {
        "id": "whdciWNbCTJf"
      }
    },
    {
      "cell_type": "code",
      "source": [],
      "metadata": {
        "id": "OVmoxKLur61l"
      },
      "execution_count": null,
      "outputs": []
    },
    {
      "cell_type": "markdown",
      "source": [
        "4: What is the winning probability of the Phillies?"
      ],
      "metadata": {
        "id": "KaeXruD9Dho2"
      }
    },
    {
      "cell_type": "code",
      "source": [],
      "metadata": {
        "id": "XXCRrzcsr73y"
      },
      "execution_count": null,
      "outputs": []
    },
    {
      "cell_type": "markdown",
      "source": [
        "# Exercise 2"
      ],
      "metadata": {
        "id": "_YaTy4PEE7C_"
      }
    },
    {
      "cell_type": "markdown",
      "source": [
        "1: Read in the roam_prescription_based_prediction.jsonl using Pandas. This is the dataset used in the Roam blog post Prescription-based prediction. The file is in JSONL format (one JSON record per line). Show the size of the data, columns, etc."
      ],
      "metadata": {
        "id": "BQ_7cK7hGs6O"
      }
    },
    {
      "cell_type": "code",
      "source": [],
      "metadata": {
        "id": "IxIlx9-wr-so"
      },
      "execution_count": null,
      "outputs": []
    },
    {
      "cell_type": "markdown",
      "source": [
        "2: Extract the first 10,000 provider information as a DataFrame called `providers`. Set the index to be the npi."
      ],
      "metadata": {
        "id": "y69UWmauIJZ0"
      }
    },
    {
      "cell_type": "code",
      "source": [],
      "metadata": {
        "id": "X6l7QRQhsArY"
      },
      "execution_count": null,
      "outputs": []
    },
    {
      "cell_type": "markdown",
      "source": [
        "3: Extract first 10,000 prescription counts as a DataFrame called `pres`. Set the index to be the npi."
      ],
      "metadata": {
        "id": "hcllNVC0Jaa-"
      }
    },
    {
      "cell_type": "code",
      "source": [],
      "metadata": {
        "id": "xR5MmgC4sBLN"
      },
      "execution_count": null,
      "outputs": []
    },
    {
      "cell_type": "markdown",
      "source": [
        "4: Join `providers` with `pres` on npi. Extract the providers' info\n",
        "\n",
        "*   List item\n",
        "*   List item\n",
        "\n",
        "who prescribed the most number of DIAZEPAM."
      ],
      "metadata": {
        "id": "i5UzpLjtHA0R"
      }
    },
    {
      "cell_type": "code",
      "source": [],
      "metadata": {
        "id": "bBUinP0RsBvK"
      },
      "execution_count": null,
      "outputs": []
    }
  ]
}