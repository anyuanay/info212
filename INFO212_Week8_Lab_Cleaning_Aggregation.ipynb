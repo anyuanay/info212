{
  "nbformat": 4,
  "nbformat_minor": 0,
  "metadata": {
    "kernelspec": {
      "display_name": "Python 3",
      "language": "python",
      "name": "python3"
    },
    "language_info": {
      "codemirror_mode": {
        "name": "ipython",
        "version": 3
      },
      "file_extension": ".py",
      "mimetype": "text/x-python",
      "name": "python",
      "nbconvert_exporter": "python",
      "pygments_lexer": "ipython3",
      "version": "3.7.1"
    },
    "colab": {
      "provenance": [],
      "include_colab_link": true
    }
  },
  "cells": [
    {
      "cell_type": "markdown",
      "metadata": {
        "id": "view-in-github",
        "colab_type": "text"
      },
      "source": [
        "<a href=\"https://colab.research.google.com/github/anyuanay/info212/blob/main/INFO212_Week8_Lab_Cleaning_Aggregation.ipynb\" target=\"_parent\"><img src=\"https://colab.research.google.com/assets/colab-badge.svg\" alt=\"Open In Colab\"/></a>"
      ]
    },
    {
      "cell_type": "markdown",
      "metadata": {
        "id": "aWL1iSNqF4kn"
      },
      "source": [
        "# INFO 212: Data Science Programming 1\n",
        "## CCI at Drexel University\n",
        "\n",
        "\n",
        "## Week 8 Lab : Cleaning and Aggregation\n"
      ]
    },
    {
      "cell_type": "code",
      "source": [
        "import pandas as pd\n",
        "import numpy as np\n",
        "import matplotlib.pyplot as plt\n",
        "import seaborn as sns"
      ],
      "metadata": {
        "id": "ceh3U4Tl0fTL"
      },
      "execution_count": null,
      "outputs": []
    },
    {
      "cell_type": "markdown",
      "source": [
        "## Exercise 1"
      ],
      "metadata": {
        "id": "9xJvkSWVuEF9"
      }
    },
    {
      "cell_type": "markdown",
      "source": [
        "1. Download and upload the nba-2016.csv. Create a DataFrame df from the data set. Show information of the DataFrame."
      ],
      "metadata": {
        "id": "dwz5-9J7uB6x"
      }
    },
    {
      "cell_type": "code",
      "source": [],
      "metadata": {
        "id": "eOjNIrv5GPoL"
      },
      "execution_count": null,
      "outputs": []
    },
    {
      "cell_type": "markdown",
      "source": [
        "2. Does the dataset have mssing values? Compute the percentage of missing values overall."
      ],
      "metadata": {
        "id": "9r3suT-36fgP"
      }
    },
    {
      "cell_type": "code",
      "source": [],
      "metadata": {
        "id": "2a17-UGl6sUT"
      },
      "execution_count": null,
      "outputs": []
    },
    {
      "cell_type": "markdown",
      "source": [
        "3. List the number and percentage of missing values for each row."
      ],
      "metadata": {
        "id": "yr7tQZ8I6uL0"
      }
    },
    {
      "cell_type": "code",
      "source": [],
      "metadata": {
        "id": "yG9KBOQe6su-"
      },
      "execution_count": null,
      "outputs": []
    },
    {
      "cell_type": "markdown",
      "source": [
        "4. List the number and percentage of missing values for each column."
      ],
      "metadata": {
        "id": "yX3oGTZw64rf"
      }
    },
    {
      "cell_type": "code",
      "source": [],
      "metadata": {
        "id": "qcY2EH1U6-Qf"
      },
      "execution_count": null,
      "outputs": []
    },
    {
      "cell_type": "markdown",
      "source": [
        "5. If there are missing values for a column, forward fill the missing values. Does it make sense to forward or backward fill the missing values for each row?"
      ],
      "metadata": {
        "id": "oCaZ4Haq7JAA"
      }
    },
    {
      "cell_type": "code",
      "source": [],
      "metadata": {
        "id": "y3XAH7H-8GkZ"
      },
      "execution_count": null,
      "outputs": []
    },
    {
      "cell_type": "markdown",
      "source": [
        "6. Group by the Visitor/Neutral teams. Compute the aveage points (PTS) for each team playing as visiting team."
      ],
      "metadata": {
        "id": "R-EkThQluo4H"
      }
    },
    {
      "cell_type": "code",
      "source": [],
      "metadata": {
        "id": "M4qAt722GTF7"
      },
      "execution_count": null,
      "outputs": []
    },
    {
      "cell_type": "markdown",
      "source": [
        "7. Add a new column 'VisitorWon' which has True for the Visiting team won and False otherwise."
      ],
      "metadata": {
        "id": "kpsHX6Nxv0Uu"
      }
    },
    {
      "cell_type": "code",
      "source": [],
      "metadata": {
        "id": "2lkfaO5AGVHZ"
      },
      "execution_count": null,
      "outputs": []
    },
    {
      "cell_type": "markdown",
      "source": [
        "8. Compute the rate of VisitorWon for each team playing away during the 2016 season, in descending order."
      ],
      "metadata": {
        "id": "xhAzO3W9whAl"
      }
    },
    {
      "cell_type": "code",
      "source": [],
      "metadata": {
        "id": "bEOGsemHGXZ5"
      },
      "execution_count": null,
      "outputs": []
    },
    {
      "cell_type": "markdown",
      "source": [
        "9. Define a function 'top' that returns the top two rows based on a given col value. List each team's top 2 winning visiting games in which the team got top 2 highest points. Order the results by team names."
      ],
      "metadata": {
        "id": "26_L9FB6yGWk"
      }
    },
    {
      "cell_type": "code",
      "source": [],
      "metadata": {
        "id": "IsJujYF_GalQ"
      },
      "execution_count": null,
      "outputs": []
    },
    {
      "cell_type": "markdown",
      "source": [
        "## Exercise 2"
      ],
      "metadata": {
        "id": "rMfpkRGjCs3r"
      }
    },
    {
      "cell_type": "markdown",
      "source": [
        "1. Download and upload the Cleaned_Laptop_data.csv. Create a DataFrame df from the data set. Show information of the DataFrame."
      ],
      "metadata": {
        "id": "ovNrTgXwCuhC"
      }
    },
    {
      "cell_type": "code",
      "source": [],
      "metadata": {
        "id": "tFoLDrcYGcTA"
      },
      "execution_count": null,
      "outputs": []
    },
    {
      "cell_type": "markdown",
      "source": [
        "2. Forward fill missing values for each column. Ensure there is no missing value after the filling."
      ],
      "metadata": {
        "id": "_U7joBHE7kJy"
      }
    },
    {
      "cell_type": "code",
      "source": [],
      "metadata": {
        "id": "O0j3QsgU7pbS"
      },
      "execution_count": null,
      "outputs": []
    },
    {
      "cell_type": "markdown",
      "source": [
        "3. Create a pivot table containing the means of latest_price and ratings indexed by brand, model, and os. Put os on columns and also compute the margins."
      ],
      "metadata": {
        "id": "TCG8y9p4DE-L"
      }
    },
    {
      "cell_type": "code",
      "source": [],
      "metadata": {
        "id": "x99kSG2fGfqh"
      },
      "execution_count": null,
      "outputs": []
    },
    {
      "cell_type": "markdown",
      "source": [
        "4. Using pd.crosstab() to compute the numbers of laptops by brand and os."
      ],
      "metadata": {
        "id": "CQR2fSaBDnLL"
      }
    },
    {
      "cell_type": "code",
      "source": [],
      "metadata": {
        "id": "QVhgaoIYDsDB"
      },
      "execution_count": null,
      "outputs": []
    }
  ]
}