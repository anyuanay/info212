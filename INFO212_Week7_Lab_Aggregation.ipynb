{
  "nbformat": 4,
  "nbformat_minor": 0,
  "metadata": {
    "kernelspec": {
      "display_name": "Python 3",
      "language": "python",
      "name": "python3"
    },
    "language_info": {
      "codemirror_mode": {
        "name": "ipython",
        "version": 3
      },
      "file_extension": ".py",
      "mimetype": "text/x-python",
      "name": "python",
      "nbconvert_exporter": "python",
      "pygments_lexer": "ipython3",
      "version": "3.7.1"
    },
    "colab": {
      "provenance": [],
      "include_colab_link": true
    }
  },
  "cells": [
    {
      "cell_type": "markdown",
      "metadata": {
        "id": "view-in-github",
        "colab_type": "text"
      },
      "source": [
        "<a href=\"https://colab.research.google.com/github/anyuanay/info212/blob/main/INFO212_Week7_Lab_Aggregation.ipynb\" target=\"_parent\"><img src=\"https://colab.research.google.com/assets/colab-badge.svg\" alt=\"Open In Colab\"/></a>"
      ]
    },
    {
      "cell_type": "markdown",
      "metadata": {
        "id": "aWL1iSNqF4kn"
      },
      "source": [
        "# INFO 212: Data Science Programming 1\n",
        "## CCI at Drexel University\n",
        "\n",
        "\n",
        "## Lab: Aggregation\n"
      ]
    },
    {
      "cell_type": "markdown",
      "source": [
        "## What to do:\n",
        "- Answer each question individually.\n",
        "- Comment on each single statement.\n",
        "- Each missing comment will be penalized by 1 point.\n",
        "- Verify the code by showing meaningful results."
      ],
      "metadata": {
        "id": "xB2CNMx2CZGV"
      }
    },
    {
      "cell_type": "code",
      "source": [
        "import pandas as pd\n",
        "import numpy as np\n",
        "import matplotlib.pyplot as plt\n",
        "import seaborn as sns"
      ],
      "metadata": {
        "id": "8qmCstinKCwj"
      },
      "execution_count": null,
      "outputs": []
    },
    {
      "cell_type": "markdown",
      "source": [
        "## Exercise 1\n",
        "For the following analysis tasks. feel free to use visualization to illustrate the results."
      ],
      "metadata": {
        "id": "0I9vgb0_uGxm"
      }
    },
    {
      "cell_type": "markdown",
      "source": [
        "1. Download and upload the train.csv. Create a DataFrame df from the data set. Show information of the DataFrame."
      ],
      "metadata": {
        "id": "1fDoqVCT4XQB"
      }
    },
    {
      "cell_type": "code",
      "source": [],
      "metadata": {
        "id": "BvTmwlcOKBf9"
      },
      "execution_count": null,
      "outputs": []
    },
    {
      "cell_type": "markdown",
      "source": [
        "2. The Survived column has binary values 1 and 0. Compute the average Survived rate grouped by Pclass in ascending order. Discuss insights you can draw from the results."
      ],
      "metadata": {
        "id": "6-2Sr_SR4zzO"
      }
    },
    {
      "cell_type": "code",
      "source": [],
      "metadata": {
        "id": "BgWCbxd012sH"
      },
      "execution_count": null,
      "outputs": []
    },
    {
      "cell_type": "markdown",
      "source": [
        "3. The Survived column has binary values 1 and 0. Compute the average Survived rate grouped by Pclass and Cabin. Show the results in Survived rate ascending order within each Pclass group. Discuss insights you can draw from the results."
      ],
      "metadata": {
        "id": "T1KDoZmrdvyI"
      }
    },
    {
      "cell_type": "code",
      "source": [],
      "metadata": {
        "id": "BaKVRuoH15te"
      },
      "execution_count": null,
      "outputs": []
    },
    {
      "cell_type": "markdown",
      "source": [
        "4. Define a function taking a DataFrame, Age column, and index as paramenter. The function categorizes Ages into Young, Middle_aged, and Senior category. Compute the Survived rate for each age group in descending order. Discuss insights you can draw from the results."
      ],
      "metadata": {
        "id": "_Fy8DCfbgenP"
      }
    },
    {
      "cell_type": "code",
      "source": [],
      "metadata": {
        "id": "OIqdCdMSGBtR"
      },
      "execution_count": null,
      "outputs": []
    },
    {
      "cell_type": "markdown",
      "source": [
        "5. Map the Embarked cities as 'S' to 'Southampton', 'C' to 'Cherbourg', 'Q' to 'Queenstown'. Compute the Survived rate by each embarked city using the mapping. Discuss insights you can draw from the results."
      ],
      "metadata": {
        "id": "obR2jwRhnFV3"
      }
    },
    {
      "cell_type": "code",
      "source": [],
      "metadata": {
        "id": "wT39r00RGFlJ"
      },
      "execution_count": null,
      "outputs": []
    },
    {
      "cell_type": "markdown",
      "source": [
        "6. Define a function that computes the peak difference between the maximum and minimum values in an array. Group the data by Pclass and compute the peak difference of Ages for each Pclass group. Show the maximum, minimum, and the difference between max and min. Discuss insights you can draw from the results."
      ],
      "metadata": {
        "id": "RiNcuaCczuP9"
      }
    },
    {
      "cell_type": "code",
      "source": [],
      "metadata": {
        "id": "AdbvCN98zvnM"
      },
      "execution_count": null,
      "outputs": []
    }
  ]
}